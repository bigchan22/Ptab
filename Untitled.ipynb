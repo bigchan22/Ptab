{
 "cells": [
  {
   "cell_type": "code",
   "execution_count": 1,
   "id": "f05fa598",
   "metadata": {},
   "outputs": [],
   "source": [
    "from BH.data_loader import *\n",
    "from BH.generate_data import *\n",
    "DIR_PATH = '/Data/Ptab/n=5_2row'\n",
    "generate_data_PTabs_v2(DIR_PATH, 5,(is_2row,is_3col,),)"
   ]
  },
  {
   "cell_type": "code",
   "execution_count": null,
   "id": "00f940f0",
   "metadata": {},
   "outputs": [],
   "source": []
  }
 ],
 "metadata": {
  "kernelspec": {
   "display_name": "Python [conda env:mpnn] *",
   "language": "python",
   "name": "conda-env-mpnn-py"
  },
  "language_info": {
   "codemirror_mode": {
    "name": "ipython",
    "version": 3
   },
   "file_extension": ".py",
   "mimetype": "text/x-python",
   "name": "python",
   "nbconvert_exporter": "python",
   "pygments_lexer": "ipython3",
   "version": "3.11.3"
  }
 },
 "nbformat": 4,
 "nbformat_minor": 5
}
