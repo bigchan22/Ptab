{
 "cells": [
  {
   "cell_type": "code",
   "execution_count": 1,
   "id": "da3159fa",
   "metadata": {},
   "outputs": [
    {
     "name": "stderr",
     "output_type": "stream",
     "text": [
      "<frozen importlib._bootstrap>:228: RuntimeWarning: scipy._lib.messagestream.MessageStream size changed, may indicate binary incompatibility. Expected 56 from C header, got 64 from PyObject\n",
      "/root/anaconda3/envs/mpnn/lib/python3.9/site-packages/tqdm/auto.py:21: TqdmWarning: IProgress not found. Please update jupyter and ipywidgets. See https://ipywidgets.readthedocs.io/en/stable/user_install.html\n",
      "  from .autonotebook import tqdm as notebook_tqdm\n"
     ]
    },
    {
     "name": "stdout",
     "output_type": "stream",
     "text": [
      "Loading input data...\n",
      "Generating data from the directory /Data/Ptab/n=5_2row\n"
     ]
    }
   ],
   "source": [
    "import functools\n",
    "import enum\n",
    "import os\n",
    "\n",
    "from BH.data_loader import *\n",
    "from BH.generate_data import *\n",
    "from training_info import *\n",
    "# from Model_e import Model_e,Direction,Reduction\n",
    "from Train import train,print_accuracies\n",
    "from torch_geometric.loader import DataLoader\n",
    "\n",
    "\n",
    "os.environ[\"CUDA_VISIBLE_DEVICES\"] = \"0\"\n",
    "device =\"cuda:0\"\n",
    "use_pretrained_weights = True  #@param{type:\"boolean\"}\n",
    "hold_graphs_in_memory = False  #@param{type:\"boolean\"}\n",
    "\n",
    "gb = 1024**3\n",
    "total_memory = psutil.virtual_memory().total / gb\n",
    "if total_memory < 20 and hold_graphs_in_memory:\n",
    "    raise RuntimeError(f\"It is unlikely your machine (with {total_memory}Gb) will have enough memory to complete the colab's execution!\")\n",
    "\n",
    "print(\"Loading input data...\")\n",
    "full_dataset, train_dataset, test_dataset = load_input_data(DIR_PATH)"
   ]
  },
  {
   "cell_type": "code",
   "execution_count": 2,
   "id": "37fa1528",
   "metadata": {},
   "outputs": [],
   "source": [
    "from torch_geometric.data import Data\n",
    "from torch.utils.data import Dataset\n",
    "from torch_geometric.loader import DataLoader\n",
    "import torch\n",
    "class CustomDataset(Dataset):\n",
    "    def __init__(self, input_data):\n",
    "        self.features = input_data.features\n",
    "        self.labels = input_data.labels\n",
    "        self.rows = input_data.rows\n",
    "        self.cols = input_data.columns\n",
    "        self.edge_types = input_data.edge_types\n",
    "\n",
    "    def __len__(self):\n",
    "        return len(self.features)\n",
    "\n",
    "    def __getitem__(self, idx):\n",
    "        edge_index = torch.tensor([self.rows[idx], self.cols[idx]], dtype=torch.long)\n",
    "        return Data(x=torch.from_numpy(self.features[idx]).float(), edge_index=edge_index, \n",
    "             edge_types = torch.tensor(self.edge_types[idx][:, np.newaxis], dtype=torch.float),\n",
    "             y=torch.from_numpy(np.array(self.labels[idx])))"
   ]
  },
  {
   "cell_type": "code",
   "execution_count": 3,
   "id": "5f740120",
   "metadata": {},
   "outputs": [],
   "source": [
    "node_dim=64\n",
    "edge_dim=8\n",
    "graph_deg=5\n",
    "batch_size=32\n",
    "\n",
    "test_dataset = CustomDataset(test_dataset)\n",
    "test_loader = DataLoader(test_dataset, batch_size=32, shuffle=True)\n",
    "\n",
    "train_dataset = CustomDataset(train_dataset)\n",
    "train_loader = DataLoader(train_dataset, batch_size=32, shuffle=True)"
   ]
  },
  {
   "cell_type": "code",
   "execution_count": 4,
   "id": "0c49daf1",
   "metadata": {},
   "outputs": [],
   "source": [
    "import torch\n",
    "import torch.nn.functional as F\n",
    "from torch_geometric.nn import GATv2Conv,GCNConv\n",
    "\n",
    "\n",
    "class GCN_single(torch.nn.Module):\n",
    "    def __init__(self,num_edge_types,depth):\n",
    "        super().__init__()\n",
    "        self.num_edge_types= num_edge_types\n",
    "        self.depth=depth\n",
    "        self.node_linear = torch.nn.Linear(1,node_dim)\n",
    "        self.edge_linear = torch.nn.Linear(1,edge_dim)\n",
    "        self.conv1 = GCNConv(node_dim, node_dim)\n",
    "        self.conv2 = GCNConv(node_dim, node_dim)\n",
    "        self.conv3 = GCNConv(node_dim, node_dim)\n",
    "        self.conv4 = GCNConv(node_dim, node_dim)\n",
    "        \n",
    "        self.out1 = torch.nn.Linear(node_dim,node_dim)\n",
    "        self.out2 = torch.nn.Linear(node_dim,1)\n",
    "        self.initialize_parameters()\n",
    "\n",
    "    def initialize_parameters(self):\n",
    "        for module in self.modules():\n",
    "            if isinstance(module, torch.nn.Linear):\n",
    "                torch.nn.init.xavier_uniform_(module.weight)\n",
    "                if module.bias is not None:\n",
    "                    torch.nn.init.zeros_(module.bias)\n",
    "        \n",
    "\n",
    "    def forward(self, data):\n",
    "        x, edge_index, edge_types = data.x, data.edge_index, data.edge_types\n",
    "        x = self.node_linear(x)        \n",
    "        for i in range(self.depth):\n",
    "            mask1 = (edge_types == 1)\n",
    "            edge_index1 = edge_index[:, mask1.squeeze()]\n",
    "            x1 = self.conv1(x, edge_index1)\n",
    "            x1 = F.relu(x1)\n",
    "            \n",
    "            mask2 = (edge_types == 2)\n",
    "            edge_index2 = edge_index[:, mask2.squeeze()]\n",
    "            x2 = self.conv2(x, edge_index2)\n",
    "            x2 = F.relu(x2)\n",
    "            \n",
    "            mask3 = (edge_types == 3)\n",
    "            edge_index3 = edge_index[:, mask3.squeeze()]\n",
    "            x3 = self.conv3(x, edge_index3)\n",
    "            x3 = F.relu(x3)\n",
    "            \n",
    "            mask4 = (edge_types == 4)\n",
    "            edge_index4 = edge_index[:, mask4.squeeze()]\n",
    "            x4 = self.conv4(x, edge_index4)\n",
    "            x4 = F.relu(x4)\n",
    "            \n",
    "            x = x1+x2+x3+x4\n",
    "            x = F.relu(x)\n",
    "        xx = torch.reshape(x,(-1,graph_deg,node_dim))\n",
    "        xxx,_ = torch.max(xx,dim=1)\n",
    "        xxx = self.out1(xxx)\n",
    "        xxx = self.out2(xxx)\n",
    "        \n",
    "        return xxx\n",
    "#         return F.log_softmax(xxx, dim=1)\n",
    "    \n",
    "class GCN_multi(torch.nn.Module):\n",
    "    def __init__(self):\n",
    "        super().__init__()\n",
    "        self.num_edge_types=4\n",
    "        self.depth =5\n",
    "        self.GCN_single = GCN_single(self.num_edge_types, self.depth)        \n",
    "\n",
    "    def forward(self, data,T=1):\n",
    "        batch = data.batch\n",
    "        batch = batch[::5]\n",
    "        x = self.GCN_single(data)\n",
    "        x=torch.sigmoid(x/T)\n",
    "        unique_batches = torch.unique(batch)\n",
    "        \n",
    "        sums_tensor = torch.zeros(len(unique_batches), requires_grad=True)\n",
    "\n",
    "        # Loop over unique batches and add elements of 'x' within each batch directly to sums_tensor\n",
    "        for i, ub in enumerate(unique_batches):\n",
    "            sums_tensor[i] = x[batch == ub].sum()\n",
    "\n",
    "#         print(sums_tensor)\n",
    "        \n",
    "#         unique_batches = torch.unique(batch)\n",
    "#         sums = []\n",
    "#         for ub in unique_batches:\n",
    "#             sums.append(x[batch == ub].sum())\n",
    "\n",
    "#         # Convert list of sums to tensor\n",
    "#         sums_tensor = torch.tensor(sums)\n",
    "        \n",
    "        return sums_tensor"
   ]
  },
  {
   "cell_type": "code",
   "execution_count": 5,
   "id": "8a1552e4",
   "metadata": {},
   "outputs": [],
   "source": [
    "device = torch.device('cuda' if torch.cuda.is_available() else 'cpu')\n",
    "# model = pastGCN().to(device)\n",
    "model = GCN_multi().to(device)\n",
    "# data = batch.to(device)\n",
    "# torch.nn.init.xavier_normal(model)\n",
    "loss_function = torch.nn.CrossEntropyLoss()\n",
    "loss_function = torch.nn.MSELoss()\n",
    "optimizer = torch.optim.Adam(model.parameters(), lr=0.001, weight_decay=5e-4)"
   ]
  },
  {
   "cell_type": "code",
   "execution_count": 6,
   "id": "37c413f1",
   "metadata": {},
   "outputs": [
    {
     "name": "stderr",
     "output_type": "stream",
     "text": [
      "/tmp/ipykernel_3788431/1906490525.py:17: UserWarning: Creating a tensor from a list of numpy.ndarrays is extremely slow. Please consider converting the list to a single numpy.ndarray with numpy.array() before converting to a tensor. (Triggered internally at  /croot/pytorch_1675190298929/work/torch/csrc/utils/tensor_new.cpp:201.)\n",
      "  edge_index = torch.tensor([self.rows[idx], self.cols[idx]], dtype=torch.long)\n"
     ]
    },
    {
     "data": {
      "text/plain": [
       "tensor(0)"
      ]
     },
     "execution_count": 6,
     "metadata": {},
     "output_type": "execute_result"
    }
   ],
   "source": [
    "test_dataset[2].y"
   ]
  },
  {
   "cell_type": "code",
   "execution_count": 7,
   "id": "49c96c6a",
   "metadata": {},
   "outputs": [
    {
     "data": {
      "text/plain": [
       "tensor([[ 0,  0,  0,  0,  0,  1,  1,  1,  1,  2,  2,  2,  3,  3,  4,  5,  5,  5,\n",
       "          5,  5,  6,  6,  6,  6,  7,  7,  7,  8,  8,  9, 10, 10, 10, 10, 10, 11,\n",
       "         11, 11, 11, 12, 12, 12, 13, 13, 14],\n",
       "        [ 0,  1,  2,  3,  4,  1,  2,  3,  4,  2,  3,  4,  3,  4,  4,  5,  6,  7,\n",
       "          8,  9,  6,  7,  8,  9,  7,  8,  9,  8,  9,  9, 10, 11, 12, 13, 14, 11,\n",
       "         12, 13, 14, 12, 13, 14, 13, 14, 14]])"
      ]
     },
     "execution_count": 7,
     "metadata": {},
     "output_type": "execute_result"
    }
   ],
   "source": [
    "test_dataset[2].edge_index"
   ]
  },
  {
   "cell_type": "code",
   "execution_count": 8,
   "id": "ee3c954a",
   "metadata": {},
   "outputs": [
    {
     "name": "stdout",
     "output_type": "stream",
     "text": [
      "DataBatch(x=[240, 1], edge_index=[2, 720], y=[32], edge_types=[720, 1], batch=[240], ptr=[33])\n"
     ]
    }
   ],
   "source": [
    "for data in test_loader:\n",
    "    break\n",
    "print(data)"
   ]
  },
  {
   "cell_type": "code",
   "execution_count": 9,
   "id": "f4b2df81",
   "metadata": {},
   "outputs": [
    {
     "data": {
      "text/plain": [
       "tensor([ 0,  1,  2,  3,  4,  4,  5,  6,  7,  7,  7,  8,  8,  8,  9, 10, 10, 11,\n",
       "        12, 13, 14, 14, 14, 15, 16, 17, 17, 18, 19, 20, 21, 21, 21, 22, 23, 24,\n",
       "        25, 26, 26, 27, 27, 27, 28, 29, 29, 29, 30, 31])"
      ]
     },
     "execution_count": 9,
     "metadata": {},
     "output_type": "execute_result"
    }
   ],
   "source": [
    "data.batch[::5]"
   ]
  },
  {
   "cell_type": "code",
   "execution_count": 10,
   "id": "21ac9cf8",
   "metadata": {
    "scrolled": true
   },
   "outputs": [
    {
     "ename": "NameError",
     "evalue": "name 'unique_batches' is not defined",
     "output_type": "error",
     "traceback": [
      "\u001b[0;31m---------------------------------------------------------------------------\u001b[0m",
      "\u001b[0;31mNameError\u001b[0m                                 Traceback (most recent call last)",
      "Cell \u001b[0;32mIn[10], line 8\u001b[0m\n\u001b[1;32m      6\u001b[0m batch\u001b[38;5;241m.\u001b[39mto(device)\n\u001b[1;32m      7\u001b[0m optimizer\u001b[38;5;241m.\u001b[39mzero_grad()\n\u001b[0;32m----> 8\u001b[0m out \u001b[38;5;241m=\u001b[39m \u001b[43mmodel\u001b[49m\u001b[43m(\u001b[49m\u001b[43mbatch\u001b[49m\u001b[43m)\u001b[49m\n\u001b[1;32m      9\u001b[0m loss \u001b[38;5;241m=\u001b[39m loss_function(out, batch\u001b[38;5;241m.\u001b[39my)\n\u001b[1;32m     10\u001b[0m loss\u001b[38;5;241m.\u001b[39mbackward()\n",
      "File \u001b[0;32m~/anaconda3/envs/mpnn/lib/python3.9/site-packages/torch/nn/modules/module.py:1130\u001b[0m, in \u001b[0;36mModule._call_impl\u001b[0;34m(self, *input, **kwargs)\u001b[0m\n\u001b[1;32m   1126\u001b[0m \u001b[38;5;66;03m# If we don't have any hooks, we want to skip the rest of the logic in\u001b[39;00m\n\u001b[1;32m   1127\u001b[0m \u001b[38;5;66;03m# this function, and just call forward.\u001b[39;00m\n\u001b[1;32m   1128\u001b[0m \u001b[38;5;28;01mif\u001b[39;00m \u001b[38;5;129;01mnot\u001b[39;00m (\u001b[38;5;28mself\u001b[39m\u001b[38;5;241m.\u001b[39m_backward_hooks \u001b[38;5;129;01mor\u001b[39;00m \u001b[38;5;28mself\u001b[39m\u001b[38;5;241m.\u001b[39m_forward_hooks \u001b[38;5;129;01mor\u001b[39;00m \u001b[38;5;28mself\u001b[39m\u001b[38;5;241m.\u001b[39m_forward_pre_hooks \u001b[38;5;129;01mor\u001b[39;00m _global_backward_hooks\n\u001b[1;32m   1129\u001b[0m         \u001b[38;5;129;01mor\u001b[39;00m _global_forward_hooks \u001b[38;5;129;01mor\u001b[39;00m _global_forward_pre_hooks):\n\u001b[0;32m-> 1130\u001b[0m     \u001b[38;5;28;01mreturn\u001b[39;00m \u001b[43mforward_call\u001b[49m\u001b[43m(\u001b[49m\u001b[38;5;241;43m*\u001b[39;49m\u001b[38;5;28;43minput\u001b[39;49m\u001b[43m,\u001b[49m\u001b[43m \u001b[49m\u001b[38;5;241;43m*\u001b[39;49m\u001b[38;5;241;43m*\u001b[39;49m\u001b[43mkwargs\u001b[49m\u001b[43m)\u001b[49m\n\u001b[1;32m   1131\u001b[0m \u001b[38;5;66;03m# Do not call functions when jit is used\u001b[39;00m\n\u001b[1;32m   1132\u001b[0m full_backward_hooks, non_full_backward_hooks \u001b[38;5;241m=\u001b[39m [], []\n",
      "Cell \u001b[0;32mIn[4], line 78\u001b[0m, in \u001b[0;36mGCN_multi.forward\u001b[0;34m(self, data, T)\u001b[0m\n\u001b[1;32m     74\u001b[0m x \u001b[38;5;241m=\u001b[39m \u001b[38;5;28mself\u001b[39m\u001b[38;5;241m.\u001b[39mGCN_single(data)\n\u001b[1;32m     75\u001b[0m x\u001b[38;5;241m=\u001b[39mtorch\u001b[38;5;241m.\u001b[39msigmoid(x\u001b[38;5;241m/\u001b[39mT)\n\u001b[0;32m---> 78\u001b[0m sums_tensor \u001b[38;5;241m=\u001b[39m torch\u001b[38;5;241m.\u001b[39mzeros(\u001b[38;5;28mlen\u001b[39m(\u001b[43munique_batches\u001b[49m), requires_grad\u001b[38;5;241m=\u001b[39m\u001b[38;5;28;01mTrue\u001b[39;00m)\n\u001b[1;32m     80\u001b[0m \u001b[38;5;66;03m# Loop over unique batches and add elements of 'x' within each batch directly to sums_tensor\u001b[39;00m\n\u001b[1;32m     81\u001b[0m \u001b[38;5;28;01mfor\u001b[39;00m i, ub \u001b[38;5;129;01min\u001b[39;00m \u001b[38;5;28menumerate\u001b[39m(unique_batches):\n",
      "\u001b[0;31mNameError\u001b[0m: name 'unique_batches' is not defined"
     ]
    }
   ],
   "source": [
    "num_epochs=100\n",
    "for epoch in range(num_epochs):\n",
    "    # Training phase\n",
    "    model.train()\n",
    "    for batch in train_loader:\n",
    "        batch.to(device)\n",
    "        optimizer.zero_grad()\n",
    "        out = model(batch)\n",
    "        loss = loss_function(out, batch.y)\n",
    "        loss.backward()\n",
    "        optimizer.step()\n",
    "    print(loss)\n",
    "    \n",
    "    # Evaluation phase\n",
    "    model.eval()\n",
    "    correct = 0\n",
    "    total = 0\n",
    "    with torch.no_grad():\n",
    "        for batch in train_loader:\n",
    "            batch.to(device)\n",
    "            outputs = model(batch)\n",
    "            _, predicted = torch.max(outputs.data, 1)\n",
    "            total += batch.y.size(0)\n",
    "#             correct += (predicted == batch.y).sum().item()\n",
    "            correct += ((predicted - batch.y)**2<0.1).sum().item()\n",
    "\n",
    "    # Compute accuracy\n",
    "    accuracy = correct / total\n",
    "\n",
    "    print(\"Epoch [{}/{}], Accuracy: {:.2%}\".format(epoch + 1, num_epochs, accuracy))"
   ]
  },
  {
   "cell_type": "code",
   "execution_count": null,
   "id": "aed629b5",
   "metadata": {},
   "outputs": [],
   "source": [
    "loss"
   ]
  },
  {
   "cell_type": "code",
   "execution_count": null,
   "id": "d6e093ce",
   "metadata": {},
   "outputs": [],
   "source": [
    "out.shape"
   ]
  },
  {
   "cell_type": "code",
   "execution_count": null,
   "id": "9fab6e94",
   "metadata": {},
   "outputs": [],
   "source": [
    "test_dataset[0]"
   ]
  },
  {
   "cell_type": "code",
   "execution_count": null,
   "id": "a0b07615",
   "metadata": {},
   "outputs": [],
   "source": [
    "batch.x[0]"
   ]
  },
  {
   "cell_type": "code",
   "execution_count": null,
   "id": "235948f6",
   "metadata": {},
   "outputs": [],
   "source": [
    "batch.y"
   ]
  },
  {
   "cell_type": "code",
   "execution_count": null,
   "id": "5df4d0b3",
   "metadata": {},
   "outputs": [],
   "source": [
    "batch"
   ]
  },
  {
   "cell_type": "code",
   "execution_count": null,
   "id": "8b82c624",
   "metadata": {},
   "outputs": [],
   "source": [
    "model.eval()\n",
    "correct = 0\n",
    "total = 0\n",
    "with torch.no_grad():\n",
    "    for batch in train_loader:\n",
    "        batch.to(device)\n",
    "        outputs = model(batch)\n",
    "        _, predicted = torch.max(outputs.data, 1)\n",
    "        total += batch.y.size(0)\n",
    "        correct += (predicted == batch.y).sum().item()\n",
    "        \n",
    "# Compute accuracy\n",
    "accuracy = correct / total\n",
    "\n",
    "print(\"Epoch [{}/{}], Accuracy: {:.2%}\".format(epoch + 1, num_epochs, accuracy))"
   ]
  },
  {
   "cell_type": "code",
   "execution_count": null,
   "id": "7840b10d",
   "metadata": {},
   "outputs": [],
   "source": [
    "from datetime import datetime\n",
    "current_date = datetime.now().strftime('%Y%m%d')\n",
    "\n",
    "# Define the path to save the model parameters\n",
    "# You might want to modify this to a directory of your choice\n",
    "path = f\"./model_parameters_{current_date}.pth\"\n",
    "\n",
    "# Save the model parameters\n",
    "torch.save(model.state_dict(), path)"
   ]
  }
 ],
 "metadata": {
  "kernelspec": {
   "display_name": "Python [conda env:mpnn]",
   "language": "python",
   "name": "conda-env-mpnn-py"
  },
  "language_info": {
   "codemirror_mode": {
    "name": "ipython",
    "version": 3
   },
   "file_extension": ".py",
   "mimetype": "text/x-python",
   "name": "python",
   "nbconvert_exporter": "python",
   "pygments_lexer": "ipython3",
   "version": "3.9.16"
  }
 },
 "nbformat": 4,
 "nbformat_minor": 5
}
