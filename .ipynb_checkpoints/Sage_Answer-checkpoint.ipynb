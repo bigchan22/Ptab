{
 "cells": [
  {
   "cell_type": "code",
   "execution_count": 1,
   "id": "b5ab5bb0",
   "metadata": {},
   "outputs": [
    {
     "name": "stderr",
     "output_type": "stream",
     "text": [
      "<frozen importlib._bootstrap>:228: RuntimeWarning: scipy._lib.messagestream.MessageStream size changed, may indicate binary incompatibility. Expected 56 from C header, got 64 from PyObject\n",
      "/root/anaconda3/envs/mpnn/lib/python3.9/site-packages/tqdm/auto.py:21: TqdmWarning: IProgress not found. Please update jupyter and ipywidgets. See https://ipywidgets.readthedocs.io/en/stable/user_install.html\n",
      "  from .autonotebook import tqdm as notebook_tqdm\n"
     ]
    }
   ],
   "source": [
    "from predictor import *"
   ]
  },
  {
   "cell_type": "code",
   "execution_count": 2,
   "id": "5acd0105",
   "metadata": {},
   "outputs": [],
   "source": [
    "P=[3,4,4,5,7,7,7]\n",
    "word = [1,3,7,4,6,5,2]\n",
    "words = words_from_orbit(P,word)"
   ]
  },
  {
   "cell_type": "code",
   "execution_count": null,
   "id": "04b1b29b",
   "metadata": {},
   "outputs": [],
   "source": []
  }
 ],
 "metadata": {
  "kernelspec": {
   "display_name": "Python [conda env:mpnn]",
   "language": "python",
   "name": "conda-env-mpnn-py"
  },
  "language_info": {
   "codemirror_mode": {
    "name": "ipython",
    "version": 3
   },
   "file_extension": ".py",
   "mimetype": "text/x-python",
   "name": "python",
   "nbconvert_exporter": "python",
   "pygments_lexer": "ipython3",
   "version": "3.9.16"
  }
 },
 "nbformat": 4,
 "nbformat_minor": 5
}
