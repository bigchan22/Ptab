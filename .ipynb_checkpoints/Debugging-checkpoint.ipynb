{
 "cells": [
  {
   "cell_type": "code",
   "execution_count": 1,
   "id": "7ff80285",
   "metadata": {},
   "outputs": [
    {
     "name": "stderr",
     "output_type": "stream",
     "text": [
      "<frozen importlib._bootstrap>:228: RuntimeWarning: scipy._lib.messagestream.MessageStream size changed, may indicate binary incompatibility. Expected 56 from C header, got 64 from PyObject\n"
     ]
    }
   ],
   "source": [
    "import os\n",
    "from BH.feature_functions import *\n",
    "\n",
    "GPU_NUM = \"0\"\n",
    "num_epochs = 50\n",
    "batch_size = 128\n",
    "\n",
    "use_ppath = False\n",
    "column_info = \"original\"\n",
    "\n",
    "graph_deg = 5\n",
    "num_layers = graph_deg\n",
    "num_features = 256\n",
    "feature_list = {\n",
    "    'constant':    (False, constant_feature),\n",
    "    'column':      (False, column_indicator),\n",
    "    'norm_column': (True, normalized_column_indicator), #   Feauture\n",
    "    'norm_column_rev': (False, normalized_column_rev_indicator),\n",
    "}\n",
    "connected = True\n",
    "UPTO = False\n",
    "\n",
    "direction = \"222\"\n",
    "\n",
    "shape_indicator = {\n",
    "    'all_with_all_row_connectedness_criterion': (False, ),\n",
    "    'all_with_inductive_connectedness_criterion': (True, ),\n",
    "    '2row_less': (False, ),\n",
    "    '2row_less_with_all_row_connectedness_criterion': (False, ),\n",
    "    '2row_less_with_inductive_connectedness_criterion': (False, ),\n",
    "    '3row_less_with_all_row_connectedness_criterion': (False, ),\n",
    "    '3row_less_with_inductive_connectedness_criterion': (False, ),\n",
    "}\n",
    "\n",
    "shape= {\n",
    "    'all': (False, ),# 3개다 \n",
    "    '2row_less': (True, ),\n",
    "    '3row_less': (False, ),\n",
    "}\n",
    "filter_indicator = {\n",
    "    'with_all_row_connectedness_criterion':(False,), \n",
    "    'with_inductive_connectedness_criterion':(False,),\n",
    "}\n",
    "\n",
    "\n",
    "use_pretrained_weights = False\n",
    "save_trained_weights = True\n",
    "\n",
    "step_size = 0.001\n",
    "train_fraction = .8\n",
    "\n",
    "DIR_PATH = f'/Data/Ptab/n={graph_deg}'\n",
    "MODEL_DIR = './trained_models'\n",
    "MODEL_FILE = os.path.join(MODEL_DIR, f'parameters_{graph_deg}_{num_layers}_{num_features}')\n",
    "\n",
    "for key in shape_indicator:\n",
    "    if shape_indicator[key][0] == True:\n",
    "        DIR_PATH += f'_{key}'\n",
    "        MODEL_FILE += f'_{key}'\n",
    "\n",
    "\n",
    "if connected == True:\n",
    "    DIR_PATH += \"_connected\"\n",
    "    MODEL_FILE += \"_connected\"\n",
    "elif connected == False:\n",
    "    DIR_PATH += \"_disconnected\"\n",
    "    MODEL_FILE += \"_disconnected\"\n",
    "if UPTO == True:\n",
    "    DIR_PATH += \"_UPTO\"\n",
    "    MODEL_FILE += \"_UPTO\"\n",
    "if not column_info == \"original\":\n",
    "    DIR_PATH += column_info\n",
    "    MODEL_FILE += column_info\n",
    "if use_ppath:\n",
    "    DIR_PATH += \"_ppath\"    \n",
    "    MODEL_FILE += \"_ppath\"\n",
    "    \n",
    "for key in feature_list.keys():\n",
    "    if feature_list[key][0] == True:\n",
    "        MODEL_FILE += f'_{key}'\n",
    "MODEL_FILE += f'_{direction}'\n",
    "MODEL_FILE += '.pickle'\n",
    "\n"
   ]
  },
  {
   "cell_type": "code",
   "execution_count": 2,
   "id": "4481e921",
   "metadata": {},
   "outputs": [
    {
     "name": "stderr",
     "output_type": "stream",
     "text": [
      "/root/anaconda3/envs/mpnn/lib/python3.9/site-packages/tqdm/auto.py:21: TqdmWarning: IProgress not found. Please update jupyter and ipywidgets. See https://ipywidgets.readthedocs.io/en/stable/user_install.html\n",
      "  from .autonotebook import tqdm as notebook_tqdm\n"
     ]
    },
    {
     "name": "stdout",
     "output_type": "stream",
     "text": [
      "Loading input data...\n",
      "Generating data from the directory /Data/Ptab/n=5_all_with_inductive_connectedness_criterion_connected\n"
     ]
    },
    {
     "name": "stderr",
     "output_type": "stream",
     "text": [
      "/root/Min/Ptab/CustomDataset.py:18: UserWarning: Creating a tensor from a list of numpy.ndarrays is extremely slow. Please consider converting the list to a single numpy.ndarray with numpy.array() before converting to a tensor. (Triggered internally at  /opt/conda/conda-bld/pytorch_1659484809662/work/torch/csrc/utils/tensor_new.cpp:201.)\n",
      "  edge_index = torch.tensor([self.rows[idx], self.cols[idx]], dtype=torch.long)\n"
     ]
    },
    {
     "name": "stdout",
     "output_type": "stream",
     "text": [
      "Epoch [1/50], Accuracy: 56.45%, Loss: 0.401658236980438\n",
      "Epoch [2/50], Accuracy: 41.94%, Loss: 1.008413553237915\n",
      "Epoch [3/50], Accuracy: 41.94%, Loss: 1.512818336486816\n",
      "Epoch [4/50], Accuracy: 41.94%, Loss: 1.094017148017883\n",
      "Epoch [5/50], Accuracy: 41.94%, Loss: 1.008547067642212\n",
      "Epoch [6/50], Accuracy: 41.94%, Loss: 0.991453051567078\n",
      "Epoch [7/50], Accuracy: 41.94%, Loss: 1.170940279960632\n",
      "Epoch [8/50], Accuracy: 41.94%, Loss: 1.119658231735229\n",
      "Epoch [9/50], Accuracy: 41.94%, Loss: 1.179487228393555\n",
      "Epoch [10/50], Accuracy: 41.94%, Loss: 1.017094016075134\n",
      "Epoch [11/50], Accuracy: 41.94%, Loss: 1.136752247810364\n",
      "Epoch [12/50], Accuracy: 41.94%, Loss: 1.119658231735229\n",
      "Epoch [13/50], Accuracy: 41.94%, Loss: 1.205128312110901\n",
      "Epoch [14/50], Accuracy: 41.94%, Loss: 1.247863292694092\n",
      "Epoch [15/50], Accuracy: 41.94%, Loss: 1.239316344261169\n",
      "Epoch [16/50], Accuracy: 41.94%, Loss: 0.871794939041138\n",
      "Epoch [17/50], Accuracy: 41.94%, Loss: 1.384615421295166\n",
      "Epoch [18/50], Accuracy: 41.94%, Loss: 1.196581244468689\n",
      "Epoch [19/50], Accuracy: 41.94%, Loss: 1.341880440711975\n",
      "Epoch [20/50], Accuracy: 41.94%, Loss: 1.273504376411438\n",
      "Epoch [21/50], Accuracy: 41.94%, Loss: 1.376068472862244\n",
      "Epoch [22/50], Accuracy: 41.94%, Loss: 1.076923131942749\n",
      "Epoch [23/50], Accuracy: 41.94%, Loss: 0.982906043529510\n",
      "Epoch [24/50], Accuracy: 41.94%, Loss: 1.153846263885498\n",
      "Epoch [25/50], Accuracy: 41.94%, Loss: 1.170940279960632\n",
      "Epoch [26/50], Accuracy: 41.94%, Loss: 1.239316344261169\n",
      "Epoch [27/50], Accuracy: 41.94%, Loss: 1.136752247810364\n",
      "Epoch [28/50], Accuracy: 41.94%, Loss: 0.982906043529510\n",
      "Epoch [29/50], Accuracy: 41.94%, Loss: 1.282051324844360\n",
      "Epoch [30/50], Accuracy: 41.94%, Loss: 0.880341947078705\n",
      "Epoch [31/50], Accuracy: 41.94%, Loss: 0.940171003341675\n",
      "Epoch [32/50], Accuracy: 41.94%, Loss: 1.358974456787109\n",
      "Epoch [33/50], Accuracy: 41.94%, Loss: 1.307692408561707\n",
      "Epoch [34/50], Accuracy: 41.94%, Loss: 1.128205180168152\n",
      "Epoch [35/50], Accuracy: 41.94%, Loss: 1.247863292694092\n",
      "Epoch [36/50], Accuracy: 41.94%, Loss: 1.008547067642212\n",
      "Epoch [37/50], Accuracy: 41.94%, Loss: 1.008547067642212\n",
      "Epoch [38/50], Accuracy: 41.94%, Loss: 1.094017148017883\n",
      "Epoch [39/50], Accuracy: 41.94%, Loss: 1.188034296035767\n",
      "Epoch [40/50], Accuracy: 41.94%, Loss: 1.350427389144897\n",
      "Epoch [41/50], Accuracy: 41.94%, Loss: 1.188034296035767\n",
      "Epoch [42/50], Accuracy: 41.94%, Loss: 1.341880440711975\n",
      "Epoch [43/50], Accuracy: 41.94%, Loss: 1.393162369728088\n",
      "Epoch [44/50], Accuracy: 41.94%, Loss: 1.025640606880188\n",
      "Epoch [45/50], Accuracy: 41.94%, Loss: 1.162392377853394\n",
      "Epoch [46/50], Accuracy: 41.94%, Loss: 1.299143791198730\n",
      "Epoch [47/50], Accuracy: 41.94%, Loss: 0.905979692935944\n",
      "Epoch [48/50], Accuracy: 41.94%, Loss: 0.965805649757385\n",
      "Epoch [49/50], Accuracy: 41.94%, Loss: 1.239292740821838\n",
      "Epoch [50/50], Accuracy: 41.94%, Loss: 1.110981225967407\n"
     ]
    }
   ],
   "source": [
    "import functools\n",
    "import enum\n",
    "import os\n",
    "from BH.data_loader import *\n",
    "# from BH.generate_data import *\n",
    "#from BH.data_loader import *\n",
    "#from BH.generate_data import *\n",
    "# from training_info import *\n",
    "\n",
    "import pickle\n",
    "\n",
    "from CustomDataset import *\n",
    "from GCN_model import *\n",
    "\n",
    "from torch_geometric.loader import DataLoader\n",
    "\n",
    "\n",
    "os.environ[\"CUDA_VISIBLE_DEVICES\"] = GPU_NUM\n",
    "device = \"cuda:\" + GPU_NUM\n",
    "\n",
    "\n",
    "print(\"Loading input data...\")\n",
    "full_dataset, train_dataset, test_dataset = load_input_data(DIR_PATH)\n",
    "\n",
    "node_dim = num_features\n",
    "edge_dim = 8\n",
    "graph_deg = graph_deg\n",
    "depth = num_layers\n",
    "\n",
    "test_dataset = CustomDataset(test_dataset)\n",
    "test_loader = DataLoader(test_dataset, batch_size=batch_size, shuffle=True)\n",
    "\n",
    "train_dataset = CustomDataset(train_dataset)\n",
    "train_loader = DataLoader(train_dataset, batch_size=batch_size, shuffle=True)\n",
    "\n",
    "# device = torch.device('cuda' if torch.cuda.is_available() else 'cpu')\n",
    "# model = pastGCN().to(device)\n",
    "if use_pretrained_weights == True:\n",
    "    try:\n",
    "        with open(MODEL_FILE, 'rb') as f:\n",
    "          model, max_accuracy, min_loss = pickle.load(f)\n",
    "          model.to(device)\n",
    "    except:\n",
    "        print(\"There is no trained model\")\n",
    "        use_pretrained_weights = False\n",
    "if use_pretrained_weights == False:\n",
    "    model = GCN_multi_conv(graph_deg, depth, node_dim, direction).to(device)\n",
    "    max_accuracy = 0\n",
    "    min_loss = 100\n",
    "# data = batch.to(device)\n",
    "# torch.nn.init.xavier_normal(model)\n",
    "loss_function = torch.nn.CrossEntropyLoss()\n",
    "loss_function = torch.nn.NLLLoss()\n",
    "# loss_function = torch.nn.MSELoss()\n",
    "optimizer = torch.optim.Adam(model.parameters(), lr=step_size, weight_decay=5e-4)\n",
    "scheduler = torch.optim.lr_scheduler.LambdaLR(optimizer=optimizer,\n",
    "                                        lr_lambda=lambda epoch: 0.993 ** epoch,\n",
    "                                        last_epoch=-1,\n",
    "                                        verbose=False)\n",
    "\n",
    "for epoch in range(num_epochs):\n",
    "    # Training phase\n",
    "    model.train()\n",
    "    for batch in train_loader:\n",
    "        batch.to(device)\n",
    "        optimizer.zero_grad()\n",
    "        out = model(batch)\n",
    "        log_probs = torch.log(out)\n",
    "        \n",
    "        loss = loss_function(log_probs, batch.y)\n",
    "        loss.backward()\n",
    "        optimizer.step()\n",
    "    scheduler.step()\n",
    "#    print(loss)\n",
    "    \n",
    "    # Evaluation phase\n",
    "    model.eval()\n",
    "    correct = 0\n",
    "    total = 0\n",
    "    with torch.no_grad():\n",
    "        for batch in test_loader:\n",
    "            batch.to(device)\n",
    "            outputs = model(batch)\n",
    "#             _,predicted = torch.max(outputs.data, 1)\n",
    "            predicted = outputs\n",
    "            total += batch.y.size(0)\n",
    "#             correct += (predicted == batch.y).sum().item()\n",
    "            correct += ((predicted - batch.y)**2<0.1).sum().item()\n",
    "\n",
    "    # Compute accuracy\n",
    "    accuracy = correct / total\n",
    "    loss = float(loss.item())\n",
    "\n",
    "    print(\"Epoch [{}/{}], Accuracy: {:.2%}, Loss: {:.15f}\".format(epoch + 1, num_epochs, accuracy, loss))\n",
    "\n",
    "    if (accuracy > max_accuracy or (accuracy == max_accuracy and loss < min_loss)) and save_trained_weights:\n",
    "        max_accuracy = accuracy\n",
    "        min_loss = loss\n",
    "        with open(MODEL_FILE, 'wb') as f:\n",
    "            pickle.dump((model, max_accuracy, min_loss), f)\n",
    "\n"
   ]
  },
  {
   "cell_type": "code",
   "execution_count": null,
   "id": "22fba8d7",
   "metadata": {},
   "outputs": [],
   "source": []
  },
  {
   "cell_type": "code",
   "execution_count": 3,
   "id": "4ad080df",
   "metadata": {},
   "outputs": [
    {
     "name": "stdout",
     "output_type": "stream",
     "text": [
      "DataBatch(x=[725, 1], edge_index=[2, 2175], y=[128], edge_types=[2175, 1], batch=[725], ptr=[129])\n"
     ]
    }
   ],
   "source": [
    "for batch in train_loader:\n",
    "    print(batch)\n",
    "    batch.to(device)\n",
    "    out = model(batch)\n",
    "    out_single = model.GCN_single(batch)\n",
    "    break"
   ]
  },
  {
   "cell_type": "code",
   "execution_count": 15,
   "id": "e551674a",
   "metadata": {},
   "outputs": [
    {
     "data": {
      "text/plain": [
       "tensor([5.8181e-04, 2.0977e-04, 9.0953e-05, 5.2863e-05, 2.7281e-04, 5.5478e-04,\n",
       "        6.3004e-05, 3.4792e-04, 1.7679e-04, 1.1993e-04, 3.6258e-04, 6.1981e-05,\n",
       "        2.7341e-04, 3.8186e-04, 5.5864e-05, 6.0886e-05, 1.5025e-04, 9.4548e-05,\n",
       "        8.3260e-05, 9.3299e-05, 2.5339e-04, 5.5329e-04, 1.1270e-04, 1.0308e-04,\n",
       "        1.3322e-04, 1.1967e-04, 5.0143e-04, 1.2501e-04, 1.3824e-04, 1.3158e-04,\n",
       "        1.6607e-04, 3.0752e-04, 2.3504e-04, 3.8223e-04, 2.2637e-04, 7.5879e-05,\n",
       "        1.6202e-04, 2.0206e-04, 1.0300e-04, 2.1088e-04, 3.7786e-04, 6.1883e-05,\n",
       "        6.5336e-04, 2.3808e-04, 1.8389e-04, 1.8013e-04, 5.4475e-05, 3.6185e-04,\n",
       "        1.1267e-04, 2.2633e-04, 8.8254e-04, 4.8537e-05, 8.1732e-05, 1.4983e-04,\n",
       "        1.6065e-04, 3.9104e-04, 1.1484e-04, 1.1329e-04, 2.8553e-04, 5.4986e-05,\n",
       "        9.0743e-05, 2.5933e-05, 7.2443e-04, 2.4154e-04, 1.7435e-04, 9.9616e-05,\n",
       "        1.1284e-04, 1.0817e-04, 1.4769e-04, 6.2321e-05, 1.2423e-04, 3.6958e-04,\n",
       "        6.1895e-04, 1.1001e-04, 1.0088e-04, 5.9955e-05, 5.4327e-05, 1.9552e-04,\n",
       "        4.8720e-05, 2.9639e-04, 1.1262e-04, 1.1416e-04, 3.1913e-04, 1.4882e-04,\n",
       "        1.3191e-04, 4.3151e-04, 9.7466e-05, 1.7936e-04, 7.4256e-04, 1.4899e-04,\n",
       "        3.5501e-04, 3.0297e-04, 1.7382e-04, 7.4204e-05, 1.3955e-04, 1.7268e-04,\n",
       "        1.3402e-04, 2.5096e-04, 5.1723e-04, 9.7709e-05, 2.0724e-04, 3.5508e-04,\n",
       "        1.4924e-04, 8.4994e-04, 6.1428e-04, 2.9803e-04, 3.5543e-04, 4.3908e-04,\n",
       "        2.1141e-04, 4.5463e-04, 5.1220e-04, 2.4969e-04, 4.0791e-05, 4.5164e-04,\n",
       "        4.5847e-04, 8.3447e-05, 7.1018e-05, 8.5256e-05, 2.0849e-04, 3.0827e-04,\n",
       "        9.4387e-05, 1.0066e-04, 2.8705e-04, 6.0311e-04, 2.7848e-04, 4.9960e-04,\n",
       "        1.2515e-04, 2.3833e-04], device='cuda:0', grad_fn=<StackBackward0>)"
      ]
     },
     "execution_count": 15,
     "metadata": {},
     "output_type": "execute_result"
    }
   ],
   "source": [
    "out"
   ]
  },
  {
   "cell_type": "code",
   "execution_count": 4,
   "id": "94525c78",
   "metadata": {},
   "outputs": [],
   "source": [
    "batch = batch.batch"
   ]
  },
  {
   "cell_type": "code",
   "execution_count": 5,
   "id": "8b741486",
   "metadata": {},
   "outputs": [],
   "source": [
    "batch=batch[::model.graph_deg]"
   ]
  },
  {
   "cell_type": "code",
   "execution_count": 6,
   "id": "786158b3",
   "metadata": {},
   "outputs": [],
   "source": [
    "x =out_single"
   ]
  },
  {
   "cell_type": "code",
   "execution_count": 7,
   "id": "2ac0a35a",
   "metadata": {},
   "outputs": [
    {
     "data": {
      "text/plain": [
       "torch.Size([145, 1])"
      ]
     },
     "execution_count": 7,
     "metadata": {},
     "output_type": "execute_result"
    }
   ],
   "source": [
    "x.shape"
   ]
  },
  {
   "cell_type": "code",
   "execution_count": 8,
   "id": "9ce06242",
   "metadata": {},
   "outputs": [
    {
     "data": {
      "text/plain": [
       "torch.Size([145])"
      ]
     },
     "execution_count": 8,
     "metadata": {},
     "output_type": "execute_result"
    }
   ],
   "source": [
    "batch.shape"
   ]
  },
  {
   "cell_type": "code",
   "execution_count": 9,
   "id": "3eacf396",
   "metadata": {},
   "outputs": [],
   "source": [
    "# Flatten A and ri to 1D tensors for easier manipulation\n",
    "A = x.view(-1)\n",
    "ri = batch.view(-1)\n",
    "batch_size = batch[-1]+1\n",
    "\n",
    "# Count occurrences of each row index in ri to determine column sizes\n",
    "row_counts = torch.bincount(ri, minlength=batch_size)\n",
    "\n",
    "# Determine the maximum number of columns needed\n",
    "max_columns = row_counts.max().item()\n",
    "\n",
    "# Initialize tensor B with -inf to indicate empty values\n",
    "B = torch.full((batch_size, max_columns), -float('inf'),device = device)\n",
    "\n",
    "# Create an empty tensor to keep track of the next available column index for each row\n",
    "col_indices = torch.zeros_like(ri,device=device)\n",
    "\n",
    "# Use row_counts to generate column indices\n",
    "for i in range(batch_size):\n",
    "    col_indices[ri == i] = torch.arange(row_counts[i],device = device)\n",
    "\n",
    "# Place the values from A into B using advanced indexing\n",
    "B[ri, col_indices] = A\n"
   ]
  },
  {
   "cell_type": "code",
   "execution_count": 10,
   "id": "7a467a23",
   "metadata": {},
   "outputs": [
    {
     "name": "stdout",
     "output_type": "stream",
     "text": [
      "torch.Size([128, 5, 2])\n"
     ]
    }
   ],
   "source": [
    "B = torch.sigmoid(B)\n",
    "B_complement = 1 - B\n",
    "\n",
    "# Stack B and B_complement along a new dimension\n",
    "# This creates a new tensor with shape (64, max_columns, 2)\n",
    "stacked_tensor = torch.stack((B_complement,B), dim=-1)\n",
    "\n",
    "print(stacked_tensor.shape)"
   ]
  },
  {
   "cell_type": "code",
   "execution_count": 11,
   "id": "a0714587",
   "metadata": {},
   "outputs": [
    {
     "name": "stdout",
     "output_type": "stream",
     "text": [
      "torch.Size([128, 6])\n"
     ]
    }
   ],
   "source": [
    "# Loop through the remaining slices\n",
    "result = stacked_tensor[:,0,:]\n",
    "for i in range(1, stacked_tensor.size(1)):\n",
    "    # Extract the next slice to serve as the kernel, which has shape (1, 1, 64, 2)\n",
    "    kernel_2d = stacked_tensor[:,i,:].unsqueeze(1)\n",
    "    kernel_2d_flipped = torch.flip(kernel_2d, dims=[-1])\n",
    "\n",
    "    # Reshape the input for Conv1d: treat each row as a separate channel\n",
    "    input_for_conv1d = result.unsqueeze(0)  # Shape becomes (1, H, W)\n",
    "\n",
    "    # Apply Conv1d with groups=H to perform independent convolution on each row\n",
    "    # in_channels = H (number of rows), out_channels = H (each row produces its own output),\n",
    "    # groups=H ensures each row is convolved with its own corresponding kernel row\n",
    "    result = F.conv1d(input_for_conv1d, kernel_2d_flipped, groups=batch_size, padding=1)\n",
    "\n",
    "    # Remove the extra dimension to get the final result\n",
    "    result = result.squeeze()\n",
    "\n",
    "# The final result will be in `result`\n",
    "print(result.shape)"
   ]
  },
  {
   "cell_type": "code",
   "execution_count": 17,
   "id": "65027a85",
   "metadata": {},
   "outputs": [
    {
     "data": {
      "text/plain": [
       "torch.Size([128, 6])"
      ]
     },
     "execution_count": 17,
     "metadata": {},
     "output_type": "execute_result"
    }
   ],
   "source": [
    "result.shape"
   ]
  },
  {
   "cell_type": "code",
   "execution_count": 16,
   "id": "96a5be01",
   "metadata": {},
   "outputs": [
    {
     "data": {
      "text/plain": [
       "torch.Size([128])"
      ]
     },
     "execution_count": 16,
     "metadata": {},
     "output_type": "execute_result"
    }
   ],
   "source": [
    "out.shape"
   ]
  },
  {
   "cell_type": "code",
   "execution_count": 14,
   "id": "ea303c40",
   "metadata": {},
   "outputs": [
    {
     "ename": "AttributeError",
     "evalue": "'Tensor' object has no attribute 'batch'",
     "output_type": "error",
     "traceback": [
      "\u001b[0;31m---------------------------------------------------------------------------\u001b[0m",
      "\u001b[0;31mAttributeError\u001b[0m                            Traceback (most recent call last)",
      "Cell \u001b[0;32mIn[14], line 3\u001b[0m\n\u001b[1;32m      1\u001b[0m batch\u001b[38;5;241m.\u001b[39mto(device)\n\u001b[1;32m      2\u001b[0m optimizer\u001b[38;5;241m.\u001b[39mzero_grad()\n\u001b[0;32m----> 3\u001b[0m out \u001b[38;5;241m=\u001b[39m \u001b[43mmodel\u001b[49m\u001b[43m(\u001b[49m\u001b[43mbatch\u001b[49m\u001b[43m)\u001b[49m\n",
      "File \u001b[0;32m~/anaconda3/envs/mpnn/lib/python3.9/site-packages/torch/nn/modules/module.py:1130\u001b[0m, in \u001b[0;36mModule._call_impl\u001b[0;34m(self, *input, **kwargs)\u001b[0m\n\u001b[1;32m   1126\u001b[0m \u001b[38;5;66;03m# If we don't have any hooks, we want to skip the rest of the logic in\u001b[39;00m\n\u001b[1;32m   1127\u001b[0m \u001b[38;5;66;03m# this function, and just call forward.\u001b[39;00m\n\u001b[1;32m   1128\u001b[0m \u001b[38;5;28;01mif\u001b[39;00m \u001b[38;5;129;01mnot\u001b[39;00m (\u001b[38;5;28mself\u001b[39m\u001b[38;5;241m.\u001b[39m_backward_hooks \u001b[38;5;129;01mor\u001b[39;00m \u001b[38;5;28mself\u001b[39m\u001b[38;5;241m.\u001b[39m_forward_hooks \u001b[38;5;129;01mor\u001b[39;00m \u001b[38;5;28mself\u001b[39m\u001b[38;5;241m.\u001b[39m_forward_pre_hooks \u001b[38;5;129;01mor\u001b[39;00m _global_backward_hooks\n\u001b[1;32m   1129\u001b[0m         \u001b[38;5;129;01mor\u001b[39;00m _global_forward_hooks \u001b[38;5;129;01mor\u001b[39;00m _global_forward_pre_hooks):\n\u001b[0;32m-> 1130\u001b[0m     \u001b[38;5;28;01mreturn\u001b[39;00m \u001b[43mforward_call\u001b[49m\u001b[43m(\u001b[49m\u001b[38;5;241;43m*\u001b[39;49m\u001b[38;5;28;43minput\u001b[39;49m\u001b[43m,\u001b[49m\u001b[43m \u001b[49m\u001b[38;5;241;43m*\u001b[39;49m\u001b[38;5;241;43m*\u001b[39;49m\u001b[43mkwargs\u001b[49m\u001b[43m)\u001b[49m\n\u001b[1;32m   1131\u001b[0m \u001b[38;5;66;03m# Do not call functions when jit is used\u001b[39;00m\n\u001b[1;32m   1132\u001b[0m full_backward_hooks, non_full_backward_hooks \u001b[38;5;241m=\u001b[39m [], []\n",
      "File \u001b[0;32m~/Min/Ptab/GCN_model.py:130\u001b[0m, in \u001b[0;36mGCN_multi.forward\u001b[0;34m(self, data, T)\u001b[0m\n\u001b[1;32m    129\u001b[0m \u001b[38;5;28;01mdef\u001b[39;00m \u001b[38;5;21mforward\u001b[39m(\u001b[38;5;28mself\u001b[39m, data, T\u001b[38;5;241m=\u001b[39m\u001b[38;5;241m1\u001b[39m):\n\u001b[0;32m--> 130\u001b[0m     batch \u001b[38;5;241m=\u001b[39m \u001b[43mdata\u001b[49m\u001b[38;5;241;43m.\u001b[39;49m\u001b[43mbatch\u001b[49m\n\u001b[1;32m    131\u001b[0m     batch \u001b[38;5;241m=\u001b[39m batch[::\u001b[38;5;28mself\u001b[39m\u001b[38;5;241m.\u001b[39mgraph_deg]\n\u001b[1;32m    132\u001b[0m     x \u001b[38;5;241m=\u001b[39m \u001b[38;5;28mself\u001b[39m\u001b[38;5;241m.\u001b[39mGCN_single(data)\n",
      "\u001b[0;31mAttributeError\u001b[0m: 'Tensor' object has no attribute 'batch'"
     ]
    }
   ],
   "source": [
    "batch.to(device)\n",
    "optimizer.zero_grad()\n",
    "out = model(batch)"
   ]
  },
  {
   "cell_type": "code",
   "execution_count": null,
   "id": "86b44b40",
   "metadata": {},
   "outputs": [],
   "source": [
    "out"
   ]
  },
  {
   "cell_type": "code",
   "execution_count": null,
   "id": "efb0f63a",
   "metadata": {},
   "outputs": [],
   "source": [
    "batch.y"
   ]
  }
 ],
 "metadata": {
  "kernelspec": {
   "display_name": "Python [conda env:mpnn]",
   "language": "python",
   "name": "conda-env-mpnn-py"
  },
  "language_info": {
   "codemirror_mode": {
    "name": "ipython",
    "version": 3
   },
   "file_extension": ".py",
   "mimetype": "text/x-python",
   "name": "python",
   "nbconvert_exporter": "python",
   "pygments_lexer": "ipython3",
   "version": "3.9.16"
  }
 },
 "nbformat": 4,
 "nbformat_minor": 5
}
