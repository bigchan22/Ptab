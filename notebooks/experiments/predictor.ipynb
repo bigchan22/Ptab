{
 "cells": [
  {
   "cell_type": "code",
   "execution_count": 2,
   "id": "initial_id",
   "metadata": {},
   "outputs": [
    {
     "ename": "ModuleNotFoundError",
     "evalue": "No module named 'predictor'",
     "output_type": "error",
     "traceback": [
      "\u001b[0;31m---------------------------------------------------------------------------\u001b[0m",
      "\u001b[0;31mModuleNotFoundError\u001b[0m                       Traceback (most recent call last)",
      "Cell \u001b[0;32mIn[2], line 14\u001b[0m\n\u001b[1;32m     11\u001b[0m \u001b[38;5;28;01mif\u001b[39;00m predictor_dir \u001b[38;5;129;01mnot\u001b[39;00m \u001b[38;5;129;01min\u001b[39;00m sys\u001b[38;5;241m.\u001b[39mpath:\n\u001b[1;32m     12\u001b[0m     sys\u001b[38;5;241m.\u001b[39mpath\u001b[38;5;241m.\u001b[39minsert(\u001b[38;5;241m0\u001b[39m, predictor_dir)\n\u001b[0;32m---> 14\u001b[0m \u001b[38;5;28;01mfrom\u001b[39;00m \u001b[38;5;21;01mpredictor\u001b[39;00m \u001b[38;5;28;01mimport\u001b[39;00m load_models\n\u001b[1;32m     15\u001b[0m \u001b[38;5;66;03m# Construct the model path relative to the notebook's location\u001b[39;00m\n\u001b[1;32m     16\u001b[0m model_name \u001b[38;5;241m=\u001b[39m \u001b[38;5;124m\"\u001b[39m\u001b[38;5;124mparameters_8_4_256_all_with_all_row_connectedness_criterion_connected_UPTO_constant_222_conv.pickle\u001b[39m\u001b[38;5;124m\"\u001b[39m\n",
      "\u001b[0;31mModuleNotFoundError\u001b[0m: No module named 'predictor'"
     ]
    }
   ],
   "source": [
    "import os\n",
    "import torch\n",
    "\n",
    "import sys\n",
    "import os\n",
    "\n",
    "# Determine the root directory (Ptab)\n",
    "root_dir = os.path.abspath(os.path.join(os.getcwd(), \"../../\"))\n",
    "\n",
    "predictor_dir = os.path.join(root_dir, \"predictor\")\n",
    "if predictor_dir not in sys.path:\n",
    "    sys.path.insert(0, predictor_dir)\n",
    "\n",
    "from predictor import load_models\n",
    "# Construct the model path relative to the notebook's location\n",
    "model_name = \"parameters_8_4_256_all_with_all_row_connectedness_criterion_connected_UPTO_constant_222_conv.pickle\"\n",
    "model_path = os.path.join(\"..\", \"models\", \"trained_models\", model_name)"
   ]
  }
 ],
 "metadata": {
  "kernelspec": {
   "display_name": "Python 3 (ipykernel)",
   "language": "python",
   "name": "python3"
  },
  "language_info": {
   "codemirror_mode": {
    "name": "ipython",
    "version": 3
   },
   "file_extension": ".py",
   "mimetype": "text/x-python",
   "name": "python",
   "nbconvert_exporter": "python",
   "pygments_lexer": "ipython3",
   "version": "3.9.16"
  }
 },
 "nbformat": 4,
 "nbformat_minor": 5
}
