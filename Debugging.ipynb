{
 "cells": [
  {
   "cell_type": "code",
   "execution_count": 1,
   "id": "7ff80285",
   "metadata": {},
   "outputs": [
    {
     "name": "stderr",
     "output_type": "stream",
     "text": [
      "<frozen importlib._bootstrap>:228: RuntimeWarning: scipy._lib.messagestream.MessageStream size changed, may indicate binary incompatibility. Expected 56 from C header, got 64 from PyObject\n"
     ]
    }
   ],
   "source": [
    "import os\n",
    "from BH.feature_functions import *\n",
    "\n",
    "GPU_NUM = \"0\"\n",
    "num_epochs = 50\n",
    "batch_size = 128\n",
    "\n",
    "use_ppath = False\n",
    "column_info = \"original\"\n",
    "\n",
    "graph_deg = 5\n",
    "num_layers = graph_deg\n",
    "num_features = 256\n",
    "feature_list = {\n",
    "    'constant':    (False, constant_feature),\n",
    "    'column':      (False, column_indicator),\n",
    "    'norm_column': (True, normalized_column_indicator), #   Feauture\n",
    "    'norm_column_rev': (False, normalized_column_rev_indicator),\n",
    "}\n",
    "connected = True\n",
    "UPTO = False\n",
    "\n",
    "direction = \"222\"\n",
    "\n",
    "shape_indicator = {\n",
    "    'all_with_all_row_connectedness_criterion': (False, ),\n",
    "    'all_with_inductive_connectedness_criterion': (True, ),\n",
    "    '2row_less': (False, ),\n",
    "    '2row_less_with_all_row_connectedness_criterion': (False, ),\n",
    "    '2row_less_with_inductive_connectedness_criterion': (False, ),\n",
    "    '3row_less_with_all_row_connectedness_criterion': (False, ),\n",
    "    '3row_less_with_inductive_connectedness_criterion': (False, ),\n",
    "}\n",
    "\n",
    "shape= {\n",
    "    'all': (False, ),# 3개다 \n",
    "    '2row_less': (True, ),\n",
    "    '3row_less': (False, ),\n",
    "}\n",
    "filter_indicator = {\n",
    "    'with_all_row_connectedness_criterion':(False,), \n",
    "    'with_inductive_connectedness_criterion':(False,),\n",
    "}\n",
    "\n",
    "\n",
    "use_pretrained_weights = False\n",
    "save_trained_weights = True\n",
    "\n",
    "step_size = 0.00001\n",
    "train_fraction = .8\n",
    "\n",
    "DIR_PATH = f'/Data/Ptab/n={graph_deg}'\n",
    "MODEL_DIR = './trained_models'\n",
    "MODEL_FILE = os.path.join(MODEL_DIR, f'parameters_{graph_deg}_{num_layers}_{num_features}')\n",
    "\n",
    "for key in shape_indicator:\n",
    "    if shape_indicator[key][0] == True:\n",
    "        DIR_PATH += f'_{key}'\n",
    "        MODEL_FILE += f'_{key}'\n",
    "\n",
    "\n",
    "if connected == True:\n",
    "    DIR_PATH += \"_connected\"\n",
    "    MODEL_FILE += \"_connected\"\n",
    "elif connected == False:\n",
    "    DIR_PATH += \"_disconnected\"\n",
    "    MODEL_FILE += \"_disconnected\"\n",
    "if UPTO == True:\n",
    "    DIR_PATH += \"_UPTO\"\n",
    "    MODEL_FILE += \"_UPTO\"\n",
    "if not column_info == \"original\":\n",
    "    DIR_PATH += column_info\n",
    "    MODEL_FILE += column_info\n",
    "if use_ppath:\n",
    "    DIR_PATH += \"_ppath\"    \n",
    "    MODEL_FILE += \"_ppath\"\n",
    "    \n",
    "for key in feature_list.keys():\n",
    "    if feature_list[key][0] == True:\n",
    "        MODEL_FILE += f'_{key}'\n",
    "MODEL_FILE += f'_{direction}'\n",
    "MODEL_FILE += '.pickle'\n",
    "\n"
   ]
  },
  {
   "cell_type": "code",
   "execution_count": 2,
   "id": "f55990ed",
   "metadata": {},
   "outputs": [
    {
     "name": "stderr",
     "output_type": "stream",
     "text": [
      "/root/anaconda3/envs/mpnn/lib/python3.9/site-packages/tqdm/auto.py:21: TqdmWarning: IProgress not found. Please update jupyter and ipywidgets. See https://ipywidgets.readthedocs.io/en/stable/user_install.html\n",
      "  from .autonotebook import tqdm as notebook_tqdm\n"
     ]
    },
    {
     "name": "stdout",
     "output_type": "stream",
     "text": [
      "Loading input data...\n",
      "Generating data from the directory /Data/Ptab/n=5_all_with_inductive_connectedness_criterion_connected\n"
     ]
    }
   ],
   "source": [
    "import functools\n",
    "import enum\n",
    "import os\n",
    "from BH.data_loader import *\n",
    "# from BH.generate_data import *\n",
    "#from BH.data_loader import *\n",
    "#from BH.generate_data import *\n",
    "# from training_info import *\n",
    "\n",
    "import pickle\n",
    "\n",
    "from CustomDataset import *\n",
    "from GCN_model import *\n",
    "\n",
    "from torch_geometric.loader import DataLoader\n",
    "\n",
    "\n",
    "os.environ[\"CUDA_VISIBLE_DEVICES\"] = GPU_NUM\n",
    "device = \"cuda:\" + GPU_NUM\n",
    "\n",
    "\n",
    "print(\"Loading input data...\")\n",
    "full_dataset, train_dataset, test_dataset = load_input_data(DIR_PATH)\n",
    "\n",
    "node_dim = num_features\n",
    "edge_dim = 8\n",
    "graph_deg = graph_deg\n",
    "depth = num_layers\n",
    "\n",
    "test_dataset = CustomDataset(test_dataset)\n",
    "test_loader = DataLoader(test_dataset, batch_size=batch_size, shuffle=True)\n",
    "\n",
    "train_dataset = CustomDataset(train_dataset)\n",
    "train_loader = DataLoader(train_dataset, batch_size=batch_size, shuffle=True)\n",
    "\n",
    "# device = torch.device('cuda' if torch.cuda.is_available() else 'cpu')\n",
    "# model = pastGCN().to(device)\n",
    "if use_pretrained_weights == True:\n",
    "    try:\n",
    "        with open(MODEL_FILE, 'rb') as f:\n",
    "          model, max_accuracy, min_loss = pickle.load(f)\n",
    "          model.to(device)\n",
    "    except:\n",
    "        print(\"There is no trained model\")\n",
    "        use_pretrained_weights = False\n",
    "if use_pretrained_weights == False:\n",
    "    model = GCN_multi_conv(graph_deg, depth, node_dim, direction).to(device)\n",
    "    max_accuracy = 0\n",
    "    min_loss = 100\n",
    "# data = batch.to(device)\n",
    "# torch.nn.init.xavier_normal(model)\n",
    "loss_function = torch.nn.CrossEntropyLoss()\n",
    "# loss_function = torch.nn.NLLLoss()\n",
    "# loss_function = torch.nn.MSELoss()\n",
    "optimizer = torch.optim.Adam(model.parameters(), lr=step_size, weight_decay=5e-4)\n",
    "scheduler = torch.optim.lr_scheduler.LambdaLR(optimizer=optimizer,\n",
    "                                        lr_lambda=lambda epoch: 0.993 ** epoch,\n",
    "                                        last_epoch=-1,\n",
    "                                        verbose=False)"
   ]
  },
  {
   "cell_type": "code",
   "execution_count": 3,
   "id": "6ee0169b",
   "metadata": {},
   "outputs": [
    {
     "name": "stderr",
     "output_type": "stream",
     "text": [
      "/root/Min/Ptab/CustomDataset.py:18: UserWarning: Creating a tensor from a list of numpy.ndarrays is extremely slow. Please consider converting the list to a single numpy.ndarray with numpy.array() before converting to a tensor. (Triggered internally at  /opt/conda/conda-bld/pytorch_1659484809662/work/torch/csrc/utils/tensor_new.cpp:201.)\n",
      "  edge_index = torch.tensor([self.rows[idx], self.cols[idx]], dtype=torch.long)\n"
     ]
    },
    {
     "name": "stdout",
     "output_type": "stream",
     "text": [
      "tensor(0.9219, device='cuda:0', grad_fn=<NllLossBackward0>)\n",
      "tensor(nan, device='cuda:0', grad_fn=<NllLossBackward0>)\n",
      "tensor(nan, device='cuda:0', grad_fn=<NllLossBackward0>)\n",
      "Accuracy: 41.94%\n",
      "Epoch [1/50], Accuracy: 41.94%, Loss: nan\n"
     ]
    }
   ],
   "source": [
    "for epoch in range(1):\n",
    "    # Training phase\n",
    "    model.train()\n",
    "    for batch in train_loader:\n",
    "        batch.to(device)\n",
    "        optimizer.zero_grad()\n",
    "        out = model(batch)\n",
    "        log_probs = torch.log(out)\n",
    "        \n",
    "        loss = loss_function(log_probs, batch.y)\n",
    "#         break\n",
    "        loss.backward()\n",
    "        optimizer.step()\n",
    "        print(loss)\n",
    "    scheduler.step()\n",
    "    print(loss)\n",
    "    \n",
    "    # Evaluation phase\n",
    "    model.eval()\n",
    "    correct = 0\n",
    "    total = 0\n",
    "#     with torch.no_grad():\n",
    "#         for batch in test_loader:\n",
    "#             batch.to(device)\n",
    "#             outputs = model(batch)\n",
    "# #             _,predicted = torch.max(outputs.data, 1)\n",
    "#             predicted = outputs\n",
    "#             total += batch.y.size(0)\n",
    "# #             correct += (predicted == batch.y).sum().item()\n",
    "#             correct += ((predicted - batch.y)**2<0.1).sum().item()\n",
    "    with torch.no_grad():  # Disable gradient calculation\n",
    "        total = 0\n",
    "        correct = 0\n",
    "        for batch in test_loader:\n",
    "            # Move batch to the appropriate device (GPU or CPU)\n",
    "            batch.to(device)\n",
    "\n",
    "            # Forward pass: get model predictions\n",
    "            outputs = model(batch)\n",
    "\n",
    "            # Predicted classes are the indices of the max logits along the class dimension\n",
    "            _, predicted = torch.max(outputs.data, 1)  # Shape: (batch_size)\n",
    "\n",
    "            # Increment the total number of samples\n",
    "            total += batch.y.size(0)\n",
    "\n",
    "            # Compare predicted labels with ground truth labels\n",
    "            correct += (predicted == batch.y).sum().item()  # Count the number of correct predictions\n",
    "\n",
    "    # Compute the accuracy as a percentage\n",
    "    accuracy = 100 * correct / total\n",
    "    print(f'Accuracy: {accuracy:.2f}%')\n",
    "    # Compute accuracy\n",
    "    accuracy = correct / total\n",
    "    loss = float(loss.item())\n",
    "\n",
    "    print(\"Epoch [{}/{}], Accuracy: {:.2%}, Loss: {:.15f}\".format(epoch + 1, num_epochs, accuracy, loss))\n",
    "\n",
    "    if (accuracy > max_accuracy or (accuracy == max_accuracy and loss < min_loss)) and save_trained_weights:\n",
    "        max_accuracy = accuracy\n",
    "        min_loss = loss\n",
    "        with open(MODEL_FILE, 'wb') as f:\n",
    "            pickle.dump((model, max_accuracy, min_loss), f)"
   ]
  },
  {
   "cell_type": "code",
   "execution_count": 4,
   "id": "31fc2a91",
   "metadata": {},
   "outputs": [
    {
     "ename": "NameError",
     "evalue": "name 'ᄆ' is not defined",
     "output_type": "error",
     "traceback": [
      "\u001b[0;31m---------------------------------------------------------------------------\u001b[0m",
      "\u001b[0;31mNameError\u001b[0m                                 Traceback (most recent call last)",
      "Cell \u001b[0;32mIn[4], line 1\u001b[0m\n\u001b[0;32m----> 1\u001b[0m \u001b[43mㅁ\u001b[49m\n",
      "\u001b[0;31mNameError\u001b[0m: name 'ᄆ' is not defined"
     ]
    }
   ],
   "source": [
    "ㅁ"
   ]
  },
  {
   "cell_type": "code",
   "execution_count": null,
   "id": "4ad080df",
   "metadata": {},
   "outputs": [],
   "source": [
    "for batch in train_loader:\n",
    "    print(batch)\n",
    "    batch.to(device)\n",
    "    out = model(batch)\n",
    "    out_single = model.GCN_single(batch)\n",
    "    break"
   ]
  },
  {
   "cell_type": "code",
   "execution_count": null,
   "id": "ecf36df0",
   "metadata": {},
   "outputs": [],
   "source": [
    "torch.log(out)"
   ]
  },
  {
   "cell_type": "code",
   "execution_count": null,
   "id": "f68dd75e",
   "metadata": {},
   "outputs": [],
   "source": [
    "loss = loss_function(torch.log(out), batch.y)"
   ]
  },
  {
   "cell_type": "code",
   "execution_count": null,
   "id": "c631d71f",
   "metadata": {},
   "outputs": [],
   "source": [
    "loss"
   ]
  },
  {
   "cell_type": "code",
   "execution_count": null,
   "id": "0783aa19",
   "metadata": {},
   "outputs": [],
   "source": [
    "batch = batch.batch"
   ]
  },
  {
   "cell_type": "code",
   "execution_count": null,
   "id": "16e545b3",
   "metadata": {},
   "outputs": [],
   "source": [
    "batch=batch[::model.graph_deg]"
   ]
  },
  {
   "cell_type": "code",
   "execution_count": null,
   "id": "5058f826",
   "metadata": {},
   "outputs": [],
   "source": [
    "x =out_single"
   ]
  },
  {
   "cell_type": "code",
   "execution_count": null,
   "id": "716d8942",
   "metadata": {},
   "outputs": [],
   "source": [
    "x.shape"
   ]
  },
  {
   "cell_type": "code",
   "execution_count": null,
   "id": "8a2c3438",
   "metadata": {},
   "outputs": [],
   "source": [
    "batch.shape"
   ]
  },
  {
   "cell_type": "code",
   "execution_count": null,
   "id": "8c1a17fc",
   "metadata": {},
   "outputs": [],
   "source": [
    "# Flatten A and ri to 1D tensors for easier manipulation\n",
    "A = x.view(-1)\n",
    "ri = batch.view(-1)\n",
    "batch_size = batch[-1]+1\n",
    "\n",
    "# Count occurrences of each row index in ri to determine column sizes\n",
    "row_counts = torch.bincount(ri, minlength=batch_size)\n",
    "\n",
    "# Determine the maximum number of columns needed\n",
    "max_columns = row_counts.max().item()\n",
    "\n",
    "# Initialize tensor B with -inf to indicate empty values\n",
    "B = torch.full((batch_size, max_columns), -float('inf'),device = device)\n",
    "\n",
    "# Create an empty tensor to keep track of the next available column index for each row\n",
    "col_indices = torch.zeros_like(ri,device=device)\n",
    "\n",
    "# Use row_counts to generate column indices\n",
    "for i in range(batch_size):\n",
    "    col_indices[ri == i] = torch.arange(row_counts[i],device = device)\n",
    "\n",
    "# Place the values from A into B using advanced indexing\n",
    "B[ri, col_indices] = A\n"
   ]
  },
  {
   "cell_type": "code",
   "execution_count": null,
   "id": "51e938e4",
   "metadata": {},
   "outputs": [],
   "source": [
    "B = torch.sigmoid(B)\n",
    "B_complement = 1 - B\n",
    "\n",
    "# Stack B and B_complement along a new dimension\n",
    "# This creates a new tensor with shape (64, max_columns, 2)\n",
    "stacked_tensor = torch.stack((B_complement,B), dim=-1)\n",
    "\n",
    "print(stacked_tensor.shape)"
   ]
  },
  {
   "cell_type": "code",
   "execution_count": null,
   "id": "8f91cf26",
   "metadata": {},
   "outputs": [],
   "source": [
    "# Loop through the remaining slices\n",
    "result = stacked_tensor[:,0,:]\n",
    "for i in range(1, stacked_tensor.size(1)):\n",
    "    # Extract the next slice to serve as the kernel, which has shape (1, 1, 64, 2)\n",
    "    kernel_2d = stacked_tensor[:,i,:].unsqueeze(1)\n",
    "    kernel_2d_flipped = torch.flip(kernel_2d, dims=[-1])\n",
    "\n",
    "    # Reshape the input for Conv1d: treat each row as a separate channel\n",
    "    input_for_conv1d = result.unsqueeze(0)  # Shape becomes (1, H, W)\n",
    "\n",
    "    # Apply Conv1d with groups=H to perform independent convolution on each row\n",
    "    # in_channels = H (number of rows), out_channels = H (each row produces its own output),\n",
    "    # groups=H ensures each row is convolved with its own corresponding kernel row\n",
    "    result = F.conv1d(input_for_conv1d, kernel_2d_flipped, groups=batch_size, padding=1)\n",
    "\n",
    "    # Remove the extra dimension to get the final result\n",
    "    result = result.squeeze()\n",
    "\n",
    "# The final result will be in `result`\n",
    "print(result.shape)"
   ]
  },
  {
   "cell_type": "code",
   "execution_count": null,
   "id": "addf33d7",
   "metadata": {},
   "outputs": [],
   "source": [
    "result.shape"
   ]
  },
  {
   "cell_type": "code",
   "execution_count": null,
   "id": "e69b6ccc",
   "metadata": {},
   "outputs": [],
   "source": [
    "out.shape"
   ]
  },
  {
   "cell_type": "code",
   "execution_count": null,
   "id": "ea303c40",
   "metadata": {},
   "outputs": [],
   "source": [
    "batch.to(device)\n",
    "optimizer.zero_grad()\n",
    "out = model(batch)"
   ]
  },
  {
   "cell_type": "code",
   "execution_count": null,
   "id": "86b44b40",
   "metadata": {},
   "outputs": [],
   "source": [
    "out"
   ]
  },
  {
   "cell_type": "code",
   "execution_count": null,
   "id": "efb0f63a",
   "metadata": {},
   "outputs": [],
   "source": [
    "batch.y"
   ]
  }
 ],
 "metadata": {
  "kernelspec": {
   "display_name": "Python [conda env:mpnn]",
   "language": "python",
   "name": "conda-env-mpnn-py"
  },
  "language_info": {
   "codemirror_mode": {
    "name": "ipython",
    "version": 3
   },
   "file_extension": ".py",
   "mimetype": "text/x-python",
   "name": "python",
   "nbconvert_exporter": "python",
   "pygments_lexer": "ipython3",
   "version": "3.9.16"
  }
 },
 "nbformat": 4,
 "nbformat_minor": 5
}
