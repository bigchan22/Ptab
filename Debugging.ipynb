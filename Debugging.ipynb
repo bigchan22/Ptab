{
 "cells": [
  {
   "cell_type": "code",
   "execution_count": 1,
   "id": "7ff80285",
   "metadata": {},
   "outputs": [
    {
     "name": "stderr",
     "output_type": "stream",
     "text": [
      "<frozen importlib._bootstrap>:228: RuntimeWarning: scipy._lib.messagestream.MessageStream size changed, may indicate binary incompatibility. Expected 56 from C header, got 64 from PyObject\n"
     ]
    }
   ],
   "source": [
    "import os\n",
    "from BH.feature_functions import *\n",
    "\n",
    "GPU_NUM = \"0\"\n",
    "num_epochs = 500\n",
    "batch_size = 128\n",
    "\n",
    "use_ppath = False\n",
    "column_info = \"original\"\n",
    "\n",
    "graph_deg = 6\n",
    "num_layers = graph_deg\n",
    "num_features = 256\n",
    "feature_list = {\n",
    "    'constant':    (False, constant_feature),\n",
    "    'column':      (False, column_indicator),\n",
    "    'norm_column': (True, normalized_column_indicator), #   Feauture\n",
    "    'norm_column_rev': (False, normalized_column_rev_indicator),\n",
    "}\n",
    "connected = False\n",
    "UPTO = False\n",
    "\n",
    "direction = \"222\"\n",
    "\n",
    "shape_indicator = {\n",
    "    'all_with_all_row_connectedness_criterion': (False, ),\n",
    "    'all_with_inductive_connectedness_criterion': (False, ),\n",
    "    '2row_less': (False, ),\n",
    "    '2row_less_with_all_row_connectedness_criterion': (False, ),\n",
    "    '2row_less_with_inductive_connectedness_criterion': (False, ),\n",
    "    '3col_less_with_all_row_connectedness_criterion': (False, ),\n",
    "    '3col_less_with_inductive_connectedness_criterion': (True, ),\n",
    "}\n",
    "\n",
    "shape= {\n",
    "    'all': (False, ),# 3개다 \n",
    "    '2row_less': (False, ),\n",
    "    '3row_less': (True, ),\n",
    "}\n",
    "filter_indicator = {\n",
    "    'with_all_row_connectedness_criterion':(False,), \n",
    "    'with_inductive_connectedness_criterion':(False,),\n",
    "}\n",
    "\n",
    "\n",
    "use_pretrained_weights = False\n",
    "save_trained_weights = True\n",
    "\n",
    "step_size = 0.0001\n",
    "train_fraction = .8\n",
    "\n",
    "DIR_PATH = f'/Data/Ptab/n={graph_deg}'\n",
    "MODEL_DIR = './trained_models'\n",
    "MODEL_FILE = os.path.join(MODEL_DIR, f'parameters_{graph_deg}_{num_layers}_{num_features}')\n",
    "\n",
    "for key in shape_indicator:\n",
    "    if shape_indicator[key][0] == True:\n",
    "        DIR_PATH += f'_{key}'\n",
    "        MODEL_FILE += f'_{key}'\n",
    "\n",
    "\n",
    "if connected == True:\n",
    "    DIR_PATH += \"_connected\"\n",
    "    MODEL_FILE += \"_connected\"\n",
    "elif connected == False:\n",
    "    DIR_PATH += \"_disconnected\"\n",
    "    MODEL_FILE += \"_disconnected\"\n",
    "if UPTO == True:\n",
    "    DIR_PATH += \"_UPTO\"\n",
    "    MODEL_FILE += \"_UPTO\"\n",
    "if not column_info == \"original\":\n",
    "    DIR_PATH += column_info\n",
    "    MODEL_FILE += column_info\n",
    "if use_ppath:\n",
    "    DIR_PATH += \"_ppath\"    \n",
    "    MODEL_FILE += \"_ppath\"\n",
    "    \n",
    "for key in feature_list.keys():\n",
    "    if feature_list[key][0] == True:\n",
    "        MODEL_FILE += f'_{key}'\n",
    "MODEL_FILE += f'_{direction}'\n",
    "MODEL_FILE += '.pickle'\n",
    "\n"
   ]
  },
  {
   "cell_type": "code",
   "execution_count": 2,
   "id": "a618327c",
   "metadata": {},
   "outputs": [
    {
     "name": "stdout",
     "output_type": "stream",
     "text": [
      "/Data/Ptab/n=6_3col_less_with_inductive_connectedness_criterion_disconnected\n"
     ]
    }
   ],
   "source": [
    "print(DIR_PATH)"
   ]
  },
  {
   "cell_type": "code",
   "execution_count": 3,
   "id": "2bb90992",
   "metadata": {},
   "outputs": [
    {
     "name": "stderr",
     "output_type": "stream",
     "text": [
      "/root/anaconda3/envs/mpnn/lib/python3.9/site-packages/tqdm/auto.py:21: TqdmWarning: IProgress not found. Please update jupyter and ipywidgets. See https://ipywidgets.readthedocs.io/en/stable/user_install.html\n",
      "  from .autonotebook import tqdm as notebook_tqdm\n"
     ]
    },
    {
     "name": "stdout",
     "output_type": "stream",
     "text": [
      "Loading input data...\n",
      "Generating data from the directory /Data/Ptab/n=6_3col_less_with_inductive_connectedness_criterion_disconnected\n"
     ]
    }
   ],
   "source": [
    "import functools\n",
    "import enum\n",
    "import os\n",
    "from BH.data_loader import *\n",
    "# from BH.generate_data import *\n",
    "#from BH.data_loader import *\n",
    "#from BH.generate_data import *\n",
    "# from training_info import *\n",
    "\n",
    "import pickle\n",
    "\n",
    "from src.CustomDataset import *\n",
    "from GCN_model import *\n",
    "\n",
    "from torch_geometric.loader import DataLoader\n",
    "\n",
    "\n",
    "os.environ[\"CUDA_VISIBLE_DEVICES\"] = GPU_NUM\n",
    "device = \"cuda:\" + GPU_NUM\n",
    "\n",
    "\n",
    "print(\"Loading input data...\")\n",
    "full_dataset, train_dataset, test_dataset = load_input_data(DIR_PATH)"
   ]
  },
  {
   "cell_type": "code",
   "execution_count": 4,
   "id": "f55990ed",
   "metadata": {},
   "outputs": [],
   "source": [
    "node_dim = num_features\n",
    "edge_dim = 8\n",
    "graph_deg = graph_deg\n",
    "depth = num_layers\n",
    "\n",
    "test_dataset = CustomDataset(test_dataset)\n",
    "test_loader = DataLoader(test_dataset, batch_size=batch_size, shuffle=True)\n",
    "\n",
    "train_dataset = CustomDataset(train_dataset)\n",
    "train_loader = DataLoader(train_dataset, batch_size=batch_size, shuffle=True)\n",
    "\n",
    "# device = torch.device('cuda' if torch.cuda.is_available() else 'cpu')\n",
    "# model = pastGCN().to(device)\n",
    "if use_pretrained_weights == True:\n",
    "    try:\n",
    "        with open(MODEL_FILE, 'rb') as f:\n",
    "          model, max_accuracy, min_loss = pickle.load(f)\n",
    "          model.to(device)\n",
    "    except:\n",
    "        print(\"There is no trained_models model\")\n",
    "        use_pretrained_weights = False\n",
    "if use_pretrained_weights == False:\n",
    "    model = GCN_multi_conv(graph_deg, depth, node_dim, direction).to(device)\n",
    "    max_accuracy = 0\n",
    "    min_loss = 100\n",
    "\n",
    "# data = batch.to(device)\n",
    "# torch.nn.init.xavier_normal(model)\n",
    "# loss_function = torch.nn.CrossEntropyLoss()\n",
    "loss_function = torch.nn.NLLLoss()\n",
    "# loss_function = torch.nn.MSELoss()\n",
    "optimizer = torch.optim.Adam(model.parameters(), lr=step_size, weight_decay=5e-4)\n",
    "scheduler = torch.optim.lr_scheduler.LambdaLR(optimizer=optimizer,\n",
    "                                        lr_lambda=lambda epoch: 0.993 ** epoch,\n",
    "                                        last_epoch=-1,\n",
    "                                        verbose=False)"
   ]
  },
  {
   "cell_type": "code",
   "execution_count": 5,
   "id": "70c5f9d8",
   "metadata": {
    "scrolled": true
   },
   "outputs": [
    {
     "name": "stdout",
     "output_type": "stream",
     "text": [
      "DataBatch(x=[792, 1], edge_index=[2, 2772], y=[128], edge_types=[2772, 1], graph_sizes=[128], batch=[792], ptr=[129])\n"
     ]
    },
    {
     "name": "stderr",
     "output_type": "stream",
     "text": [
      "/root/Min/Ptab/CustomDataset.py:18: UserWarning: Creating a tensor from a list of numpy.ndarrays is extremely slow. Please consider converting the list to a single numpy.ndarray with numpy.array() before converting to a tensor. (Triggered internally at  /opt/conda/conda-bld/pytorch_1659484809662/work/torch/csrc/utils/tensor_new.cpp:201.)\n",
      "  edge_index = torch.tensor([self.rows[idx], self.cols[idx]], dtype=torch.long)\n"
     ]
    },
    {
     "data": {
      "text/plain": [
       "DataBatch(x=[792, 1], edge_index=[2, 2772], y=[128], edge_types=[2772, 1], graph_sizes=[128], batch=[792], ptr=[129])"
      ]
     },
     "execution_count": 5,
     "metadata": {},
     "output_type": "execute_result"
    }
   ],
   "source": [
    "for data in test_loader:\n",
    "    print(data)\n",
    "    break\n",
    "data"
   ]
  },
  {
   "cell_type": "code",
   "execution_count": 6,
   "id": "2834e5e8",
   "metadata": {},
   "outputs": [],
   "source": [
    "batch = data.batch\n",
    "batch_size = len(data.y)\n",
    "row_counts = torch.bincount(batch, minlength=batch_size)\n",
    "num_graphs_per_batch = torch.div(row_counts, data.graph_sizes, rounding_mode='floor')\n",
    "num_graphs = int(torch.sum(row_counts/data.graph_sizes))\n",
    "max_columns = data.graph_sizes.max().item()\n",
    "col_indices = torch.zeros_like(batch)    \n",
    "graph_offset = torch.cumsum(num_graphs_per_batch, dim=0) - num_graphs_per_batch\n",
    "\n"
   ]
  },
  {
   "cell_type": "code",
   "execution_count": 7,
   "id": "97148098",
   "metadata": {},
   "outputs": [],
   "source": [
    "xx = torch.full((num_graphs, max_columns, node_dim), 0.)"
   ]
  },
  {
   "cell_type": "code",
   "execution_count": 8,
   "id": "cbdcd4d3",
   "metadata": {},
   "outputs": [],
   "source": [
    "row_index = torch.cat([torch.arange(n_g).repeat_interleave(g_s) + offset\n",
    "                       for n_g, g_s, offset in zip(num_graphs_per_batch, data.graph_sizes, graph_offset)])\n",
    "# Compute column indices for each batch\n",
    "col_index = torch.cat([torch.arange(g_s).repeat(n_g) for n_g, g_s in zip(num_graphs_per_batch, data.graph_sizes)])"
   ]
  },
  {
   "cell_type": "markdown",
   "id": "e975cd04",
   "metadata": {},
   "source": [
    "xx[row_index, col_index, :] = data.x.view(-1, node_dim)"
   ]
  },
  {
   "cell_type": "code",
   "execution_count": 9,
   "id": "6ee0169b",
   "metadata": {
    "scrolled": true
   },
   "outputs": [
    {
     "name": "stdout",
     "output_type": "stream",
     "text": [
      "tensor(1.0319, device='cuda:0', grad_fn=<NllLossBackward0>)\n",
      "Accuracy: 61.33%\n",
      "Epoch [1/500], Accuracy: 61.33%, Loss: 1.031880259513855\n",
      "tensor(0.8653, device='cuda:0', grad_fn=<NllLossBackward0>)\n",
      "Accuracy: 74.03%\n",
      "Epoch [2/500], Accuracy: 74.03%, Loss: 0.865263223648071\n",
      "tensor(0.3920, device='cuda:0', grad_fn=<NllLossBackward0>)\n",
      "Accuracy: 77.90%\n",
      "Epoch [3/500], Accuracy: 77.90%, Loss: 0.391981184482574\n",
      "tensor(0.4477, device='cuda:0', grad_fn=<NllLossBackward0>)\n",
      "Accuracy: 75.14%\n",
      "Epoch [4/500], Accuracy: 75.14%, Loss: 0.447668969631195\n",
      "tensor(0.4301, device='cuda:0', grad_fn=<NllLossBackward0>)\n",
      "Accuracy: 81.22%\n",
      "Epoch [5/500], Accuracy: 81.22%, Loss: 0.430120140314102\n",
      "tensor(0.3143, device='cuda:0', grad_fn=<NllLossBackward0>)\n",
      "Accuracy: 84.53%\n",
      "Epoch [6/500], Accuracy: 84.53%, Loss: 0.314254701137543\n",
      "tensor(0.4557, device='cuda:0', grad_fn=<NllLossBackward0>)\n",
      "Accuracy: 79.01%\n",
      "Epoch [7/500], Accuracy: 79.01%, Loss: 0.455659210681915\n",
      "tensor(0.2998, device='cuda:0', grad_fn=<NllLossBackward0>)\n",
      "Accuracy: 80.11%\n",
      "Epoch [8/500], Accuracy: 80.11%, Loss: 0.299790412187576\n",
      "tensor(0.3331, device='cuda:0', grad_fn=<NllLossBackward0>)\n",
      "Accuracy: 86.19%\n",
      "Epoch [9/500], Accuracy: 86.19%, Loss: 0.333092093467712\n",
      "tensor(0.2684, device='cuda:0', grad_fn=<NllLossBackward0>)\n",
      "Accuracy: 87.85%\n",
      "Epoch [10/500], Accuracy: 87.85%, Loss: 0.268428951501846\n",
      "tensor(0.3031, device='cuda:0', grad_fn=<NllLossBackward0>)\n",
      "Accuracy: 82.32%\n",
      "Epoch [11/500], Accuracy: 82.32%, Loss: 0.303055375814438\n",
      "tensor(0.4139, device='cuda:0', grad_fn=<NllLossBackward0>)\n",
      "Accuracy: 85.64%\n",
      "Epoch [12/500], Accuracy: 85.64%, Loss: 0.413937926292419\n",
      "tensor(0.2964, device='cuda:0', grad_fn=<NllLossBackward0>)\n",
      "Accuracy: 86.74%\n",
      "Epoch [13/500], Accuracy: 86.74%, Loss: 0.296427011489868\n",
      "tensor(0.2296, device='cuda:0', grad_fn=<NllLossBackward0>)\n",
      "Accuracy: 87.29%\n",
      "Epoch [14/500], Accuracy: 87.29%, Loss: 0.229641512036324\n",
      "tensor(0.2487, device='cuda:0', grad_fn=<NllLossBackward0>)\n",
      "Accuracy: 87.29%\n",
      "Epoch [15/500], Accuracy: 87.29%, Loss: 0.248671531677246\n",
      "tensor(0.3000, device='cuda:0', grad_fn=<NllLossBackward0>)\n",
      "Accuracy: 87.29%\n",
      "Epoch [16/500], Accuracy: 87.29%, Loss: 0.299950569868088\n",
      "tensor(0.2172, device='cuda:0', grad_fn=<NllLossBackward0>)\n",
      "Accuracy: 85.08%\n",
      "Epoch [17/500], Accuracy: 85.08%, Loss: 0.217151612043381\n",
      "tensor(0.2643, device='cuda:0', grad_fn=<NllLossBackward0>)\n",
      "Accuracy: 86.74%\n",
      "Epoch [18/500], Accuracy: 86.74%, Loss: 0.264258652925491\n",
      "tensor(0.2389, device='cuda:0', grad_fn=<NllLossBackward0>)\n",
      "Accuracy: 88.95%\n",
      "Epoch [19/500], Accuracy: 88.95%, Loss: 0.238909021019936\n",
      "tensor(0.2279, device='cuda:0', grad_fn=<NllLossBackward0>)\n",
      "Accuracy: 90.06%\n",
      "Epoch [20/500], Accuracy: 90.06%, Loss: 0.227910965681076\n",
      "tensor(0.2384, device='cuda:0', grad_fn=<NllLossBackward0>)\n",
      "Accuracy: 88.95%\n",
      "Epoch [21/500], Accuracy: 88.95%, Loss: 0.238351792097092\n",
      "tensor(0.2041, device='cuda:0', grad_fn=<NllLossBackward0>)\n",
      "Accuracy: 88.40%\n",
      "Epoch [22/500], Accuracy: 88.40%, Loss: 0.204118967056274\n",
      "tensor(0.1696, device='cuda:0', grad_fn=<NllLossBackward0>)\n",
      "Accuracy: 88.95%\n",
      "Epoch [23/500], Accuracy: 88.95%, Loss: 0.169603735208511\n",
      "tensor(0.2177, device='cuda:0', grad_fn=<NllLossBackward0>)\n",
      "Accuracy: 90.06%\n",
      "Epoch [24/500], Accuracy: 90.06%, Loss: 0.217716619372368\n",
      "tensor(0.1327, device='cuda:0', grad_fn=<NllLossBackward0>)\n",
      "Accuracy: 89.50%\n",
      "Epoch [25/500], Accuracy: 89.50%, Loss: 0.132658645510674\n",
      "tensor(0.1974, device='cuda:0', grad_fn=<NllLossBackward0>)\n",
      "Accuracy: 90.61%\n",
      "Epoch [26/500], Accuracy: 90.61%, Loss: 0.197371408343315\n",
      "tensor(0.1597, device='cuda:0', grad_fn=<NllLossBackward0>)\n",
      "Accuracy: 89.50%\n",
      "Epoch [27/500], Accuracy: 89.50%, Loss: 0.159715890884399\n",
      "tensor(0.1711, device='cuda:0', grad_fn=<NllLossBackward0>)\n",
      "Accuracy: 90.61%\n",
      "Epoch [28/500], Accuracy: 90.61%, Loss: 0.171060353517532\n",
      "tensor(0.1492, device='cuda:0', grad_fn=<NllLossBackward0>)\n",
      "Accuracy: 90.61%\n",
      "Epoch [29/500], Accuracy: 90.61%, Loss: 0.149223640561104\n",
      "tensor(0.1534, device='cuda:0', grad_fn=<NllLossBackward0>)\n"
     ]
    },
    {
     "name": "stderr",
     "output_type": "stream",
     "text": [
      "\n",
      "KeyboardInterrupt\n",
      "\n"
     ]
    }
   ],
   "source": [
    "for epoch in range(num_epochs):\n",
    "    # Training phase\n",
    "    model.train()\n",
    "    for batch in train_loader:\n",
    "        batch.to(device)\n",
    "        optimizer.zero_grad()\n",
    "        out = model(batch)\n",
    "        log_probs = torch.log(torch.clamp(out, min=1e-9))\n",
    "#         log_probs = torch.log(out)\n",
    "        loss = loss_function(log_probs, batch.y)\n",
    "        loss.backward()\n",
    "        # Apply gradient clipping\n",
    "    \n",
    "        optimizer.step()\n",
    "    scheduler.step()\n",
    "    print(loss)\n",
    "    \n",
    "    # Evaluation phase\n",
    "    model.eval()\n",
    "    correct = 0\n",
    "    total = 0\n",
    "#     with torch.no_grad():\n",
    "#         for batch in test_loader:\n",
    "#             batch.to(device)\n",
    "#             outputs = model(batch)\n",
    "# #             _,predicted = torch.max(outputs.data, 1)\n",
    "#             predicted = outputs\n",
    "#             total += batch.y.size(0)\n",
    "# #             correct += (predicted == batch.y).sum().item()\n",
    "#             correct += ((predicted - batch.y)**2<0.1).sum().item()\n",
    "    with torch.no_grad():  # Disable gradient calculation\n",
    "        total = 0\n",
    "        correct = 0\n",
    "        for batch in test_loader:\n",
    "            # Move batch to the appropriate device (GPU or CPU)\n",
    "            batch.to(device)\n",
    "\n",
    "            # Forward pass: get model predictions\n",
    "            outputs = model(batch)\n",
    "\n",
    "            # Predicted classes are the indices of the max logits along the class dimension\n",
    "            _, predicted = torch.max(outputs.data, 1)  # Shape: (batch_size)\n",
    "\n",
    "            # Increment the total number of samples\n",
    "            total += batch.y.size(0)\n",
    "\n",
    "            # Compare predicted labels with ground truth labels\n",
    "            correct += (predicted == batch.y).sum().item()  # Count the number of correct predictions\n",
    "\n",
    "    # Compute the accuracy as a percentage\n",
    "    accuracy = 100 * correct / total\n",
    "    print(f'Accuracy: {accuracy:.2f}%')\n",
    "    # Compute accuracy\n",
    "    accuracy = correct / total\n",
    "    loss = float(loss.item())\n",
    "\n",
    "    print(\"Epoch [{}/{}], Accuracy: {:.2%}, Loss: {:.15f}\".format(epoch + 1, num_epochs, accuracy, loss))\n",
    "\n",
    "    if (accuracy > max_accuracy or (accuracy == max_accuracy and loss < min_loss)) and save_trained_weights:\n",
    "        max_accuracy = accuracy\n",
    "        min_loss = loss\n",
    "        with open(MODEL_FILE, 'wb') as f:\n",
    "            pickle.dump((model, max_accuracy, min_loss), f)"
   ]
  },
  {
   "cell_type": "code",
   "execution_count": 10,
   "id": "4ad080df",
   "metadata": {},
   "outputs": [
    {
     "name": "stdout",
     "output_type": "stream",
     "text": [
      "DataBatch(x=[798, 1], edge_index=[2, 2793], y=[128], edge_types=[2793, 1], graph_sizes=[128], batch=[798], ptr=[129])\n"
     ]
    }
   ],
   "source": [
    "for batch in train_loader:\n",
    "    print(batch)\n",
    "    batch.to(device)\n",
    "    out = model(batch)\n",
    "    out_single = model.GCN_single(batch)\n",
    "    break"
   ]
  }
 ],
 "metadata": {
  "kernelspec": {
   "display_name": "Python [conda env:mpnn]",
   "language": "python",
   "name": "conda-env-mpnn-py"
  },
  "language_info": {
   "codemirror_mode": {
    "name": "ipython",
    "version": 3
   },
   "file_extension": ".py",
   "mimetype": "text/x-python",
   "name": "python",
   "nbconvert_exporter": "python",
   "pygments_lexer": "ipython3",
   "version": "3.9.16"
  }
 },
 "nbformat": 4,
 "nbformat_minor": 5
}
