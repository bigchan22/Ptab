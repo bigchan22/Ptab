{
 "cells": [
  {
   "cell_type": "code",
   "execution_count": 9,
   "id": "2c1a6cf8",
   "metadata": {},
   "outputs": [
    {
     "ename": "NameError",
     "evalue": "name 'device' is not defined",
     "output_type": "error",
     "traceback": [
      "\u001b[0;31m---------------------------------------------------------------------------\u001b[0m",
      "\u001b[0;31mNameError\u001b[0m                                 Traceback (most recent call last)",
      "Cell \u001b[0;32mIn[9], line 27\u001b[0m\n\u001b[1;32m     25\u001b[0m \u001b[38;5;66;03m# Use row_counts to generate column indices\u001b[39;00m\n\u001b[1;32m     26\u001b[0m \u001b[38;5;28;01mfor\u001b[39;00m i \u001b[38;5;129;01min\u001b[39;00m \u001b[38;5;28mrange\u001b[39m(\u001b[38;5;241m64\u001b[39m):\n\u001b[0;32m---> 27\u001b[0m     col_indices[ri \u001b[38;5;241m==\u001b[39m i] \u001b[38;5;241m=\u001b[39m torch\u001b[38;5;241m.\u001b[39marange(row_counts[i],device \u001b[38;5;241m=\u001b[39m \u001b[43mdevice\u001b[49m)\n\u001b[1;32m     29\u001b[0m \u001b[38;5;66;03m# Place the values from A into B using advanced indexing\u001b[39;00m\n\u001b[1;32m     30\u001b[0m B[ri, col_indices] \u001b[38;5;241m=\u001b[39m A\n",
      "\u001b[0;31mNameError\u001b[0m: name 'device' is not defined"
     ]
    }
   ],
   "source": [
    "import torch\n",
    "import torch\n",
    "import torch.nn.functional as F\n",
    "\n",
    "# Example tensors\n",
    "A = torch.randn(71, 1)  # Tensor A of shape (71, 1)\n",
    "ri = torch.randint(0, 64, (71, 1))  # Row information tensor ri with values between 0 and 63\n",
    "\n",
    "# Flatten A and ri to 1D tensors for easier manipulation\n",
    "A = A.view(-1)\n",
    "ri = ri.view(-1)\n",
    "\n",
    "# Count occurrences of each row index in ri to determine column sizes\n",
    "row_counts = torch.bincount(ri, minlength=64)\n",
    "\n",
    "# Determine the maximum number of columns needed\n",
    "max_columns = row_counts.max().item()\n",
    "\n",
    "# Initialize tensor B with -inf to indicate empty values\n",
    "B = torch.full((64, max_columns), -float('inf'))\n",
    "\n",
    "# Create an empty tensor to keep track of the next available column index for each row\n",
    "col_indices = torch.zeros_like(ri)\n",
    "\n",
    "# Use row_counts to generate column indices\n",
    "for i in range(64):\n",
    "    col_indices[ri == i] = torch.arange(row_counts[i])\n",
    "\n",
    "# Place the values from A into B using advanced indexing\n",
    "B[ri, col_indices] = A\n",
    "\n",
    "print(B)\n"
   ]
  },
  {
   "cell_type": "code",
   "execution_count": 3,
   "id": "ebe6f45a",
   "metadata": {},
   "outputs": [
    {
     "name": "stdout",
     "output_type": "stream",
     "text": [
      "torch.Size([64, 3, 2])\n"
     ]
    }
   ],
   "source": [
    "B = torch.sigmoid(B)\n",
    "B_complement = 1 - B\n",
    "\n",
    "# Stack B and B_complement along a new dimension\n",
    "# This creates a new tensor with shape (64, max_columns, 2)\n",
    "stacked_tensor = torch.stack((B_complement,B), dim=-1)\n",
    "\n",
    "print(stacked_tensor.shape)"
   ]
  },
  {
   "cell_type": "code",
   "execution_count": 5,
   "id": "6793c840",
   "metadata": {},
   "outputs": [
    {
     "name": "stdout",
     "output_type": "stream",
     "text": [
      "torch.Size([64, 4])\n"
     ]
    }
   ],
   "source": [
    "# Loop through the remaining slices\n",
    "result = stacked_tensor[:,0,:]\n",
    "H=64\n",
    "for i in range(1, stacked_tensor.size(1)):\n",
    "    # Extract the next slice to serve as the kernel, which has shape (1, 1, 64, 2)\n",
    "    kernel_2d = stacked_tensor[:,i,:].unsqueeze(1)\n",
    "    kernel_2d_flipped = torch.flip(kernel_2d, dims=[-1])\n",
    "\n",
    "    # Reshape the input for Conv1d: treat each row as a separate channel\n",
    "    input_for_conv1d = result.unsqueeze(0)  # Shape becomes (1, H, W)\n",
    "\n",
    "    # Apply Conv1d with groups=H to perform independent convolution on each row\n",
    "    # in_channels = H (number of rows), out_channels = H (each row produces its own output),\n",
    "    # groups=H ensures each row is convolved with its own corresponding kernel row\n",
    "    result = F.conv1d(input_for_conv1d, kernel_2d_flipped, groups=H, padding=1)\n",
    "\n",
    "    # Remove the extra dimension to get the final result\n",
    "    result = result.squeeze()\n",
    "\n",
    "# The final result will be in `result`\n",
    "print(result.shape)"
   ]
  },
  {
   "cell_type": "code",
   "execution_count": 7,
   "id": "ba77b041",
   "metadata": {},
   "outputs": [
    {
     "data": {
      "text/plain": [
       "tensor([[1.0000, 0.0000, 0.0000, 0.0000],\n",
       "        [0.1615, 0.4826, 0.3558, 0.0000],\n",
       "        [0.1171, 0.4186, 0.3688, 0.0955],\n",
       "        [1.0000, 0.0000, 0.0000, 0.0000],\n",
       "        [1.0000, 0.0000, 0.0000, 0.0000],\n",
       "        [0.6342, 0.3658, 0.0000, 0.0000],\n",
       "        [0.2680, 0.5179, 0.2141, 0.0000],\n",
       "        [0.1393, 0.8607, 0.0000, 0.0000],\n",
       "        [1.0000, 0.0000, 0.0000, 0.0000],\n",
       "        [0.4543, 0.5457, 0.0000, 0.0000],\n",
       "        [0.2201, 0.4517, 0.2756, 0.0526],\n",
       "        [0.3477, 0.6523, 0.0000, 0.0000],\n",
       "        [0.5922, 0.4078, 0.0000, 0.0000],\n",
       "        [0.4350, 0.5650, 0.0000, 0.0000],\n",
       "        [1.0000, 0.0000, 0.0000, 0.0000],\n",
       "        [1.0000, 0.0000, 0.0000, 0.0000],\n",
       "        [0.3802, 0.6198, 0.0000, 0.0000],\n",
       "        [0.5442, 0.4558, 0.0000, 0.0000],\n",
       "        [0.7134, 0.2866, 0.0000, 0.0000],\n",
       "        [0.1316, 0.4752, 0.3335, 0.0597],\n",
       "        [1.0000, 0.0000, 0.0000, 0.0000],\n",
       "        [0.1776, 0.5014, 0.3211, 0.0000],\n",
       "        [0.5329, 0.4671, 0.0000, 0.0000],\n",
       "        [0.1963, 0.4308, 0.3041, 0.0687],\n",
       "        [0.3137, 0.6863, 0.0000, 0.0000],\n",
       "        [0.1513, 0.8487, 0.0000, 0.0000],\n",
       "        [0.1359, 0.4081, 0.3619, 0.0941],\n",
       "        [0.5799, 0.4201, 0.0000, 0.0000],\n",
       "        [0.3193, 0.6807, 0.0000, 0.0000],\n",
       "        [1.0000, 0.0000, 0.0000, 0.0000],\n",
       "        [0.2444, 0.7556, 0.0000, 0.0000],\n",
       "        [0.5041, 0.4959, 0.0000, 0.0000],\n",
       "        [1.0000, 0.0000, 0.0000, 0.0000],\n",
       "        [0.2933, 0.5001, 0.2066, 0.0000],\n",
       "        [1.0000, 0.0000, 0.0000, 0.0000],\n",
       "        [0.3635, 0.6365, 0.0000, 0.0000],\n",
       "        [0.1830, 0.4951, 0.3219, 0.0000],\n",
       "        [0.0856, 0.3621, 0.4112, 0.1411],\n",
       "        [0.3129, 0.6871, 0.0000, 0.0000],\n",
       "        [0.0568, 0.2991, 0.4500, 0.1942],\n",
       "        [1.0000, 0.0000, 0.0000, 0.0000],\n",
       "        [0.5269, 0.4148, 0.0583, 0.0000],\n",
       "        [1.0000, 0.0000, 0.0000, 0.0000],\n",
       "        [1.0000, 0.0000, 0.0000, 0.0000],\n",
       "        [1.0000, 0.0000, 0.0000, 0.0000],\n",
       "        [1.0000, 0.0000, 0.0000, 0.0000],\n",
       "        [1.0000, 0.0000, 0.0000, 0.0000],\n",
       "        [0.2745, 0.5017, 0.2238, 0.0000],\n",
       "        [1.0000, 0.0000, 0.0000, 0.0000],\n",
       "        [0.7570, 0.2430, 0.0000, 0.0000],\n",
       "        [0.1777, 0.5564, 0.2660, 0.0000],\n",
       "        [1.0000, 0.0000, 0.0000, 0.0000],\n",
       "        [1.0000, 0.0000, 0.0000, 0.0000],\n",
       "        [0.0146, 0.1579, 0.4894, 0.3381],\n",
       "        [1.0000, 0.0000, 0.0000, 0.0000],\n",
       "        [0.4079, 0.4626, 0.1295, 0.0000],\n",
       "        [0.2109, 0.5136, 0.2755, 0.0000],\n",
       "        [1.0000, 0.0000, 0.0000, 0.0000],\n",
       "        [0.4896, 0.5104, 0.0000, 0.0000],\n",
       "        [0.0946, 0.3594, 0.4086, 0.1374],\n",
       "        [1.0000, 0.0000, 0.0000, 0.0000],\n",
       "        [1.0000, 0.0000, 0.0000, 0.0000],\n",
       "        [0.0803, 0.4050, 0.4249, 0.0898],\n",
       "        [0.4819, 0.5181, 0.0000, 0.0000]])"
      ]
     },
     "execution_count": 7,
     "metadata": {},
     "output_type": "execute_result"
    }
   ],
   "source": [
    "result"
   ]
  }
 ],
 "metadata": {
  "kernelspec": {
   "display_name": "Python [conda env:mpnn]",
   "language": "python",
   "name": "conda-env-mpnn-py"
  },
  "language_info": {
   "codemirror_mode": {
    "name": "ipython",
    "version": 3
   },
   "file_extension": ".py",
   "mimetype": "text/x-python",
   "name": "python",
   "nbconvert_exporter": "python",
   "pygments_lexer": "ipython3",
   "version": "3.9.16"
  }
 },
 "nbformat": 4,
 "nbformat_minor": 5
}
