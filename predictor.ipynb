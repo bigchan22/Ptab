{
 "cells": [
  {
   "cell_type": "code",
   "execution_count": 1,
   "id": "b87e11b5",
   "metadata": {
    "ExecuteTime": {
     "end_time": "2025-03-20T01:51:15.307908Z",
     "start_time": "2025-03-20T01:51:15.303323Z"
    },
    "scrolled": true
   },
   "outputs": [
    {
     "name": "stderr",
     "output_type": "stream",
     "text": [
      "/home/chanhomin/anaconda3/envs/mpnn/lib/python3.9/site-packages/tqdm/auto.py:21: TqdmWarning: IProgress not found. Please update jupyter and ipywidgets. See https://ipywidgets.readthedocs.io/en/stable/user_install.html\n",
      "  from .autonotebook import tqdm as notebook_tqdm\n"
     ]
    }
   ],
   "source": [
    "import networkx as nx\n",
    "import numpy as np\n",
    "import scipy.sparse as sp\n",
    "import pickle\n",
    "import torch\n",
    "from torch_geometric.loader import DataLoader\n",
    "from src.data.data_loader import load_input_data\n",
    "from predictor import find_direction, find_feature\n",
    "from predictor import load_models, predict_tableau\n",
    "from src.CustomDataset import CustomDataset\n",
    "from src.data.Data_gen_utils import shape_of_word\n",
    "from src.data.data_loader import convert_networkx_to_adjacency_input, InputData\n",
    "from src.data.generate_data import make_matrix_from_T"
   ]
  },
  {
   "cell_type": "code",
   "execution_count": 2,
   "id": "7e7cd08e",
   "metadata": {
    "ExecuteTime": {
     "end_time": "2025-03-20T01:51:15.318338Z",
     "start_time": "2025-03-20T01:51:15.314790Z"
    }
   },
   "outputs": [],
   "source": [
    "device = \"cuda:0\""
   ]
  },
  {
   "cell_type": "code",
   "execution_count": 3,
   "id": "3e2071b3",
   "metadata": {
    "ExecuteTime": {
     "end_time": "2025-03-20T01:51:15.519441Z",
     "start_time": "2025-03-20T01:51:15.506555Z"
    }
   },
   "outputs": [
    {
     "name": "stdout",
     "output_type": "stream",
     "text": [
      "  0 0.9958 8_4_256_all_with_all_row_connectedness_criterion_connected_UPTO_constant_222_conv\n"
     ]
    }
   ],
   "source": [
    "MODELS = load_models()"
   ]
  },
  {
   "cell_type": "code",
   "execution_count": 4,
   "id": "aef3b96c",
   "metadata": {
    "ExecuteTime": {
     "end_time": "2025-03-20T01:51:15.711017Z",
     "start_time": "2025-03-20T01:51:15.706484Z"
    }
   },
   "outputs": [],
   "source": [
    "MODEL = MODELS[0]"
   ]
  },
  {
   "cell_type": "code",
   "execution_count": 5,
   "id": "8a626f96",
   "metadata": {},
   "outputs": [],
   "source": [
    "with open(MODEL, 'rb') as f:\n",
    "    model, acc, loss = pickle.load(f)\n",
    "    model.to(device)"
   ]
  },
  {
   "cell_type": "code",
   "execution_count": null,
   "id": "9ef385b4",
   "metadata": {},
   "outputs": [],
   "source": []
  },
  {
   "cell_type": "code",
   "execution_count": 6,
   "id": "0a2f5e71",
   "metadata": {
    "ExecuteTime": {
     "end_time": "2025-03-20T01:51:16.562505Z",
     "start_time": "2025-03-20T01:51:15.899953Z"
    }
   },
   "outputs": [
    {
     "name": "stdout",
     "output_type": "stream",
     "text": [
      "Loading input data...\n",
      "Generating data from the directory ./Data/n=5_all_with_inductive_connectedness_criterion_connected_UPTO/\n"
     ]
    }
   ],
   "source": [
    "DIR_PATH = \"./Data/n=5_all_with_inductive_connectedness_criterion_connected_UPTO/\"\n",
    "\n",
    "print(\"Loading input data...\")\n",
    "full_dataset, train_dataset, test_dataset = load_input_data(DIR_PATH)"
   ]
  },
  {
   "cell_type": "code",
   "execution_count": 7,
   "id": "cc65faad",
   "metadata": {},
   "outputs": [],
   "source": [
    "batch_size = 1\n",
    "\n",
    "test_dataset = CustomDataset(test_dataset)\n",
    "test_loader = DataLoader(test_dataset, batch_size=batch_size, shuffle=True)"
   ]
  },
  {
   "cell_type": "code",
   "execution_count": null,
   "id": "91a571da",
   "metadata": {},
   "outputs": [],
   "source": []
  },
  {
   "cell_type": "code",
   "execution_count": 8,
   "id": "63ae2ba6",
   "metadata": {},
   "outputs": [
    {
     "name": "stderr",
     "output_type": "stream",
     "text": [
      "/home/chanhomin/Ptab/Ptab/src/CustomDataset.py:20: UserWarning: Creating a tensor from a list of numpy.ndarrays is extremely slow. Please consider converting the list to a single numpy.ndarray with numpy.array() before converting to a tensor. (Triggered internally at  /opt/conda/conda-bld/pytorch_1659484809662/work/torch/csrc/utils/tensor_new.cpp:201.)\n",
      "  edge_index = torch.tensor([self.rows[idx], self.cols[idx]], dtype=torch.long)\n"
     ]
    },
    {
     "name": "stdout",
     "output_type": "stream",
     "text": [
      "tensor([[0.9936, 0.0064]], device='cuda:0')\n"
     ]
    }
   ],
   "source": [
    "with torch.no_grad():\n",
    "    for batch in test_loader:\n",
    "        batch.to(device)\n",
    "        outputs = model(batch)\n",
    "        print(outputs)\n",
    "        break"
   ]
  },
  {
   "cell_type": "markdown",
   "id": "cbf379b3",
   "metadata": {},
   "source": [
    "for data in test_dataset:\n",
    "    data1= data\n",
    "    break"
   ]
  },
  {
   "cell_type": "code",
   "execution_count": 26,
   "id": "41924e6139a651d",
   "metadata": {
    "ExecuteTime": {
     "end_time": "2025-03-20T01:51:16.769289Z",
     "start_time": "2025-03-20T01:51:16.725929Z"
    }
   },
   "outputs": [
    {
     "ename": "TypeError",
     "evalue": "'tuple' object is not callable",
     "output_type": "error",
     "traceback": [
      "\u001b[0;31m---------------------------------------------------------------------------\u001b[0m",
      "\u001b[0;31mTypeError\u001b[0m                                 Traceback (most recent call last)",
      "Cell \u001b[0;32mIn[26], line 3\u001b[0m\n\u001b[1;32m      1\u001b[0m P \u001b[38;5;241m=\u001b[39m [\u001b[38;5;241m2\u001b[39m, \u001b[38;5;241m3\u001b[39m, \u001b[38;5;241m4\u001b[39m, \u001b[38;5;241m5\u001b[39m, \u001b[38;5;241m6\u001b[39m, \u001b[38;5;241m7\u001b[39m, \u001b[38;5;241m7\u001b[39m]\n\u001b[1;32m      2\u001b[0m word \u001b[38;5;241m=\u001b[39m [\u001b[38;5;241m3\u001b[39m, \u001b[38;5;241m2\u001b[39m, \u001b[38;5;241m1\u001b[39m, \u001b[38;5;241m4\u001b[39m, \u001b[38;5;241m5\u001b[39m, \u001b[38;5;241m6\u001b[39m, \u001b[38;5;241m7\u001b[39m]\n\u001b[0;32m----> 3\u001b[0m \u001b[43mpredict_tableau\u001b[49m\u001b[43m(\u001b[49m\u001b[43mP\u001b[49m\u001b[43m,\u001b[49m\u001b[43m \u001b[49m\u001b[43mword\u001b[49m\u001b[43m,\u001b[49m\u001b[43m \u001b[49m\u001b[43mMODEL\u001b[49m\u001b[43m)\u001b[49m\n",
      "File \u001b[0;32m~/Ptab/Ptab/predictor.py:166\u001b[0m, in \u001b[0;36mpredict_tableau\u001b[0;34m(P, word, MODEL)\u001b[0m\n\u001b[1;32m    164\u001b[0m feat_dict \u001b[38;5;241m=\u001b[39m \u001b[38;5;28mdict\u001b[39m()\n\u001b[1;32m    165\u001b[0m \u001b[38;5;28;01mfor\u001b[39;00m key, value \u001b[38;5;129;01min\u001b[39;00m features\u001b[38;5;241m.\u001b[39mitems():\n\u001b[0;32m--> 166\u001b[0m     feat_dict[key] \u001b[38;5;241m=\u001b[39m value(graph)\n\u001b[1;32m    168\u001b[0m feature \u001b[38;5;241m=\u001b[39m np\u001b[38;5;241m.\u001b[39mzeros((\u001b[38;5;28mlen\u001b[39m(graph), \u001b[38;5;28mlen\u001b[39m(feat_dict)))\n\u001b[1;32m    170\u001b[0m \u001b[38;5;28;01mfor\u001b[39;00m n, node \u001b[38;5;129;01min\u001b[39;00m \u001b[38;5;28menumerate\u001b[39m(graph\u001b[38;5;241m.\u001b[39mnodes):\n",
      "\u001b[0;31mTypeError\u001b[0m: 'tuple' object is not callable"
     ]
    }
   ],
   "source": [
    "P = [2, 3, 4, 5, 6, 7, 7]\n",
    "word = [3, 2, 1, 4, 5, 6, 7]\n",
    "predict_tableau(P, word, MODEL)"
   ]
  },
  {
   "cell_type": "code",
   "execution_count": 11,
   "id": "5425ea22",
   "metadata": {},
   "outputs": [],
   "source": [
    "features = find_feature(MODEL)"
   ]
  },
  {
   "cell_type": "code",
   "execution_count": 12,
   "id": "d2ddea0e",
   "metadata": {},
   "outputs": [
    {
     "data": {
      "text/plain": [
       "{'constant': (True, <function src.data.feature_functions.constant_feature(D)>)}"
      ]
     },
     "execution_count": 12,
     "metadata": {},
     "output_type": "execute_result"
    }
   ],
   "source": [
    "features"
   ]
  },
  {
   "cell_type": "code",
   "execution_count": 15,
   "id": "6d551c56",
   "metadata": {
    "ExecuteTime": {
     "end_time": "2025-03-20T01:51:16.812589831Z",
     "start_time": "2025-03-20T01:38:00.276197Z"
    }
   },
   "outputs": [
    {
     "name": "stdout",
     "output_type": "stream",
     "text": [
      "[7]\n",
      "7\n"
     ]
    }
   ],
   "source": [
    "shape = shape_of_word(P, word)\n",
    "print(shape)\n",
    "\n",
    "direction1, direction2, direction3 = find_direction(MODEL)\n",
    "# direction1, direction2, direction3 = Direction.FORWARD, Direction.FORWARD, Direction.FORWARD\n",
    "features = find_feature(MODEL)\n",
    "\n",
    "T = make_matrix_from_T(P, word, direction=(direction1, direction2, direction3))\n",
    "graph = nx.from_scipy_sparse_array(T, create_using=nx.DiGraph)\n",
    "\n",
    "feat_dict = dict()\n",
    "for key, value in features.items():\n",
    "    feat_dict[key] = value[1](graph)\n",
    "\n",
    "feature = np.zeros((len(graph), len(feat_dict)))\n",
    "\n",
    "for n, node in enumerate(graph.nodes):\n",
    "    for i, (key, value) in enumerate(feat_dict.items()):\n",
    "        feature[n, i] = value[node]\n",
    "\n",
    "features = [feature]\n",
    "ys = np.array([1])\n",
    "adjacencies = [convert_networkx_to_adjacency_input(graph)]\n",
    "\n",
    "rows = [np.array(sp.coo_matrix(a).row, dtype=np.int16) for a in adjacencies]\n",
    "cols = [np.array(sp.coo_matrix(a).col, dtype=np.int16) for a in adjacencies]\n",
    "edge_types = [np.array(sp.coo_matrix(a).data, dtype=np.int16) for a in adjacencies]\n",
    "graphs_sizes = [len(graph.nodes)]\n",
    "print(len(graph.nodes))\n",
    "# T_inputdata = InputData(features=features, labels=ys, rows=rows, columns=cols, edge_types=edge_types)\n",
    "T_inputdata = InputData(features=features, labels=ys, rows=rows, columns=cols, edge_types=edge_types, graph_sizes=graphs_sizes)\n",
    "T_dataset = CustomDataset(T_inputdata)\n",
    "T_loader = DataLoader(T_dataset, batch_size=1, shuffle=True)\n"
   ]
  },
  {
   "cell_type": "code",
   "execution_count": 16,
   "id": "6fa50e44",
   "metadata": {},
   "outputs": [
    {
     "data": {
      "text/plain": [
       "[array([0, 0, 0, 0, 0, 0, 0, 1, 1, 1, 1, 1, 1, 1, 2, 2, 2, 2, 2, 2, 2, 3,\n",
       "        3, 3, 3, 3, 3, 3, 4, 4, 4, 4, 4, 4, 4, 5, 5, 5, 5, 5, 5, 5, 6, 6,\n",
       "        6, 6, 6, 6, 6], dtype=int16)]"
      ]
     },
     "execution_count": 16,
     "metadata": {},
     "output_type": "execute_result"
    }
   ],
   "source": [
    "rows"
   ]
  },
  {
   "cell_type": "code",
   "execution_count": 17,
   "id": "734d7e52",
   "metadata": {},
   "outputs": [
    {
     "data": {
      "text/plain": [
       "[array([1, 4, 3, 3, 3, 3, 3, 4, 1, 4, 3, 3, 3, 3, 3, 4, 1, 4, 3, 3, 3, 3,\n",
       "        3, 4, 1, 4, 3, 3, 3, 3, 3, 4, 1, 4, 3, 3, 3, 3, 3, 4, 1, 4, 3, 3,\n",
       "        3, 3, 3, 4, 1], dtype=int16)]"
      ]
     },
     "execution_count": 17,
     "metadata": {},
     "output_type": "execute_result"
    }
   ],
   "source": [
    "edge_types"
   ]
  },
  {
   "cell_type": "code",
   "execution_count": 18,
   "id": "ff03a7a7",
   "metadata": {},
   "outputs": [
    {
     "data": {
      "text/plain": [
       "[7]"
      ]
     },
     "execution_count": 18,
     "metadata": {},
     "output_type": "execute_result"
    }
   ],
   "source": [
    "graphs_sizes"
   ]
  },
  {
   "cell_type": "code",
   "execution_count": 19,
   "id": "c9292d79",
   "metadata": {},
   "outputs": [
    {
     "data": {
      "text/plain": [
       "<torch_geometric.loader.dataloader.DataLoader at 0x7f62003435e0>"
      ]
     },
     "execution_count": 19,
     "metadata": {},
     "output_type": "execute_result"
    }
   ],
   "source": [
    "T_loader"
   ]
  },
  {
   "cell_type": "code",
   "execution_count": 20,
   "id": "2654db11",
   "metadata": {},
   "outputs": [],
   "source": [
    "import pickle"
   ]
  },
  {
   "cell_type": "code",
   "execution_count": 21,
   "id": "9beaa05b",
   "metadata": {},
   "outputs": [],
   "source": [
    "with open(MODEL, 'rb') as f:\n",
    "    model, acc, loss = pickle.load(f)\n",
    "    model.to(device)"
   ]
  },
  {
   "cell_type": "code",
   "execution_count": 22,
   "id": "a685e0a5",
   "metadata": {},
   "outputs": [
    {
     "name": "stdout",
     "output_type": "stream",
     "text": [
      "tensor([0, 0, 0, 0, 0, 0, 0], device='cuda:0')\n",
      "tensor([[1.],\n",
      "        [1.],\n",
      "        [1.],\n",
      "        [1.],\n",
      "        [1.],\n",
      "        [1.],\n",
      "        [1.]], device='cuda:0')\n",
      "tensor([[0, 0, 0, 0, 0, 0, 0, 1, 1, 1, 1, 1, 1, 1, 2, 2, 2, 2, 2, 2, 2, 3, 3, 3,\n",
      "         3, 3, 3, 3, 4, 4, 4, 4, 4, 4, 4, 5, 5, 5, 5, 5, 5, 5, 6, 6, 6, 6, 6, 6,\n",
      "         6],\n",
      "        [0, 1, 2, 3, 4, 5, 6, 0, 1, 2, 3, 4, 5, 6, 0, 1, 2, 3, 4, 5, 6, 0, 1, 2,\n",
      "         3, 4, 5, 6, 0, 1, 2, 3, 4, 5, 6, 0, 1, 2, 3, 4, 5, 6, 0, 1, 2, 3, 4, 5,\n",
      "         6]], device='cuda:0')\n",
      "tensor([[1.],\n",
      "        [4.],\n",
      "        [3.],\n",
      "        [3.],\n",
      "        [3.],\n",
      "        [3.],\n",
      "        [3.],\n",
      "        [4.],\n",
      "        [1.],\n",
      "        [4.],\n",
      "        [3.],\n",
      "        [3.],\n",
      "        [3.],\n",
      "        [3.],\n",
      "        [3.],\n",
      "        [4.],\n",
      "        [1.],\n",
      "        [4.],\n",
      "        [3.],\n",
      "        [3.],\n",
      "        [3.],\n",
      "        [3.],\n",
      "        [3.],\n",
      "        [4.],\n",
      "        [1.],\n",
      "        [4.],\n",
      "        [3.],\n",
      "        [3.],\n",
      "        [3.],\n",
      "        [3.],\n",
      "        [3.],\n",
      "        [4.],\n",
      "        [1.],\n",
      "        [4.],\n",
      "        [3.],\n",
      "        [3.],\n",
      "        [3.],\n",
      "        [3.],\n",
      "        [3.],\n",
      "        [4.],\n",
      "        [1.],\n",
      "        [4.],\n",
      "        [3.],\n",
      "        [3.],\n",
      "        [3.],\n",
      "        [3.],\n",
      "        [3.],\n",
      "        [4.],\n",
      "        [1.]], device='cuda:0')\n",
      "tensor([[1.8233e-04, 9.9982e-01]], device='cuda:0', grad_fn=<SliceBackward0>)\n",
      "---------\n"
     ]
    }
   ],
   "source": [
    "for batch in T_loader:\n",
    "    batch.to(device)\n",
    "    print(batch.batch)\n",
    "    print(batch.x)\n",
    "    print(batch.edge_index)\n",
    "    print(batch.edge_types)\n",
    "    predicted = model(batch)\n",
    "    print(predicted)\n",
    "    print(\"---------\")"
   ]
  },
  {
   "cell_type": "code",
   "execution_count": 23,
   "id": "7ccdb0c5",
   "metadata": {},
   "outputs": [
    {
     "data": {
      "text/plain": [
       "tensor([[1.],\n",
       "        [1.],\n",
       "        [1.],\n",
       "        [1.],\n",
       "        [1.],\n",
       "        [1.],\n",
       "        [1.]], device='cuda:0')"
      ]
     },
     "execution_count": 23,
     "metadata": {},
     "output_type": "execute_result"
    }
   ],
   "source": [
    "batch.x"
   ]
  },
  {
   "cell_type": "code",
   "execution_count": 24,
   "id": "3a7a661b",
   "metadata": {},
   "outputs": [
    {
     "ename": "NameError",
     "evalue": "name 'tt' is not defined",
     "output_type": "error",
     "traceback": [
      "\u001b[0;31m---------------------------------------------------------------------------\u001b[0m",
      "\u001b[0;31mNameError\u001b[0m                                 Traceback (most recent call last)",
      "Cell \u001b[0;32mIn[24], line 1\u001b[0m\n\u001b[0;32m----> 1\u001b[0m \u001b[43mtt\u001b[49m\u001b[38;5;241m.\u001b[39mx\n",
      "\u001b[0;31mNameError\u001b[0m: name 'tt' is not defined"
     ]
    }
   ],
   "source": [
    "tt.x"
   ]
  },
  {
   "cell_type": "code",
   "execution_count": null,
   "id": "cfa7edc8",
   "metadata": {},
   "outputs": [],
   "source": [
    "tt.edge_types"
   ]
  },
  {
   "cell_type": "code",
   "execution_count": 25,
   "id": "b99673d5",
   "metadata": {},
   "outputs": [
    {
     "name": "stdout",
     "output_type": "stream",
     "text": [
      "tensor([0, 0, 0, 0, 0], device='cuda:0')\n",
      "tensor([[1.],\n",
      "        [1.],\n",
      "        [1.],\n",
      "        [1.],\n",
      "        [1.]], device='cuda:0')\n",
      "tensor([[0, 0, 0, 0, 0, 1, 1, 2, 2, 2, 2, 3, 3, 3, 4],\n",
      "        [0, 1, 2, 3, 4, 1, 4, 1, 2, 3, 4, 1, 3, 4, 4]], device='cuda:0')\n",
      "tensor([[1.],\n",
      "        [4.],\n",
      "        [4.],\n",
      "        [3.],\n",
      "        [3.],\n",
      "        [1.],\n",
      "        [3.],\n",
      "        [4.],\n",
      "        [1.],\n",
      "        [4.],\n",
      "        [4.],\n",
      "        [4.],\n",
      "        [1.],\n",
      "        [4.],\n",
      "        [1.]], device='cuda:0')\n",
      "tensor([[1.8233e-04, 9.9982e-01]], device='cuda:0', grad_fn=<SliceBackward0>)\n",
      "---------\n"
     ]
    }
   ],
   "source": [
    "for tt in test_loader:\n",
    "    tt.to(device)\n",
    "    print(tt.batch)\n",
    "    print(tt.x)\n",
    "    print(tt.edge_index)\n",
    "    print(tt.edge_types)\n",
    "    \n",
    "    predicted = model(batch)\n",
    "    print(predicted)\n",
    "    print(\"---------\")\n",
    "    break"
   ]
  }
 ],
 "metadata": {
  "kernelspec": {
   "display_name": "Python [conda env:mpnn] *",
   "language": "python",
   "name": "conda-env-mpnn-py"
  },
  "language_info": {
   "codemirror_mode": {
    "name": "ipython",
    "version": 3
   },
   "file_extension": ".py",
   "mimetype": "text/x-python",
   "name": "python",
   "nbconvert_exporter": "python",
   "pygments_lexer": "ipython3",
   "version": "3.9.16"
  }
 },
 "nbformat": 4,
 "nbformat_minor": 5
}
