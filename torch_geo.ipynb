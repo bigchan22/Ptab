{
 "cells": [
  {
   "cell_type": "code",
   "execution_count": 1,
   "id": "da3159fa",
   "metadata": {},
   "outputs": [
    {
     "name": "stdout",
     "output_type": "stream",
     "text": [
      "Loading input data...\n",
      "Generating data from the directory /Data/Ptab/n=5_2row\n"
     ]
    }
   ],
   "source": [
    "import functools\n",
    "import enum\n",
    "import os\n",
    "\n",
    "from BH.data_loader import *\n",
    "from BH.generate_data import *\n",
    "from training_info import *\n",
    "# from Model_e import Model_e,Direction,Reduction\n",
    "from Train import train,print_accuracies\n",
    "from torch_geometric.loader import DataLoader\n",
    "\n",
    "\n",
    "os.environ[\"CUDA_VISIBLE_DEVICES\"] = \"0\"\n",
    "device =\"cuda:0\"\n",
    "use_pretrained_weights = True  #@param{type:\"boolean\"}\n",
    "hold_graphs_in_memory = False  #@param{type:\"boolean\"}\n",
    "\n",
    "gb = 1024**3\n",
    "total_memory = psutil.virtual_memory().total / gb\n",
    "if total_memory < 20 and hold_graphs_in_memory:\n",
    "    raise RuntimeError(f\"It is unlikely your machine (with {total_memory}Gb) will have enough memory to complete the colab's execution!\")\n",
    "\n",
    "print(\"Loading input data...\")\n",
    "full_dataset, train_dataset, test_dataset = load_input_data(DIR_PATH)"
   ]
  },
  {
   "cell_type": "code",
   "execution_count": 2,
   "id": "37fa1528",
   "metadata": {},
   "outputs": [],
   "source": [
    "from torch_geometric.data import Data\n",
    "from torch.utils.data import Dataset\n",
    "from torch_geometric.loader import DataLoader\n",
    "import torch\n",
    "class CustomDataset(Dataset):\n",
    "    def __init__(self, input_data):\n",
    "        self.features = input_data.features\n",
    "        self.labels = input_data.labels\n",
    "        self.rows = input_data.rows\n",
    "        self.cols = input_data.columns\n",
    "        self.edge_types = input_data.edge_types\n",
    "\n",
    "    def __len__(self):\n",
    "        return len(self.features)\n",
    "\n",
    "    def __getitem__(self, idx):\n",
    "        edge_index = torch.tensor([self.rows[idx], self.cols[idx]], dtype=torch.long)\n",
    "        return Data(x=torch.from_numpy(self.features[idx]).float(), edge_index=edge_index, \n",
    "             edge_types = torch.tensor(self.edge_types[idx][:, np.newaxis], dtype=torch.float),\n",
    "             y=torch.from_numpy(np.array(self.labels[idx])))"
   ]
  },
  {
   "cell_type": "code",
   "execution_count": 3,
   "id": "5f740120",
   "metadata": {},
   "outputs": [],
   "source": [
    "node_dim=64\n",
    "edge_dim=8\n",
    "graph_deg=5\n",
    "batch_size=32\n",
    "\n",
    "test_dataset = CustomDataset(test_dataset)\n",
    "test_loader = DataLoader(test_dataset, batch_size=32, shuffle=True)\n",
    "\n",
    "train_dataset = CustomDataset(train_dataset)\n",
    "train_loader = DataLoader(train_dataset, batch_size=32, shuffle=True)"
   ]
  },
  {
   "cell_type": "code",
   "execution_count": 4,
   "id": "0c49daf1",
   "metadata": {},
   "outputs": [],
   "source": [
    "import torch\n",
    "import torch.nn.functional as F\n",
    "from torch_geometric.nn import GATv2Conv,GCNConv\n",
    "\n",
    "\n",
    "class pastGCN(torch.nn.Module):\n",
    "    def __init__(self):\n",
    "        super().__init__()\n",
    "        self.num_edge_types= 4\n",
    "        self.depth=6\n",
    "        self.node_linear = torch.nn.Linear(1,node_dim)\n",
    "        self.edge_linear = torch.nn.Linear(1,edge_dim)\n",
    "        self.conv1 = GCNConv(node_dim, node_dim)\n",
    "        self.conv2 = GCNConv(node_dim, node_dim)\n",
    "        self.conv3 = GCNConv(node_dim, node_dim)\n",
    "        self.conv4 = GCNConv(node_dim, node_dim)\n",
    "        \n",
    "        self.out1 = torch.nn.Linear(node_dim,node_dim)\n",
    "        self.out2 = torch.nn.Linear(node_dim,2)\n",
    "        self.initialize_parameters()\n",
    "\n",
    "    def initialize_parameters(self):\n",
    "        for module in self.modules():\n",
    "            if isinstance(module, torch.nn.Linear):\n",
    "                torch.nn.init.xavier_uniform_(module.weight)\n",
    "                if module.bias is not None:\n",
    "                    torch.nn.init.zeros_(module.bias)\n",
    "        \n",
    "\n",
    "    def forward(self, data):\n",
    "        x, edge_index, edge_types = data.x, data.edge_index, data.edge_types\n",
    "        x = self.node_linear(x)        \n",
    "        for i in range(self.depth):\n",
    "            mask1 = (edge_types == 1)\n",
    "            edge_index1 = edge_index[:, mask1.squeeze()]\n",
    "            x1 = self.conv1(x, edge_index1)\n",
    "            x1 = F.relu(x1)\n",
    "            \n",
    "            mask2 = (edge_types == 2)\n",
    "            edge_index2 = edge_index[:, mask2.squeeze()]\n",
    "            x2 = self.conv2(x, edge_index2)\n",
    "            x2 = F.relu(x2)\n",
    "            \n",
    "            mask3 = (edge_types == 3)\n",
    "            edge_index3 = edge_index[:, mask3.squeeze()]\n",
    "            x3 = self.conv3(x, edge_index3)\n",
    "            x3 = F.relu(x3)\n",
    "            \n",
    "            mask4 = (edge_types == 4)\n",
    "            edge_index4 = edge_index[:, mask4.squeeze()]\n",
    "            x4 = self.conv4(x, edge_index4)\n",
    "            x4 = F.relu(x4)\n",
    "            \n",
    "            x = x1+x2+x3+x4\n",
    "            x = F.relu(x)\n",
    "        xx = torch.reshape(x,(-1,graph_deg,node_dim))\n",
    "        xxx,_ = torch.max(xx,dim=1)\n",
    "        xxx = self.out1(xxx)\n",
    "        xxx = self.out2(xxx)\n",
    "        return F.log_softmax(xxx, dim=1)"
   ]
  },
  {
   "cell_type": "code",
   "execution_count": 5,
   "id": "8a1552e4",
   "metadata": {},
   "outputs": [],
   "source": [
    "device = torch.device('cuda' if torch.cuda.is_available() else 'cpu')\n",
    "model = pastGCN().to(device)\n",
    "# data = batch.to(device)\n",
    "# torch.nn.init.xavier_normal(model)\n",
    "loss_function = torch.nn.CrossEntropyLoss()\n",
    "optimizer = torch.optim.Adam(model.parameters(), lr=0.001, weight_decay=5e-4)"
   ]
  },
  {
   "cell_type": "code",
   "execution_count": 6,
   "id": "21ac9cf8",
   "metadata": {
    "scrolled": true
   },
   "outputs": [
    {
     "name": "stderr",
     "output_type": "stream",
     "text": [
      "/tmp/ipykernel_3182240/1906490525.py:17: UserWarning: Creating a tensor from a list of numpy.ndarrays is extremely slow. Please consider converting the list to a single numpy.ndarray with numpy.array() before converting to a tensor. (Triggered internally at /opt/conda/conda-bld/pytorch_1682343970094/work/torch/csrc/utils/tensor_new.cpp:245.)\n",
      "  edge_index = torch.tensor([self.rows[idx], self.cols[idx]], dtype=torch.long)\n"
     ]
    },
    {
     "ename": "ValueError",
     "evalue": "Expected input batch_size (61) to match target batch_size (32).",
     "output_type": "error",
     "traceback": [
      "\u001b[0;31m---------------------------------------------------------------------------\u001b[0m",
      "\u001b[0;31mValueError\u001b[0m                                Traceback (most recent call last)",
      "Cell \u001b[0;32mIn[6], line 9\u001b[0m\n\u001b[1;32m      7\u001b[0m optimizer\u001b[38;5;241m.\u001b[39mzero_grad()\n\u001b[1;32m      8\u001b[0m out \u001b[38;5;241m=\u001b[39m model(batch)\n\u001b[0;32m----> 9\u001b[0m loss \u001b[38;5;241m=\u001b[39m loss_function(out, batch\u001b[38;5;241m.\u001b[39my)\n\u001b[1;32m     10\u001b[0m loss\u001b[38;5;241m.\u001b[39mbackward()\n\u001b[1;32m     11\u001b[0m optimizer\u001b[38;5;241m.\u001b[39mstep()\n",
      "File \u001b[0;32m~/anaconda3/envs/mpnn/lib/python3.11/site-packages/torch/nn/modules/module.py:1501\u001b[0m, in \u001b[0;36mModule._call_impl\u001b[0;34m(self, *args, **kwargs)\u001b[0m\n\u001b[1;32m   1496\u001b[0m \u001b[38;5;66;03m# If we don't have any hooks, we want to skip the rest of the logic in\u001b[39;00m\n\u001b[1;32m   1497\u001b[0m \u001b[38;5;66;03m# this function, and just call forward.\u001b[39;00m\n\u001b[1;32m   1498\u001b[0m \u001b[38;5;28;01mif\u001b[39;00m \u001b[38;5;129;01mnot\u001b[39;00m (\u001b[38;5;28mself\u001b[39m\u001b[38;5;241m.\u001b[39m_backward_hooks \u001b[38;5;129;01mor\u001b[39;00m \u001b[38;5;28mself\u001b[39m\u001b[38;5;241m.\u001b[39m_backward_pre_hooks \u001b[38;5;129;01mor\u001b[39;00m \u001b[38;5;28mself\u001b[39m\u001b[38;5;241m.\u001b[39m_forward_hooks \u001b[38;5;129;01mor\u001b[39;00m \u001b[38;5;28mself\u001b[39m\u001b[38;5;241m.\u001b[39m_forward_pre_hooks\n\u001b[1;32m   1499\u001b[0m         \u001b[38;5;129;01mor\u001b[39;00m _global_backward_pre_hooks \u001b[38;5;129;01mor\u001b[39;00m _global_backward_hooks\n\u001b[1;32m   1500\u001b[0m         \u001b[38;5;129;01mor\u001b[39;00m _global_forward_hooks \u001b[38;5;129;01mor\u001b[39;00m _global_forward_pre_hooks):\n\u001b[0;32m-> 1501\u001b[0m     \u001b[38;5;28;01mreturn\u001b[39;00m forward_call(\u001b[38;5;241m*\u001b[39margs, \u001b[38;5;241m*\u001b[39m\u001b[38;5;241m*\u001b[39mkwargs)\n\u001b[1;32m   1502\u001b[0m \u001b[38;5;66;03m# Do not call functions when jit is used\u001b[39;00m\n\u001b[1;32m   1503\u001b[0m full_backward_hooks, non_full_backward_hooks \u001b[38;5;241m=\u001b[39m [], []\n",
      "File \u001b[0;32m~/anaconda3/envs/mpnn/lib/python3.11/site-packages/torch/nn/modules/loss.py:1174\u001b[0m, in \u001b[0;36mCrossEntropyLoss.forward\u001b[0;34m(self, input, target)\u001b[0m\n\u001b[1;32m   1173\u001b[0m \u001b[38;5;28;01mdef\u001b[39;00m \u001b[38;5;21mforward\u001b[39m(\u001b[38;5;28mself\u001b[39m, \u001b[38;5;28minput\u001b[39m: Tensor, target: Tensor) \u001b[38;5;241m-\u001b[39m\u001b[38;5;241m>\u001b[39m Tensor:\n\u001b[0;32m-> 1174\u001b[0m     \u001b[38;5;28;01mreturn\u001b[39;00m F\u001b[38;5;241m.\u001b[39mcross_entropy(\u001b[38;5;28minput\u001b[39m, target, weight\u001b[38;5;241m=\u001b[39m\u001b[38;5;28mself\u001b[39m\u001b[38;5;241m.\u001b[39mweight,\n\u001b[1;32m   1175\u001b[0m                            ignore_index\u001b[38;5;241m=\u001b[39m\u001b[38;5;28mself\u001b[39m\u001b[38;5;241m.\u001b[39mignore_index, reduction\u001b[38;5;241m=\u001b[39m\u001b[38;5;28mself\u001b[39m\u001b[38;5;241m.\u001b[39mreduction,\n\u001b[1;32m   1176\u001b[0m                            label_smoothing\u001b[38;5;241m=\u001b[39m\u001b[38;5;28mself\u001b[39m\u001b[38;5;241m.\u001b[39mlabel_smoothing)\n",
      "File \u001b[0;32m~/anaconda3/envs/mpnn/lib/python3.11/site-packages/torch/nn/functional.py:3029\u001b[0m, in \u001b[0;36mcross_entropy\u001b[0;34m(input, target, weight, size_average, ignore_index, reduce, reduction, label_smoothing)\u001b[0m\n\u001b[1;32m   3027\u001b[0m \u001b[38;5;28;01mif\u001b[39;00m size_average \u001b[38;5;129;01mis\u001b[39;00m \u001b[38;5;129;01mnot\u001b[39;00m \u001b[38;5;28;01mNone\u001b[39;00m \u001b[38;5;129;01mor\u001b[39;00m reduce \u001b[38;5;129;01mis\u001b[39;00m \u001b[38;5;129;01mnot\u001b[39;00m \u001b[38;5;28;01mNone\u001b[39;00m:\n\u001b[1;32m   3028\u001b[0m     reduction \u001b[38;5;241m=\u001b[39m _Reduction\u001b[38;5;241m.\u001b[39mlegacy_get_string(size_average, reduce)\n\u001b[0;32m-> 3029\u001b[0m \u001b[38;5;28;01mreturn\u001b[39;00m torch\u001b[38;5;241m.\u001b[39m_C\u001b[38;5;241m.\u001b[39m_nn\u001b[38;5;241m.\u001b[39mcross_entropy_loss(\u001b[38;5;28minput\u001b[39m, target, weight, _Reduction\u001b[38;5;241m.\u001b[39mget_enum(reduction), ignore_index, label_smoothing)\n",
      "\u001b[0;31mValueError\u001b[0m: Expected input batch_size (61) to match target batch_size (32)."
     ]
    }
   ],
   "source": [
    "num_epochs=100\n",
    "for epoch in range(num_epochs):\n",
    "    # Training phase\n",
    "    model.train()\n",
    "    for batch in train_loader:\n",
    "        batch.to(device)\n",
    "        optimizer.zero_grad()\n",
    "        out = model(batch)\n",
    "        loss = loss_function(out, batch.y)\n",
    "        loss.backward()\n",
    "        optimizer.step()\n",
    "    print(loss)\n",
    "    \n",
    "    # Evaluation phase\n",
    "    model.eval()\n",
    "    correct = 0\n",
    "    total = 0\n",
    "    with torch.no_grad():\n",
    "        for batch in train_loader:\n",
    "            batch.to(device)\n",
    "            outputs = model(batch)\n",
    "            _, predicted = torch.max(outputs.data, 1)\n",
    "            total += batch.y.size(0)\n",
    "            correct += (predicted == batch.y).sum().item()\n",
    "\n",
    "    # Compute accuracy\n",
    "    accuracy = correct / total\n",
    "\n",
    "    print(\"Epoch [{}/{}], Accuracy: {:.2%}\".format(epoch + 1, num_epochs, accuracy))"
   ]
  },
  {
   "cell_type": "code",
   "execution_count": 9,
   "id": "9fab6e94",
   "metadata": {},
   "outputs": [
    {
     "data": {
      "text/plain": [
       "Data(x=[5, 1], edge_index=[2, 15], y=1, edge_types=[15, 1])"
      ]
     },
     "execution_count": 9,
     "metadata": {},
     "output_type": "execute_result"
    }
   ],
   "source": [
    "test_dataset[0]"
   ]
  },
  {
   "cell_type": "code",
   "execution_count": 8,
   "id": "a0b07615",
   "metadata": {},
   "outputs": [
    {
     "data": {
      "text/plain": [
       "tensor([1.], device='cuda:0')"
      ]
     },
     "execution_count": 8,
     "metadata": {},
     "output_type": "execute_result"
    }
   ],
   "source": [
    "batch.x[0]"
   ]
  },
  {
   "cell_type": "code",
   "execution_count": 7,
   "id": "235948f6",
   "metadata": {},
   "outputs": [
    {
     "data": {
      "text/plain": [
       "tensor([1, 1, 2, 1, 0, 0, 0, 0, 1, 1, 1, 0, 0, 0, 1, 1, 1, 0, 0, 1, 1, 1, 0, 1,\n",
       "        1, 0, 1, 1, 1, 0, 1, 0], device='cuda:0')"
      ]
     },
     "execution_count": 7,
     "metadata": {},
     "output_type": "execute_result"
    }
   ],
   "source": [
    "batch.y"
   ]
  },
  {
   "cell_type": "code",
   "execution_count": null,
   "id": "5df4d0b3",
   "metadata": {},
   "outputs": [],
   "source": [
    "batch"
   ]
  },
  {
   "cell_type": "code",
   "execution_count": null,
   "id": "8b82c624",
   "metadata": {},
   "outputs": [],
   "source": [
    "model.eval()\n",
    "correct = 0\n",
    "total = 0\n",
    "with torch.no_grad():\n",
    "    for batch in train_loader:\n",
    "        batch.to(device)\n",
    "        outputs = model(batch)\n",
    "        _, predicted = torch.max(outputs.data, 1)\n",
    "        total += batch.y.size(0)\n",
    "        correct += (predicted == batch.y).sum().item()\n",
    "        \n",
    "# Compute accuracy\n",
    "accuracy = correct / total\n",
    "\n",
    "print(\"Epoch [{}/{}], Accuracy: {:.2%}\".format(epoch + 1, num_epochs, accuracy))"
   ]
  },
  {
   "cell_type": "code",
   "execution_count": null,
   "id": "7840b10d",
   "metadata": {},
   "outputs": [],
   "source": [
    "from datetime import datetime\n",
    "current_date = datetime.now().strftime('%Y%m%d')\n",
    "\n",
    "# Define the path to save the model parameters\n",
    "# You might want to modify this to a directory of your choice\n",
    "path = f\"./model_parameters_{current_date}.pth\"\n",
    "\n",
    "# Save the model parameters\n",
    "torch.save(model.state_dict(), path)"
   ]
  }
 ],
 "metadata": {
  "kernelspec": {
   "display_name": "Python [conda env:mpnn] *",
   "language": "python",
   "name": "conda-env-mpnn-py"
  },
  "language_info": {
   "codemirror_mode": {
    "name": "ipython",
    "version": 3
   },
   "file_extension": ".py",
   "mimetype": "text/x-python",
   "name": "python",
   "nbconvert_exporter": "python",
   "pygments_lexer": "ipython3",
   "version": "3.11.3"
  }
 },
 "nbformat": 4,
 "nbformat_minor": 5
}
