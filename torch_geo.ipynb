{
 "cells": [
  {
   "cell_type": "code",
   "execution_count": 1,
   "id": "da3159fa",
   "metadata": {},
   "outputs": [
    {
     "name": "stdout",
     "output_type": "stream",
     "text": [
      "Loading input data...\n",
      "Generating data from the directory /Data/Ptab/n=7_2row\n"
     ]
    }
   ],
   "source": [
    "import functools\n",
    "import enum\n",
    "import os\n",
    "\n",
    "from BH.data_loader import *\n",
    "from BH.generate_data import *\n",
    "from training_info import *\n",
    "# from Model_e import Model_e,Direction,Reduction\n",
    "from Train import train,print_accuracies\n",
    "from torch_geometric.loader import DataLoader\n",
    "\n",
    "\n",
    "os.environ[\"CUDA_VISIBLE_DEVICES\"] = \"0\"\n",
    "device =\"cuda:0\"\n",
    "use_pretrained_weights = True  #@param{type:\"boolean\"}\n",
    "hold_graphs_in_memory = False  #@param{type:\"boolean\"}\n",
    "\n",
    "gb = 1024**3\n",
    "total_memory = psutil.virtual_memory().total / gb\n",
    "if total_memory < 20 and hold_graphs_in_memory:\n",
    "    raise RuntimeError(f\"It is unlikely your machine (with {total_memory}Gb) will have enough memory to complete the colab's execution!\")\n",
    "\n",
    "print(\"Loading input data...\")\n",
    "full_dataset, train_dataset, test_dataset = load_input_data(DIR_PATH)"
   ]
  },
  {
   "cell_type": "code",
   "execution_count": 2,
   "id": "37fa1528",
   "metadata": {},
   "outputs": [],
   "source": [
    "from torch_geometric.data import Data\n",
    "from torch.utils.data import Dataset\n",
    "from torch_geometric.loader import DataLoader\n",
    "import torch\n",
    "class CustomDataset(Dataset):\n",
    "    def __init__(self, input_data):\n",
    "        self.features = input_data.features\n",
    "        self.labels = input_data.labels\n",
    "        self.rows = input_data.rows\n",
    "        self.cols = input_data.columns\n",
    "        self.edge_types = input_data.edge_types\n",
    "\n",
    "    def __len__(self):\n",
    "        return len(self.features)\n",
    "\n",
    "    def __getitem__(self, idx):\n",
    "        edge_index = torch.tensor([self.rows[idx], self.cols[idx]], dtype=torch.long)\n",
    "        return Data(x=torch.from_numpy(self.features[idx]).float(), edge_index=edge_index, \n",
    "             edge_types = torch.tensor(self.edge_types[idx][:, np.newaxis], dtype=torch.float),\n",
    "             y=torch.from_numpy(np.array(self.labels[idx])))"
   ]
  },
  {
   "cell_type": "code",
   "execution_count": 3,
   "id": "5f740120",
   "metadata": {},
   "outputs": [],
   "source": [
    "node_dim=64\n",
    "edge_dim=8\n",
    "graph_deg=7\n",
    "batch_size=32\n",
    "\n",
    "test_dataset = CustomDataset(test_dataset)\n",
    "test_loader = DataLoader(test_dataset, batch_size=32, shuffle=True)\n",
    "\n",
    "train_dataset = CustomDataset(train_dataset)\n",
    "train_loader = DataLoader(train_dataset, batch_size=32, shuffle=True)"
   ]
  },
  {
   "cell_type": "code",
   "execution_count": 4,
   "id": "0c49daf1",
   "metadata": {},
   "outputs": [],
   "source": [
    "import torch\n",
    "import torch.nn.functional as F\n",
    "from torch_geometric.nn import GATv2Conv,GCNConv\n",
    "\n",
    "\n",
    "class GCN_single(torch.nn.Module):\n",
    "    def __init__(self,num_edge_types,depth):\n",
    "        super().__init__()\n",
    "        self.num_edge_types= num_edge_types\n",
    "        self.depth=depth\n",
    "        self.node_linear = torch.nn.Linear(1,node_dim)\n",
    "        self.edge_linear = torch.nn.Linear(1,edge_dim)\n",
    "        self.conv1 = GCNConv(node_dim, node_dim)\n",
    "        self.conv2 = GCNConv(node_dim, node_dim)\n",
    "        self.conv3 = GCNConv(node_dim, node_dim)\n",
    "        self.conv4 = GCNConv(node_dim, node_dim)\n",
    "        \n",
    "        self.out1 = torch.nn.Linear(node_dim,node_dim)\n",
    "        self.out2 = torch.nn.Linear(node_dim,1)\n",
    "        self.initialize_parameters()\n",
    "\n",
    "    def initialize_parameters(self):\n",
    "        for module in self.modules():\n",
    "            if isinstance(module, torch.nn.Linear):\n",
    "                torch.nn.init.xavier_uniform_(module.weight)\n",
    "                if module.bias is not None:\n",
    "                    torch.nn.init.zeros_(module.bias)\n",
    "        \n",
    "\n",
    "    def forward(self, data):\n",
    "        x, edge_index, edge_types = data.x, data.edge_index, data.edge_types\n",
    "        x = self.node_linear(x)        \n",
    "        for i in range(self.depth):\n",
    "            mask1 = (edge_types == 1)\n",
    "            edge_index1 = edge_index[:, mask1.squeeze()]\n",
    "            x1 = self.conv1(x, edge_index1)\n",
    "            x1 = F.relu(x1)\n",
    "            \n",
    "            mask2 = (edge_types == 2)\n",
    "            edge_index2 = edge_index[:, mask2.squeeze()]\n",
    "            x2 = self.conv2(x, edge_index2)\n",
    "            x2 = F.relu(x2)\n",
    "            \n",
    "            mask3 = (edge_types == 3)\n",
    "            edge_index3 = edge_index[:, mask3.squeeze()]\n",
    "            x3 = self.conv3(x, edge_index3)\n",
    "            x3 = F.relu(x3)\n",
    "            \n",
    "            mask4 = (edge_types == 4)\n",
    "            edge_index4 = edge_index[:, mask4.squeeze()]\n",
    "            x4 = self.conv4(x, edge_index4)\n",
    "            x4 = F.relu(x4)\n",
    "            \n",
    "            x = x1+x2+x3+x4\n",
    "            x = F.relu(x)\n",
    "        xx = torch.reshape(x,(-1,graph_deg,node_dim))\n",
    "        xxx,_ = torch.max(xx,dim=1)\n",
    "        xxx = self.out1(xxx)\n",
    "        xxx = self.out2(xxx)\n",
    "        \n",
    "        return xxx\n",
    "#         return F.log_softmax(xxx, dim=1)\n",
    "    \n",
    "class GCN_multi(torch.nn.Module):\n",
    "    def __init__(self):\n",
    "        super().__init__()\n",
    "        self.num_edge_types=4\n",
    "        self.depth =5\n",
    "        self.GCN_single = GCN_single(self.num_edge_types, self.depth)        \n",
    "\n",
    "    def forward(self, data,T=1):\n",
    "        batch = data.batch\n",
    "        batch = batch[::5]\n",
    "        x = self.GCN_single(data)\n",
    "        x=torch.sigmoid(x/T)\n",
    "        unique_batches = torch.unique(batch)\n",
    "        \n",
    "#         sums_tensor = torch.zeros(len(unique_batches), requires_grad=True)\n",
    "\n",
    "#         # Loop over unique batches and add elements of 'x' within each batch directly to sums_tensor\n",
    "#         for i, ub in enumerate(unique_batches):\n",
    "#             sums_tensor[i] = x[batch == ub].sum()\n",
    "\n",
    "            \n",
    "            # Loop over unique batches and sum elements of 'x' within each batch\n",
    "        sum_list = [x[batch == ub].sum() for ub in unique_batches]\n",
    "\n",
    "        # Stack list of sums to create a tensor\n",
    "        sums_tensor = torch.stack(sum_list)\n",
    "#         print(sums_tensor)\n",
    "        \n",
    "#         unique_batches = torch.unique(batch)\n",
    "#         sums = []\n",
    "#         for ub in unique_batches:\n",
    "#             sums.append(x[batch == ub].sum())\n",
    "\n",
    "#         # Convert list of sums to tensor\n",
    "#         sums_tensor = torch.tensor(sums)\n",
    "        \n",
    "        return sums_tensor"
   ]
  },
  {
   "cell_type": "code",
   "execution_count": 5,
   "id": "8a1552e4",
   "metadata": {},
   "outputs": [],
   "source": [
    "device = torch.device('cuda' if torch.cuda.is_available() else 'cpu')\n",
    "# model = pastGCN().to(device)\n",
    "model = GCN_multi().to(device)\n",
    "# data = batch.to(device)\n",
    "# torch.nn.init.xavier_normal(model)\n",
    "loss_function = torch.nn.CrossEntropyLoss()\n",
    "loss_function = torch.nn.MSELoss()\n",
    "optimizer = torch.optim.Adam(model.parameters(), lr=0.001, weight_decay=5e-4)"
   ]
  },
  {
   "cell_type": "code",
   "execution_count": 6,
   "id": "ffa8eb54",
   "metadata": {},
   "outputs": [
    {
     "name": "stderr",
     "output_type": "stream",
     "text": [
      "/tmp/ipykernel_1409624/1906490525.py:17: UserWarning: Creating a tensor from a list of numpy.ndarrays is extremely slow. Please consider converting the list to a single numpy.ndarray with numpy.array() before converting to a tensor. (Triggered internally at /opt/conda/conda-bld/pytorch_1682343970094/work/torch/csrc/utils/tensor_new.cpp:245.)\n",
      "  edge_index = torch.tensor([self.rows[idx], self.cols[idx]], dtype=torch.long)\n"
     ]
    },
    {
     "data": {
      "text/plain": [
       "tensor(0)"
      ]
     },
     "execution_count": 6,
     "metadata": {},
     "output_type": "execute_result"
    }
   ],
   "source": [
    "test_dataset[2].y"
   ]
  },
  {
   "cell_type": "code",
   "execution_count": 7,
   "id": "0a95ca64",
   "metadata": {},
   "outputs": [
    {
     "data": {
      "text/plain": [
       "tensor([[0, 0, 0, 0, 0, 0, 0, 1, 1, 1, 1, 1, 1, 2, 2, 2, 3, 3, 4, 4, 4, 4, 5, 5,\n",
       "         5, 5, 6, 6],\n",
       "        [0, 1, 2, 3, 4, 5, 6, 1, 2, 3, 4, 5, 6, 2, 5, 6, 2, 3, 2, 3, 4, 6, 3, 4,\n",
       "         5, 6, 3, 6]])"
      ]
     },
     "execution_count": 7,
     "metadata": {},
     "output_type": "execute_result"
    }
   ],
   "source": [
    "test_dataset[2].edge_index"
   ]
  },
  {
   "cell_type": "code",
   "execution_count": 15,
   "id": "08177f96",
   "metadata": {},
   "outputs": [
    {
     "data": {
      "text/plain": [
       "48"
      ]
     },
     "execution_count": 15,
     "metadata": {},
     "output_type": "execute_result"
    }
   ],
   "source": [
    "max(full_dataset.labels)"
   ]
  },
  {
   "cell_type": "code",
   "execution_count": 16,
   "id": "56df99e3",
   "metadata": {},
   "outputs": [
    {
     "name": "stdout",
     "output_type": "stream",
     "text": [
      "DataBatch(x=[532, 1], edge_index=[2, 2128], y=[32], edge_types=[2128, 1], batch=[532], ptr=[33])\n"
     ]
    }
   ],
   "source": [
    "for data in test_loader:\n",
    "    break\n",
    "print(data)"
   ]
  },
  {
   "cell_type": "code",
   "execution_count": 17,
   "id": "f86c34d0",
   "metadata": {},
   "outputs": [
    {
     "data": {
      "text/plain": [
       "tensor([ 0,  0,  0,  0,  0,  0,  1,  2,  2,  3,  4,  4,  5,  5,  6,  6,  6,  6,\n",
       "         6,  6,  7,  8,  8,  9,  9,  9,  9,  9,  9,  9,  9,  9,  9,  9, 10, 11,\n",
       "        11, 12, 13, 13, 14, 14, 14, 14, 14, 14, 14, 14, 14, 15, 15, 15, 15, 15,\n",
       "        15, 15, 15, 15, 15, 15, 15, 15, 15, 15, 15, 15, 15, 15, 15, 16, 16, 16,\n",
       "        17, 18, 18, 19, 20, 21, 21, 22, 23, 23, 24, 25, 26, 26, 26, 27, 27, 27,\n",
       "        27, 27, 27, 27, 28, 28, 28, 28, 28, 28, 28, 29, 29, 30, 31, 31, 31])"
      ]
     },
     "execution_count": 17,
     "metadata": {},
     "output_type": "execute_result"
    }
   ],
   "source": [
    "data.batch[::5]"
   ]
  },
  {
   "cell_type": "code",
   "execution_count": 18,
   "id": "21ac9cf8",
   "metadata": {
    "scrolled": false
   },
   "outputs": [
    {
     "ename": "IndexError",
     "evalue": "The shape of the mask [93] at index 0 does not match the shape of the indexed tensor [66, 1] at index 0",
     "output_type": "error",
     "traceback": [
      "\u001b[0;31m---------------------------------------------------------------------------\u001b[0m",
      "\u001b[0;31mIndexError\u001b[0m                                Traceback (most recent call last)",
      "Cell \u001b[0;32mIn[18], line 8\u001b[0m\n\u001b[1;32m      6\u001b[0m batch\u001b[38;5;241m.\u001b[39mto(device)\n\u001b[1;32m      7\u001b[0m optimizer\u001b[38;5;241m.\u001b[39mzero_grad()\n\u001b[0;32m----> 8\u001b[0m out \u001b[38;5;241m=\u001b[39m model(batch)\n\u001b[1;32m     10\u001b[0m batch\u001b[38;5;241m.\u001b[39my \u001b[38;5;241m=\u001b[39m batch\u001b[38;5;241m.\u001b[39my\u001b[38;5;241m.\u001b[39mfloat()\n\u001b[1;32m     11\u001b[0m loss \u001b[38;5;241m=\u001b[39m loss_function(out, batch\u001b[38;5;241m.\u001b[39my)\n",
      "File \u001b[0;32m~/anaconda3/envs/mpnn/lib/python3.11/site-packages/torch/nn/modules/module.py:1501\u001b[0m, in \u001b[0;36mModule._call_impl\u001b[0;34m(self, *args, **kwargs)\u001b[0m\n\u001b[1;32m   1496\u001b[0m \u001b[38;5;66;03m# If we don't have any hooks, we want to skip the rest of the logic in\u001b[39;00m\n\u001b[1;32m   1497\u001b[0m \u001b[38;5;66;03m# this function, and just call forward.\u001b[39;00m\n\u001b[1;32m   1498\u001b[0m \u001b[38;5;28;01mif\u001b[39;00m \u001b[38;5;129;01mnot\u001b[39;00m (\u001b[38;5;28mself\u001b[39m\u001b[38;5;241m.\u001b[39m_backward_hooks \u001b[38;5;129;01mor\u001b[39;00m \u001b[38;5;28mself\u001b[39m\u001b[38;5;241m.\u001b[39m_backward_pre_hooks \u001b[38;5;129;01mor\u001b[39;00m \u001b[38;5;28mself\u001b[39m\u001b[38;5;241m.\u001b[39m_forward_hooks \u001b[38;5;129;01mor\u001b[39;00m \u001b[38;5;28mself\u001b[39m\u001b[38;5;241m.\u001b[39m_forward_pre_hooks\n\u001b[1;32m   1499\u001b[0m         \u001b[38;5;129;01mor\u001b[39;00m _global_backward_pre_hooks \u001b[38;5;129;01mor\u001b[39;00m _global_backward_hooks\n\u001b[1;32m   1500\u001b[0m         \u001b[38;5;129;01mor\u001b[39;00m _global_forward_hooks \u001b[38;5;129;01mor\u001b[39;00m _global_forward_pre_hooks):\n\u001b[0;32m-> 1501\u001b[0m     \u001b[38;5;28;01mreturn\u001b[39;00m forward_call(\u001b[38;5;241m*\u001b[39margs, \u001b[38;5;241m*\u001b[39m\u001b[38;5;241m*\u001b[39mkwargs)\n\u001b[1;32m   1502\u001b[0m \u001b[38;5;66;03m# Do not call functions when jit is used\u001b[39;00m\n\u001b[1;32m   1503\u001b[0m full_backward_hooks, non_full_backward_hooks \u001b[38;5;241m=\u001b[39m [], []\n",
      "Cell \u001b[0;32mIn[4], line 86\u001b[0m, in \u001b[0;36mGCN_multi.forward\u001b[0;34m(self, data, T)\u001b[0m\n\u001b[1;32m     76\u001b[0m         unique_batches \u001b[38;5;241m=\u001b[39m torch\u001b[38;5;241m.\u001b[39munique(batch)\n\u001b[1;32m     78\u001b[0m \u001b[38;5;66;03m#         sums_tensor = torch.zeros(len(unique_batches), requires_grad=True)\u001b[39;00m\n\u001b[1;32m     79\u001b[0m \n\u001b[1;32m     80\u001b[0m \u001b[38;5;66;03m#         # Loop over unique batches and add elements of 'x' within each batch directly to sums_tensor\u001b[39;00m\n\u001b[0;32m   (...)\u001b[0m\n\u001b[1;32m     84\u001b[0m             \n\u001b[1;32m     85\u001b[0m             \u001b[38;5;66;03m# Loop over unique batches and sum elements of 'x' within each batch\u001b[39;00m\n\u001b[0;32m---> 86\u001b[0m         sum_list \u001b[38;5;241m=\u001b[39m [x[batch \u001b[38;5;241m==\u001b[39m ub]\u001b[38;5;241m.\u001b[39msum() \u001b[38;5;28;01mfor\u001b[39;00m ub \u001b[38;5;129;01min\u001b[39;00m unique_batches]\n\u001b[1;32m     88\u001b[0m         \u001b[38;5;66;03m# Stack list of sums to create a tensor\u001b[39;00m\n\u001b[1;32m     89\u001b[0m         sums_tensor \u001b[38;5;241m=\u001b[39m torch\u001b[38;5;241m.\u001b[39mstack(sum_list)\n",
      "Cell \u001b[0;32mIn[4], line 86\u001b[0m, in \u001b[0;36m<listcomp>\u001b[0;34m(.0)\u001b[0m\n\u001b[1;32m     76\u001b[0m         unique_batches \u001b[38;5;241m=\u001b[39m torch\u001b[38;5;241m.\u001b[39munique(batch)\n\u001b[1;32m     78\u001b[0m \u001b[38;5;66;03m#         sums_tensor = torch.zeros(len(unique_batches), requires_grad=True)\u001b[39;00m\n\u001b[1;32m     79\u001b[0m \n\u001b[1;32m     80\u001b[0m \u001b[38;5;66;03m#         # Loop over unique batches and add elements of 'x' within each batch directly to sums_tensor\u001b[39;00m\n\u001b[0;32m   (...)\u001b[0m\n\u001b[1;32m     84\u001b[0m             \n\u001b[1;32m     85\u001b[0m             \u001b[38;5;66;03m# Loop over unique batches and sum elements of 'x' within each batch\u001b[39;00m\n\u001b[0;32m---> 86\u001b[0m         sum_list \u001b[38;5;241m=\u001b[39m [x[batch \u001b[38;5;241m==\u001b[39m ub]\u001b[38;5;241m.\u001b[39msum() \u001b[38;5;28;01mfor\u001b[39;00m ub \u001b[38;5;129;01min\u001b[39;00m unique_batches]\n\u001b[1;32m     88\u001b[0m         \u001b[38;5;66;03m# Stack list of sums to create a tensor\u001b[39;00m\n\u001b[1;32m     89\u001b[0m         sums_tensor \u001b[38;5;241m=\u001b[39m torch\u001b[38;5;241m.\u001b[39mstack(sum_list)\n",
      "\u001b[0;31mIndexError\u001b[0m: The shape of the mask [93] at index 0 does not match the shape of the indexed tensor [66, 1] at index 0"
     ]
    }
   ],
   "source": [
    "num_epochs=1000\n",
    "for epoch in range(num_epochs):\n",
    "    # Training phase\n",
    "    model.train()\n",
    "    for batch in train_loader:\n",
    "        batch.to(device)\n",
    "        optimizer.zero_grad()\n",
    "        out = model(batch)\n",
    "        \n",
    "        batch.y = batch.y.float()\n",
    "        loss = loss_function(out, batch.y)\n",
    "        loss.backward()\n",
    "        optimizer.step()\n",
    "    print(loss)\n",
    "    \n",
    "    # Evaluation phase\n",
    "    model.eval()\n",
    "    correct = 0\n",
    "    total = 0\n",
    "    with torch.no_grad():\n",
    "        for batch in train_loader:\n",
    "            batch.to(device)\n",
    "            outputs = model(batch)\n",
    "#             _,predicted = torch.max(outputs.data, 1)\n",
    "            predicted = outputs\n",
    "            total += batch.y.size(0)\n",
    "#             correct += (predicted == batch.y).sum().item()\n",
    "            correct += ((predicted - batch.y)**2<0.1).sum().item()\n",
    "\n",
    "    # Compute accuracy\n",
    "    accuracy = correct / total\n",
    "\n",
    "    print(\"Epoch [{}/{}], Accuracy: {:.2%}\".format(epoch + 1, num_epochs, accuracy))"
   ]
  },
  {
   "cell_type": "code",
   "execution_count": 11,
   "id": "d4b46e65",
   "metadata": {},
   "outputs": [
    {
     "data": {
      "text/plain": [
       "tensor(0.0006, grad_fn=<MseLossBackward0>)"
      ]
     },
     "execution_count": 11,
     "metadata": {},
     "output_type": "execute_result"
    }
   ],
   "source": [
    "loss"
   ]
  },
  {
   "cell_type": "code",
   "execution_count": 12,
   "id": "f2a5b18c",
   "metadata": {},
   "outputs": [
    {
     "data": {
      "text/plain": [
       "torch.Size([16])"
      ]
     },
     "execution_count": 12,
     "metadata": {},
     "output_type": "execute_result"
    }
   ],
   "source": [
    "out.shape"
   ]
  },
  {
   "cell_type": "code",
   "execution_count": 13,
   "id": "9fab6e94",
   "metadata": {},
   "outputs": [
    {
     "data": {
      "text/plain": [
       "Data(x=[5, 1], edge_index=[2, 15], y=1, edge_types=[15, 1])"
      ]
     },
     "execution_count": 13,
     "metadata": {},
     "output_type": "execute_result"
    }
   ],
   "source": [
    "test_dataset[0]"
   ]
  },
  {
   "cell_type": "code",
   "execution_count": 14,
   "id": "a0b07615",
   "metadata": {},
   "outputs": [
    {
     "data": {
      "text/plain": [
       "tensor([1.])"
      ]
     },
     "execution_count": 14,
     "metadata": {},
     "output_type": "execute_result"
    }
   ],
   "source": [
    "batch.x[0]"
   ]
  },
  {
   "cell_type": "code",
   "execution_count": 15,
   "id": "235948f6",
   "metadata": {},
   "outputs": [
    {
     "data": {
      "text/plain": [
       "tensor([1, 1, 1, 1, 1, 1, 0, 1, 1, 1, 1, 0, 0, 1, 1, 1])"
      ]
     },
     "execution_count": 15,
     "metadata": {},
     "output_type": "execute_result"
    }
   ],
   "source": [
    "batch.y"
   ]
  },
  {
   "cell_type": "code",
   "execution_count": 16,
   "id": "5df4d0b3",
   "metadata": {},
   "outputs": [
    {
     "data": {
      "text/plain": [
       "DataBatch(x=[85, 1], edge_index=[2, 255], y=[16], edge_types=[255, 1], batch=[85], ptr=[17])"
      ]
     },
     "execution_count": 16,
     "metadata": {},
     "output_type": "execute_result"
    }
   ],
   "source": [
    "batch"
   ]
  },
  {
   "cell_type": "code",
   "execution_count": 17,
   "id": "8b82c624",
   "metadata": {},
   "outputs": [
    {
     "ename": "IndexError",
     "evalue": "Dimension out of range (expected to be in range of [-1, 0], but got 1)",
     "output_type": "error",
     "traceback": [
      "\u001b[0;31m---------------------------------------------------------------------------\u001b[0m",
      "\u001b[0;31mIndexError\u001b[0m                                Traceback (most recent call last)",
      "Cell \u001b[0;32mIn[17], line 8\u001b[0m\n\u001b[1;32m      6\u001b[0m batch\u001b[38;5;241m.\u001b[39mto(device)\n\u001b[1;32m      7\u001b[0m outputs \u001b[38;5;241m=\u001b[39m model(batch)\n\u001b[0;32m----> 8\u001b[0m _, predicted \u001b[38;5;241m=\u001b[39m \u001b[43mtorch\u001b[49m\u001b[38;5;241;43m.\u001b[39;49m\u001b[43mmax\u001b[49m\u001b[43m(\u001b[49m\u001b[43moutputs\u001b[49m\u001b[38;5;241;43m.\u001b[39;49m\u001b[43mdata\u001b[49m\u001b[43m,\u001b[49m\u001b[43m \u001b[49m\u001b[38;5;241;43m1\u001b[39;49m\u001b[43m)\u001b[49m\n\u001b[1;32m      9\u001b[0m total \u001b[38;5;241m+\u001b[39m\u001b[38;5;241m=\u001b[39m batch\u001b[38;5;241m.\u001b[39my\u001b[38;5;241m.\u001b[39msize(\u001b[38;5;241m0\u001b[39m)\n\u001b[1;32m     10\u001b[0m correct \u001b[38;5;241m+\u001b[39m\u001b[38;5;241m=\u001b[39m (predicted \u001b[38;5;241m==\u001b[39m batch\u001b[38;5;241m.\u001b[39my)\u001b[38;5;241m.\u001b[39msum()\u001b[38;5;241m.\u001b[39mitem()\n",
      "\u001b[0;31mIndexError\u001b[0m: Dimension out of range (expected to be in range of [-1, 0], but got 1)"
     ]
    }
   ],
   "source": [
    "model.eval()\n",
    "correct = 0\n",
    "total = 0\n",
    "with torch.no_grad():\n",
    "    for batch in train_loader:\n",
    "        batch.to(device)\n",
    "        outputs = model(batch)\n",
    "        _, predicted = torch.max(outputs.data, 1)\n",
    "        total += batch.y.size(0)\n",
    "        correct += (predicted == batch.y).sum().item()\n",
    "        \n",
    "# Compute accuracy\n",
    "accuracy = correct / total\n",
    "\n",
    "print(\"Epoch [{}/{}], Accuracy: {:.2%}\".format(epoch + 1, num_epochs, accuracy))"
   ]
  },
  {
   "cell_type": "code",
   "execution_count": null,
   "id": "7840b10d",
   "metadata": {},
   "outputs": [],
   "source": [
    "from datetime import datetime\n",
    "current_date = datetime.now().strftime('%Y%m%d')\n",
    "\n",
    "# Define the path to save the model parameters\n",
    "# You might want to modify this to a directory of your choice\n",
    "path = f\"./model_parameters_{current_date}.pth\"\n",
    "\n",
    "# Save the model parameters\n",
    "torch.save(model.state_dict(), path)"
   ]
  }
 ],
 "metadata": {
  "kernelspec": {
   "display_name": "Python [conda env:mpnn] *",
   "language": "python",
   "name": "conda-env-mpnn-py"
  },
  "language_info": {
   "codemirror_mode": {
    "name": "ipython",
    "version": 3
   },
   "file_extension": ".py",
   "mimetype": "text/x-python",
   "name": "python",
   "nbconvert_exporter": "python",
   "pygments_lexer": "ipython3",
   "version": "3.11.3"
  }
 },
 "nbformat": 4,
 "nbformat_minor": 5
}
