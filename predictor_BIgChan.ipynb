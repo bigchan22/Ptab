{
 "cells": [
  {
   "cell_type": "code",
   "execution_count": 1,
   "id": "0c0c2357",
   "metadata": {},
   "outputs": [
    {
     "name": "stderr",
     "output_type": "stream",
     "text": [
      "<frozen importlib._bootstrap>:228: RuntimeWarning: scipy._lib.messagestream.MessageStream size changed, may indicate binary incompatibility. Expected 56 from C header, got 64 from PyObject\n",
      "/root/anaconda3/envs/mpnn/lib/python3.9/site-packages/tqdm/auto.py:21: TqdmWarning: IProgress not found. Please update jupyter and ipywidgets. See https://ipywidgets.readthedocs.io/en/stable/user_install.html\n",
      "  from .autonotebook import tqdm as notebook_tqdm\n"
     ]
    }
   ],
   "source": [
    "from predictor import predict_orbit\n",
    "from verifiers import *\n",
    "from test_acc import *"
   ]
  },
  {
   "cell_type": "code",
   "execution_count": 2,
   "id": "4361d668",
   "metadata": {},
   "outputs": [
    {
     "name": "stdout",
     "output_type": "stream",
     "text": [
      "  0 0.9979 8_4_256_all_with_inductive_connectedness_criterion_connected_UPTO_constant_222_conv\n",
      "  1 0.9634 8_1_1024_all_with_inductive_connectedness_criterion_connected_UPTO_constant_222_conv\n"
     ]
    }
   ],
   "source": [
    "# MODELS = load_models(show=True,keywords=['7_7', 'v2', '', 'all', 'all_with_all_row_connectedness_criterion'], cutoff=0.995)\n",
    "# MODELS = load_models(show=True,keywords=['7_7', 'v2', '', 'all', 'all_with_all_row_connectedness_criterion_dis'], cutoff=0.9955)\n",
    "# MODELS = load_models(show=True,keywords=['8_8', 'v2', '', 'all', 'all_with_all_row_connectedness_criterion_dis'], cutoff=0.9955)\n",
    "# MODELS = load_models(show=True,keywords=['6_6', 'v2', '', 'all', ''], cutoff=0.6)\n",
    "# MODELS = load_models(show=True,keywords=['7_7_24', 'v2', '', 'all', 'all_with_all_row_connectedness_criterion_dis'], cutoff=0.95)\n",
    "# MODELS = load_models(show=True,keywords=['7_7_12', 'v2', '', 'all', 'all_with_all_row_connectedness_criterion_dis'], cutoff=0.1)\n",
    "# MODELS = load_models(show=True,keywords=['7_7_', 'v2', 'all', 'all_with_all_row_connectedness_criterion', 'disconnected'], cutoff=0.99)\n",
    "# MODELS = load_models(show=True,keywords=['7_7', 'v2', 'all', 'all_with_all_row_connectedness_criterion_disconnected'], cutoff=0.995)\n",
    "MODELS = load_models(show=True,keywords=['UPTO'], cutoff=0.9)"
   ]
  },
  {
   "cell_type": "code",
   "execution_count": 3,
   "id": "a6b2dba0",
   "metadata": {},
   "outputs": [
    {
     "data": {
      "text/plain": [
       "['./trained_models/parameters_8_4_256_all_with_inductive_connectedness_criterion_connected_UPTO_constant_222_conv.pickle',\n",
       " './trained_models/parameters_8_1_1024_all_with_inductive_connectedness_criterion_connected_UPTO_constant_222_conv.pickle']"
      ]
     },
     "execution_count": 3,
     "metadata": {},
     "output_type": "execute_result"
    }
   ],
   "source": [
    "MODELS"
   ]
  },
  {
   "cell_type": "markdown",
   "id": "6e232e3d",
   "metadata": {},
   "source": [
    "DATA_DIR = \"/Data/Ptab\"\n",
    "DATA_DIR = os.path.join(DATA_DIR,'n=8_all_with_inductive_connectedness_criterion_connected_UPTO')\n",
    "test_acc(MODELS, DATA_DIR)"
   ]
  },
  {
   "cell_type": "markdown",
   "id": "32aefc89",
   "metadata": {
    "collapsed": true
   },
   "source": [
    "MODELS"
   ]
  },
  {
   "cell_type": "code",
   "execution_count": 4,
   "id": "2d31e801",
   "metadata": {},
   "outputs": [
    {
     "data": {
      "text/plain": [
       "[3, 2, 55]"
      ]
     },
     "execution_count": 4,
     "metadata": {},
     "output_type": "execute_result"
    }
   ],
   "source": [
    "test = [3,2,1,55]\n",
    "test.remove(1)\n",
    "test"
   ]
  },
  {
   "cell_type": "code",
   "execution_count": 5,
   "id": "95e6ed8f",
   "metadata": {},
   "outputs": [
    {
     "ename": "TypeError",
     "evalue": "__init__() missing 1 required positional argument: 'graph_sizes'",
     "output_type": "error",
     "traceback": [
      "\u001b[0;31m---------------------------------------------------------------------------\u001b[0m",
      "\u001b[0;31mTypeError\u001b[0m                                 Traceback (most recent call last)",
      "Cell \u001b[0;32mIn[5], line 3\u001b[0m\n\u001b[1;32m      1\u001b[0m P \u001b[38;5;241m=\u001b[39m [\u001b[38;5;241m2\u001b[39m,\u001b[38;5;241m3\u001b[39m,\u001b[38;5;241m4\u001b[39m,\u001b[38;5;241m5\u001b[39m,\u001b[38;5;241m6\u001b[39m,\u001b[38;5;241m7\u001b[39m,\u001b[38;5;241m7\u001b[39m]\n\u001b[1;32m      2\u001b[0m word \u001b[38;5;241m=\u001b[39m [\u001b[38;5;241m3\u001b[39m,\u001b[38;5;241m2\u001b[39m,\u001b[38;5;241m1\u001b[39m,\u001b[38;5;241m4\u001b[39m,\u001b[38;5;241m5\u001b[39m,\u001b[38;5;241m6\u001b[39m,\u001b[38;5;241m7\u001b[39m]\n\u001b[0;32m----> 3\u001b[0m \u001b[43mpredict_orbit\u001b[49m\u001b[43m(\u001b[49m\u001b[43mP\u001b[49m\u001b[43m,\u001b[49m\u001b[43m \u001b[49m\u001b[43mword\u001b[49m\u001b[43m,\u001b[49m\u001b[43m \u001b[49m\u001b[43m[\u001b[49m\u001b[43mis_2row_less\u001b[49m\u001b[43m]\u001b[49m\u001b[43m,\u001b[49m\u001b[43m \u001b[49m\u001b[43mMODELS\u001b[49m\u001b[43m[\u001b[49m\u001b[38;5;241;43m0\u001b[39;49m\u001b[43m]\u001b[49m\u001b[43m)\u001b[49m\n",
      "File \u001b[0;32m~/Min/Ptab/predictor.py:222\u001b[0m, in \u001b[0;36mpredict_orbit\u001b[0;34m(P, word, shape_checkers, MODEL)\u001b[0m\n\u001b[1;32m    219\u001b[0m cols \u001b[38;5;241m=\u001b[39m [np\u001b[38;5;241m.\u001b[39marray(sp\u001b[38;5;241m.\u001b[39mcoo_matrix(a)\u001b[38;5;241m.\u001b[39mcol, dtype\u001b[38;5;241m=\u001b[39mnp\u001b[38;5;241m.\u001b[39mint16) \u001b[38;5;28;01mfor\u001b[39;00m a \u001b[38;5;129;01min\u001b[39;00m adjacencies]\n\u001b[1;32m    220\u001b[0m edge_types \u001b[38;5;241m=\u001b[39m [np\u001b[38;5;241m.\u001b[39marray(sp\u001b[38;5;241m.\u001b[39mcoo_matrix(a)\u001b[38;5;241m.\u001b[39mdata, dtype\u001b[38;5;241m=\u001b[39mnp\u001b[38;5;241m.\u001b[39mint16) \u001b[38;5;28;01mfor\u001b[39;00m a \u001b[38;5;129;01min\u001b[39;00m adjacencies]\n\u001b[0;32m--> 222\u001b[0m T_inputdata \u001b[38;5;241m=\u001b[39m \u001b[43mInputData\u001b[49m\u001b[43m(\u001b[49m\u001b[43mfeatures\u001b[49m\u001b[38;5;241;43m=\u001b[39;49m\u001b[43mfeatures\u001b[49m\u001b[43m,\u001b[49m\u001b[43m \u001b[49m\u001b[43mlabels\u001b[49m\u001b[38;5;241;43m=\u001b[39;49m\u001b[43mys\u001b[49m\u001b[43m,\u001b[49m\u001b[43m \u001b[49m\u001b[43mrows\u001b[49m\u001b[38;5;241;43m=\u001b[39;49m\u001b[43mrows\u001b[49m\u001b[43m,\u001b[49m\u001b[43m \u001b[49m\u001b[43mcolumns\u001b[49m\u001b[38;5;241;43m=\u001b[39;49m\u001b[43mcols\u001b[49m\u001b[43m,\u001b[49m\u001b[43m \u001b[49m\u001b[43medge_types\u001b[49m\u001b[38;5;241;43m=\u001b[39;49m\u001b[43medge_types\u001b[49m\u001b[43m)\u001b[49m\n\u001b[1;32m    223\u001b[0m T_dataset \u001b[38;5;241m=\u001b[39m CustomDataset(T_inputdata)\n\u001b[1;32m    224\u001b[0m T_loader \u001b[38;5;241m=\u001b[39m DataLoader(T_dataset, batch_size\u001b[38;5;241m=\u001b[39m\u001b[38;5;241m1\u001b[39m, shuffle\u001b[38;5;241m=\u001b[39m\u001b[38;5;28;01mTrue\u001b[39;00m)\n",
      "\u001b[0;31mTypeError\u001b[0m: __init__() missing 1 required positional argument: 'graph_sizes'"
     ]
    }
   ],
   "source": [
    "P = [2,3,4,5,6,7,7]\n",
    "word = [3,2,1,4,5,6,7]\n",
    "predict_orbit(P, word, [is_2row_less], MODELS[0])"
   ]
  },
  {
   "cell_type": "code",
   "execution_count": null,
   "id": "3694a83d",
   "metadata": {},
   "outputs": [],
   "source": [
    "P = [2,3,4,5,6,7,7]\n",
    "word = [4,3,2,1,5,6,7]\n",
    "predict_orbit(P, word, [is_2row_less], MODELS[0])"
   ]
  },
  {
   "cell_type": "code",
   "execution_count": null,
   "id": "5f093850",
   "metadata": {},
   "outputs": [],
   "source": [
    "verify_disconnected_2row(7, MODELS[0])"
   ]
  },
  {
   "cell_type": "code",
   "execution_count": null,
   "id": "6c2b545c",
   "metadata": {},
   "outputs": [],
   "source": []
  },
  {
   "cell_type": "code",
   "execution_count": null,
   "id": "146f36c7",
   "metadata": {},
   "outputs": [],
   "source": [
    "MODELS = load_models(show=True,keywords=['7_7', 'v2', '64', ''], cutoff=0.9921)\n",
    "MODELS"
   ]
  },
  {
   "cell_type": "code",
   "execution_count": null,
   "id": "dafaedfb",
   "metadata": {},
   "outputs": [],
   "source": [
    "print(MODELS)"
   ]
  },
  {
   "cell_type": "code",
   "execution_count": null,
   "id": "e90e6d40",
   "metadata": {},
   "outputs": [],
   "source": [
    "for MODEL in MODELS:\n",
    "    f_path = './record/' + MODEL.split('/')[-1][:-7] + '.out'\n",
    "    with open(f_path, 'w') as f:\n",
    "        f.write('BBB')"
   ]
  },
  {
   "cell_type": "code",
   "execution_count": null,
   "id": "9aefcbf9",
   "metadata": {},
   "outputs": [],
   "source": [
    "# P = [3,4,5,6,7,7,7]\n",
    "# word = [4,2,6,5,3,1,7]\n",
    "\n",
    "# P = [2,3,4,5,6,7,7]\n",
    "# word = [2,1,3,4,5,6,7]\n",
    "\n",
    "# P = [3,5,6,6,7,7,7]\n",
    "# word = [4,7,1,6,2,3,5]\n",
    "\n",
    "# P = [2, 4, 4, 6, 7, 7, 7]\n",
    "# word = [7, 5, 6, 4, 2, 1, 3]\n",
    "\n",
    "# P = [3, 5, 5, 5, 6, 7, 7]\n",
    "# word = [4, 5, 2, 3, 1, 6, 7]\n",
    "\n",
    "# P = [3, 4, 4, 5, 7, 7, 7]\n",
    "# word = [5, 6, 7, 3, 4, 2, 1]\n",
    "\n",
    "# P = [3, 4, 6, 6, 6, 7, 7]\n",
    "# word = [6, 7, 2, 1, 3, 5, 4]\n",
    "\n",
    "# P = [2, 3, 4, 5, 6, 7, 7]\n",
    "# word = [1, 2, 3, 4, 5, 7, 6]\n",
    "\n",
    "P, word = [3,4,6,6,7,7,7], [5,2,4,1,7,3,6]\n",
    "\n",
    "words = words_from_orbit(P, word)"
   ]
  },
  {
   "cell_type": "code",
   "execution_count": null,
   "id": "3fd0ca9e",
   "metadata": {},
   "outputs": [],
   "source": [
    "P, word = [3,4,6,6,7,7,7], [5,2,4,1,7,3,6]\n",
    "compare_models(P, word, MODELS)"
   ]
  },
  {
   "cell_type": "code",
   "execution_count": null,
   "id": "72df5856",
   "metadata": {},
   "outputs": [],
   "source": [
    "P, word = [2,4,4,5,6,7,7], [5,1,7,3,6,4,2]\n",
    "compare_models(P, word, MODELS)"
   ]
  },
  {
   "cell_type": "code",
   "execution_count": null,
   "id": "a52e4a44",
   "metadata": {},
   "outputs": [],
   "source": [
    "P, word = [2,4,6,6,6,7,7], [6,2,4,1,7,3,5]\n",
    "compare_models(P, word, MODELS)"
   ]
  },
  {
   "cell_type": "code",
   "execution_count": null,
   "id": "841b95ce",
   "metadata": {
    "scrolled": true
   },
   "outputs": [],
   "source": [
    "for MODEL in MODELS:\n",
    "    print(predict_orbit(P, word, [is_2row_less], MODEL), MODEL.split('parameters_')[-1])"
   ]
  },
  {
   "cell_type": "code",
   "execution_count": null,
   "id": "a0b683f7",
   "metadata": {},
   "outputs": [],
   "source": [
    "P = [2, 3, 4, 6, 7, 7, 7]\n",
    "word = [5, 2, 4, 1, 7, 3, 6]\n",
    "\n",
    "P = [3,4,6,6,6,7,7]\n",
    "word = [5, 2, 4, 1, 7, 3, 6]\n"
   ]
  },
  {
   "cell_type": "code",
   "execution_count": null,
   "id": "037a355e",
   "metadata": {},
   "outputs": [],
   "source": [
    "[2, 5, 5, 5, 6, 7, 7] [4, 3] 0\n",
    "[[5, 1, 7, 4, 6, 3, 2]]"
   ]
  },
  {
   "cell_type": "code",
   "execution_count": null,
   "id": "6c177c4d",
   "metadata": {},
   "outputs": [],
   "source": [
    "P = [2, 4, 4, 5, 6, 7, 7]\n",
    "words = [[7, 1, 6, 2, 5, 3, 4],\n",
    "        [5, 1, 7, 2, 6, 4, 3],\n",
    "        [4, 1, 5, 2, 7, 3, 6],\n",
    "        [5, 1, 6, 4, 7, 2, 3],\n",
    "        [5, 1, 7, 3, 6, 2, 4],\n",
    "        [4, 1, 5, 3, 6, 2, 7],\n",
    "        [5, 1, 6, 3, 7, 4, 2]]\n",
    "for word in words_from_orbit(P, words[0]):\n",
    "# for word in words:\n",
    "    if shape_of_word(P, word) != [4,3]: continue\n",
    "    pred = predict_tableau(P, word, MODELS[1])\n",
    "    print(f\"{P} {word} {pred:.6f} {pred>.5}\")"
   ]
  },
  {
   "cell_type": "code",
   "execution_count": null,
   "id": "5ab23289",
   "metadata": {
    "scrolled": false
   },
   "outputs": [],
   "source": [
    "P = [2,4,4,5,6,7,7]\n",
    "word = [5,1,7,3,6,4,2]\n",
    "predict_tableaux_around_tableau(P, word, MODELS[3], diameter=2)"
   ]
  },
  {
   "cell_type": "code",
   "execution_count": null,
   "id": "0ad27cc7",
   "metadata": {},
   "outputs": [],
   "source": [
    "P = [3, 4, 6, 6, 7, 7, 7]\n",
    "word = [5, 1, 7, 3, 6, 2, 4]\n",
    "predict_tableaux_around_tableau(P, word, MODELS[2], diameter=2)"
   ]
  },
  {
   "cell_type": "code",
   "execution_count": null,
   "id": "9f3b7df1",
   "metadata": {},
   "outputs": [],
   "source": [
    "P = [3, 4, 6, 6, 7, 7, 7]\n",
    "word = [5, 1, 7, 3, 2, 6, 4]\n",
    "predict_tableaux_around_tableau(P, word, MODELS[2], diameter=2)"
   ]
  },
  {
   "cell_type": "code",
   "execution_count": null,
   "id": "ff26eccf",
   "metadata": {},
   "outputs": [],
   "source": [
    "P, word = [2,5,5,5,6,7,7], [3,1,6,2,7,4,5]\n",
    "predict_tableaux_around_tableau(P, word, MODELS[4], diameter=2)"
   ]
  },
  {
   "cell_type": "code",
   "execution_count": null,
   "id": "265c35f2",
   "metadata": {
    "scrolled": false
   },
   "outputs": [],
   "source": [
    "predict_orbit(P, word, [is_2row_less], MODEL)"
   ]
  },
  {
   "cell_type": "code",
   "execution_count": null,
   "id": "67228839",
   "metadata": {},
   "outputs": [],
   "source": [
    "P, word"
   ]
  },
  {
   "cell_type": "code",
   "execution_count": null,
   "id": "d0bca223",
   "metadata": {},
   "outputs": [],
   "source": [
    "from itertools import permutations as Perm\n",
    "\n",
    "for perm in Perm([i+1 for i in range(7)]):\n",
    "    word = list(perm)\n",
    "    shape = shape_of_word(P, word)\n",
    "    if shape == None: continue\n",
    "    print(f'{predict_tableau(P, word, MODEL)} {word} {shape}')"
   ]
  },
  {
   "cell_type": "code",
   "execution_count": null,
   "id": "56aa2268",
   "metadata": {},
   "outputs": [],
   "source": [
    "check_inclusion_criterion(MODELS[1], gap=0.3)"
   ]
  },
  {
   "cell_type": "code",
   "execution_count": null,
   "id": "258409ab",
   "metadata": {},
   "outputs": [],
   "source": [
    "MODEL = './trained_models/parameters_7_7_64_2row_less_BBF_disconnected_norm_column.pickle'\n",
    "\n",
    "predict_tableaux_around_tableau(P, word, MODEL, diameter=2)"
   ]
  },
  {
   "cell_type": "code",
   "execution_count": null,
   "id": "9c591365",
   "metadata": {},
   "outputs": [],
   "source": [
    "MODEL = './trained_models/parameters_7_7_64_2row_less_BBF_connected_norm_column.pickle'\n",
    "\n",
    "predict_tableaux_around_tableau(P, word, MODEL)"
   ]
  },
  {
   "cell_type": "code",
   "execution_count": null,
   "id": "51c3e15f",
   "metadata": {},
   "outputs": [],
   "source": [
    "predict_tableaux_around_tableau(P, word, MODEL_LIST[3])"
   ]
  },
  {
   "cell_type": "code",
   "execution_count": null,
   "id": "d50f0b20",
   "metadata": {},
   "outputs": [],
   "source": []
  },
  {
   "cell_type": "code",
   "execution_count": null,
   "id": "8d3b530d",
   "metadata": {},
   "outputs": [],
   "source": [
    "answers2 = []\n",
    "for ans in answers:\n",
    "    answers2.append(int(ans))"
   ]
  },
  {
   "cell_type": "code",
   "execution_count": null,
   "id": "5c05f8f7",
   "metadata": {},
   "outputs": [],
   "source": [
    "with open(\"2row_less_B_prediction.json\", 'w') as f:\n",
    "    json.dump(answers2, f)"
   ]
  },
  {
   "cell_type": "code",
   "execution_count": null,
   "id": "4b8f77a3",
   "metadata": {},
   "outputs": [],
   "source": []
  },
  {
   "cell_type": "code",
   "execution_count": null,
   "id": "f3269ffb",
   "metadata": {},
   "outputs": [],
   "source": [
    "MODELS = {'7_7_64_2row_less_BBF_disconnected_norm_column',\n",
    "          '7_7_64_2row_less_BBF_connected_norm_column',\n",
    "          '7_7_64_3row_less_BBF_connected_norm_column',\n",
    "          '7_7_64_all_BBF_disconnected_norm_column',\n",
    "         }"
   ]
  },
  {
   "cell_type": "code",
   "execution_count": null,
   "id": "c4d50080",
   "metadata": {},
   "outputs": [],
   "source": [
    "MODEL_FILES = ['./trained_models/parameters_'+MODEL+'.pickle' for MODEL in MODELS]"
   ]
  },
  {
   "cell_type": "code",
   "execution_count": null,
   "id": "c1c14db7",
   "metadata": {},
   "outputs": [],
   "source": [
    "MODEL_FILES"
   ]
  },
  {
   "cell_type": "code",
   "execution_count": null,
   "id": "b184f3ea",
   "metadata": {},
   "outputs": [],
   "source": [
    "directions"
   ]
  },
  {
   "cell_type": "code",
   "execution_count": null,
   "id": "82c7fe11",
   "metadata": {},
   "outputs": [],
   "source": [
    "P = [3,5,6,6,7,7,7]\n",
    "word = [6,2,5,1,3,7,4]\n",
    "n = len(word)\n",
    "SHAPE = [5,2]\n",
    "true_cutoff = .7\n",
    "false_cutoff = .3"
   ]
  },
  {
   "cell_type": "code",
   "execution_count": null,
   "id": "c9fdae1c",
   "metadata": {},
   "outputs": [],
   "source": [
    "print(f'T = {word}')\n",
    "for P in generate_UIO(n, connected=True):\n",
    "    shape = shape_of_word(P, word)\n",
    "    if shape != SHAPE: continue\n",
    "    coinc = True\n",
    "    prediction = -1\n",
    "    pred_s = \"\"\n",
    "    preds = []\n",
    "    for MODEL_FILE in MODEL_FILES:\n",
    "        pred = predict_tableau(P, word, MODEL_FILE=MODEL_FILE, directions=directions)[0].item()\n",
    "        pred_s += f\"{pred:.5f}  \"\n",
    "        preds.append(pred)\n",
    "#         if pred > true_cutoff:\n",
    "            \n",
    "#     if pred > true_cutoff: prediction = True\n",
    "#     elif pred < false_cutoff: prediction = False\n",
    "#     else: prediction = \"\"\n",
    "    print(f\"{P} {shape} {pred_s} {all(pred > true_cutoff for pred in preds) or all(pred < false_cutoff for pred in preds)}\")"
   ]
  },
  {
   "cell_type": "code",
   "execution_count": null,
   "id": "396449f1",
   "metadata": {},
   "outputs": [],
   "source": [
    "word = [5,2,4,1,7,3,6]\n",
    "SHAPE = [4,3]\n",
    "n = len(word)\n",
    "true_cutoff = .7\n",
    "false_cutoff = .3\n",
    "\n",
    "print(f'T = {word}')\n",
    "for P in generate_UIO(n, connected=True):\n",
    "    shape = shape_of_word(P, word)\n",
    "    if shape != SHAPE: continue\n",
    "    pred = predict_tableau(P, word, MODEL_FILE=MODEL_FILES[0])[0].item()\n",
    "    if pred > true_cutoff: prediction = True\n",
    "    elif pred < false_cutoff: prediction = False\n",
    "    else: prediction = \"\"\n",
    "    print(f\"{P} {shape} {pred:.5f} {prediction}\")"
   ]
  },
  {
   "cell_type": "code",
   "execution_count": null,
   "id": "22249336",
   "metadata": {},
   "outputs": [],
   "source": [
    "P = [2, 3, 4, 6, 7, 7, 7]\n",
    "word = [5, 2, 4, 1, 7, 3, 6]"
   ]
  },
  {
   "cell_type": "code",
   "execution_count": null,
   "id": "a50d2312",
   "metadata": {},
   "outputs": [],
   "source": [
    "MODEL_FILES[1]"
   ]
  },
  {
   "cell_type": "code",
   "execution_count": null,
   "id": "fde74b61",
   "metadata": {},
   "outputs": [],
   "source": [
    "MODEL = MODELS[2]"
   ]
  },
  {
   "cell_type": "code",
   "execution_count": null,
   "id": "e98a6720",
   "metadata": {},
   "outputs": [],
   "source": [
    "P, word = [4, 4, 5, 5, 6, 6, 7], [7, 5, 2, 6, 1, 3, 4]\n",
    "shape_of_word(P, word)"
   ]
  },
  {
   "cell_type": "code",
   "execution_count": null,
   "id": "5b9079d3",
   "metadata": {},
   "outputs": [],
   "source": []
  },
  {
   "cell_type": "code",
   "execution_count": null,
   "id": "8a47d8ce",
   "metadata": {},
   "outputs": [],
   "source": []
  },
  {
   "cell_type": "code",
   "execution_count": null,
   "id": "38d472f3",
   "metadata": {},
   "outputs": [],
   "source": []
  },
  {
   "cell_type": "code",
   "execution_count": null,
   "id": "11bf47d2",
   "metadata": {},
   "outputs": [],
   "source": [
    "def restricted_P_word(P, word):\n",
    "    res_P = []\n",
    "    res_word = []\n",
    "    N = len(P)\n",
    "    n = len(word)\n",
    "    sorted_word = sorted(word)\n",
    "    for i in range(n):\n",
    "        j = i + 1\n",
    "        while j < n:\n",
    "            if P[sorted_word[i]-1] < sorted_word[j]:\n",
    "                break\n",
    "            j += 1\n",
    "        res_P.append(j)\n",
    "    for i in range(n):\n",
    "        res_word.append(sorted_word.index(word[i])+1)\n",
    "    return res_P, res_word\n",
    "\n",
    "def inductive_prediction_2row(P, word, directions):\n",
    "    file_name1 = './trained_models/parameters_'\n",
    "    file_name2 = '_64_2row_less_with_disconnectedness_criterion_B_bad_2row_criterion_disconnected_norm_column_'\n",
    "    file_name3 = '_v2.pickle'\n",
    "\n",
    "    MODEL_DICT = dict()\n",
    "    for n in range(4, 9):\n",
    "        deg = f\"{n}_{n}\"\n",
    "        MODEL_DICT[str(n)] = file_name1+deg+file_name2+directions+file_name3\n",
    "    shape = shape_of_word(P, word)\n",
    "    if shape == None or is_2row(shape) == False:\n",
    "        print(f\"Error: The shape of word is {shape}.\")\n",
    "        return\n",
    "    n = shape[0] - shape[1]\n",
    "        \n",
    "    print(f\"P = {P}, word = {word}, shape = {shape}\")\n",
    "    while n <= len(word):\n",
    "        res_P, res_word = restricted_P_word(P, word[-n:])\n",
    "        if n <= 3:\n",
    "            print(word[-n:], is_good_P_hook(res_P, res_word))\n",
    "        else:\n",
    "            print(word[-n:], predict_tableau(res_P, res_word, MODEL_DICT[str(n)]))\n",
    "        n += 2"
   ]
  },
  {
   "cell_type": "code",
   "execution_count": null,
   "id": "5a67488b",
   "metadata": {},
   "outputs": [],
   "source": [
    "P, word = [3, 4, 6, 6, 6, 7, 7], [6, 1, 7, 5, 4, 3, 2]\n",
    "print(check_bad_2row_criterion(P, word))\n",
    "print(check_disconnectedness_criterion(P,\n",
    "                                       word,\n",
    "                                       split_into_connected_components(P),\n",
    "                                       index_set_from_connected_components(split_into_connected_components(P)),\n",
    "                                      ))"
   ]
  },
  {
   "cell_type": "code",
   "execution_count": null,
   "id": "0aa45372",
   "metadata": {
    "scrolled": false
   },
   "outputs": [],
   "source": [
    "inductive_prediction_2row(P, word, 'BFB')"
   ]
  },
  {
   "cell_type": "code",
   "execution_count": null,
   "id": "4eeff824",
   "metadata": {},
   "outputs": [],
   "source": [
    "inductive_prediction_2row(P, word, 'BB2')"
   ]
  },
  {
   "cell_type": "code",
   "execution_count": null,
   "id": "a2a06c46",
   "metadata": {},
   "outputs": [],
   "source": []
  },
  {
   "cell_type": "code",
   "execution_count": null,
   "id": "a304f5e4",
   "metadata": {},
   "outputs": [],
   "source": [
    "MODELS = load_models(show=False,keywords=['7_7', 'v2', '', 'all', 'all_with_all_row_connectedness_criterion_dis'], cutoff=0.9955)\n",
    "P, word = [2, 4, 4, 5, 6, 6, 7], [7, 4, 1, 5, 3, 6, 2]\n",
    "P, word = [2, 4, 4, 5, 6, 6, 7], [7, 4, 1, 6, 2, 5, 3]\n",
    "P, word = [2,4,4,6,6,7,7], [6,1,7,5,4,3,2]\n",
    "# P, word = [2, 4, 4, 5, 6, 6, 7], [7, 5, 3, 1, 6, 4, 2]\n",
    "P, word = [2,5,5,5,6,7,7], [5,1,7,3,6,4,2]\n",
    "P, word = [2,4,4,5,5,7,7], [6,3,1,7,5,2,4]\n",
    "print(shape_of_word(P, word))\n",
    "compare_models(P, word, MODELS)"
   ]
  },
  {
   "cell_type": "code",
   "execution_count": null,
   "id": "4917bb41",
   "metadata": {},
   "outputs": [],
   "source": [
    "MODELS = load_models(show=False,keywords=['8_8', 'v2', '', 'all', 'all_with_all_row_connectedness_criterion_dis'], cutoff=0.9955)\n",
    "P, word = [2,4,4,6,6,7,7,8], [8,6,1,7,5,4,3,2]\n",
    "P, word = [2,4,4,5,6,6,7,8], [8,7,4,1,6,3,5,2]\n",
    "print(shape_of_word(P, word))\n",
    "compare_models(P, word, MODELS)\n",
    "\n"
   ]
  },
  {
   "cell_type": "code",
   "execution_count": null,
   "id": "fbae447c",
   "metadata": {},
   "outputs": [],
   "source": [
    "##### Backward #####\n",
    "P, word = [2,5,5,5,6,7,7], [6,3,1,7,2,4,5]\n",
    "\n",
    "# P, word = [2,4,4,4,6,7,7], [5,4,1,7,3,6,2]\n",
    "# P, word = [2,3,3,5,7,7,7], [7,4,1,6,3,5,2]\n",
    "\n",
    "P, word = [2,4,4,4,6,7,7], [7,5,1,6,4,2,3]\n",
    "# P, word = [2,3,3,5,7,7,7], [4,3,1,7,2,5,6]\n",
    "\n",
    "P, word = [3, 3, 4, 5, 7, 7, 7], [6, 4, 7, 3, 1, 2, 5]\n",
    "\n",
    "P, word = [2, 4, 4, 5, 6, 6, 7], [7,4,1,5,3,6,2]\n",
    "P, word = [2, 4, 4, 5, 6, 6, 7], [7,4,1,6,2,5,3]\n",
    "P, word = [2, 4, 4, 5, 6, 6, 7], [7,6,3,5,2,4,1]\n",
    "P, word = [2, 4, 4, 5, 6, 6, 7], [7,4,1,6,3,5,2]\n",
    "P, word = [2, 4, 4, 5, 6, 6, 7], [7,6,4,1,5,3,2]\n",
    "\n",
    "print(shape_of_word(P, word))\n",
    "compare_models(P, word, MODELS)"
   ]
  },
  {
   "cell_type": "code",
   "execution_count": null,
   "id": "d5301bfb",
   "metadata": {},
   "outputs": [],
   "source": [
    "##### Forward #####\n",
    "P, word = [2,3,6,6,6,7,7], [4,2,6,1,7,3,5]\n",
    "P, word = [2,3,6,6,6,7,7], [6,1,4,2,7,3,5]\n",
    "P, word = [2,3,6,6,6,7,7], [6,2,4,1,7,3,5]\n",
    "P, word = [2,3,6,6,6,7,7], [7,3,6,2,4,1,5]\n",
    "\n",
    "P, word = [2,4,6,6,6,7,7], [6,2,5,1,7,3,4]\n",
    "P, word = [2,4,6,6,6,7,7], [7,3,6,2,5,1,4]\n",
    "\n",
    "P, word = [2,4,6,6,6,7,7], [5,2,6,1,7,3,4]\n",
    "P, word = [2,4,6,6,6,7,7], [7,3,6,2,4,1,5]\n",
    "P, word = [2,4,6,6,6,7,7], [6,1,5,2,7,3,4]\n",
    "\n",
    "P, word = [3,4,6,6,6,7,7], [6,2,5,1,7,4,3]\n",
    "P, word = [3,4,6,6,6,7,7], [7,3,6,2,5,1,4]\n",
    "P, word = [3,4,6,6,6,7,7], [7,4,6,2,5,1,3]\n",
    "\n",
    "P, word = [2,3,6,6,7,7,7], [4,2,5,1,7,3,6]\n",
    "P, word = [2,3,6,6,7,7,7], [5,1,4,2,7,3,6]\n",
    "P, word = [2,3,6,6,7,7,7], [5,1,6,2,7,3,4]\n",
    "\n",
    "P, word = [2,3,6,6,7,7,7], [5,2,4,1,7,3,6]\n",
    "P, word = [2,3,6,6,7,7,7], [7,3,5,2,4,1,6]\n",
    "P, word = [2,3,6,6,7,7,7], [5,2,6,1,7,3,4]\n",
    "\n",
    "P, word = [3, 5, 5, 5, 6, 7, 7], [7, 3, 6, 2, 5, 1, 4]      ## GOOD\n",
    "P, word = [3, 5, 5, 5, 6, 7, 7], [6, 3, 5, 1, 7, 4, 2]      ## BAD\n",
    "P, word = [3, 5, 5, 5, 6, 7, 7], [4, 1, 7, 5, 6, 3, 2]      ## BAD\n",
    "P, word = [3, 5, 5, 5, 6, 7, 7], [5, 1, 7, 3, 6, 4, 2]      ## ??\n",
    "P, word = [3, 5, 5, 5, 6, 7, 7], [5, 1, 6, 4, 7, 3, 2]      ## maybe GOOD\n",
    "\n",
    "print(shape_of_word(P, word))\n",
    "compare_models(P, word, MODELS)"
   ]
  },
  {
   "cell_type": "code",
   "execution_count": null,
   "id": "b24b8f3f",
   "metadata": {},
   "outputs": [],
   "source": [
    "P, word = [2,3,4,6,6,7,7], [7,5,3,1,6,2,4]\n",
    "print(shape_of_word(P, word))\n",
    "compare_models(P, word, MODELS)"
   ]
  },
  {
   "cell_type": "code",
   "execution_count": null,
   "id": "99603bf8",
   "metadata": {},
   "outputs": [],
   "source": [
    "P, word = [3,3,6,6,6,7,7],[5,2,4,1,7,3,6]\n",
    "print(shape_of_word(P, word))\n",
    "compare_models(P, word, MODELS)"
   ]
  },
  {
   "cell_type": "code",
   "execution_count": null,
   "id": "e5b6beb6",
   "metadata": {},
   "outputs": [],
   "source": [
    "inc = [(1,2), (2,3), (3,4), (5,6), (6,7)]\n",
    "exc = [(1,3), (1,6), (5,7)]\n",
    "n = 7\n",
    "cnt = 0\n",
    "for P in generate_UIO(n):\n",
    "    if all(P[a-1] >= b for (a,b) in inc) and all(P[a-1] < b for (a,b) in exc):\n",
    "        print(P)\n",
    "        cnt += 1\n",
    "print(cnt)"
   ]
  },
  {
   "cell_type": "code",
   "execution_count": null,
   "id": "1fead048",
   "metadata": {},
   "outputs": [],
   "source": [
    "P, word = [2,4,4,6,6,7,7], [6,1,7,5,4,3,2]\n",
    "print(shape_of_word(P, word))\n",
    "compare_models(P, word, MODELS)"
   ]
  },
  {
   "cell_type": "code",
   "execution_count": null,
   "id": "7e3ea31f",
   "metadata": {},
   "outputs": [],
   "source": [
    "restricted_P_word(P, word[0:])"
   ]
  },
  {
   "cell_type": "code",
   "execution_count": null,
   "id": "df7cb163",
   "metadata": {},
   "outputs": [],
   "source": [
    "res_P, res_word = restricted_P_word(P, word[0:])\n",
    "predict_tableau(res_P, res_word, MODEL_DICT['7'])"
   ]
  },
  {
   "cell_type": "code",
   "execution_count": null,
   "id": "95cacc01",
   "metadata": {},
   "outputs": [],
   "source": [
    "with open('/Data/Ptab/n=8_all_with_inductive_disconnectedness_criterion_disconnected/labels.json', 'r') as f:\n",
    "    labels = json.load(f)"
   ]
  },
  {
   "cell_type": "code",
   "execution_count": null,
   "id": "f1afd98e",
   "metadata": {},
   "outputs": [],
   "source": [
    "labels.index(400)"
   ]
  },
  {
   "cell_type": "code",
   "execution_count": null,
   "id": "14d9ce52",
   "metadata": {},
   "outputs": [],
   "source": [
    "i = 57282"
   ]
  },
  {
   "cell_type": "code",
   "execution_count": null,
   "id": "04eaabec",
   "metadata": {},
   "outputs": [],
   "source": [
    "i = 85031\n",
    "PATH = f'/Data/Ptab/n=8_all_with_inductive_disconnectedness_criterion_disconnected/graph_{i:05d}.npz'\n",
    "D = nx.from_scipy_sparse_array(sp.load_npz(PATH), create_using=nx.DiGraph)\n",
    "len(D.nodes), labels[i]*8"
   ]
  },
  {
   "cell_type": "code",
   "execution_count": null,
   "id": "180da31e",
   "metadata": {},
   "outputs": [],
   "source": [
    "N = 8\n",
    "\n",
    "with open(f'/Data/Ptab/n={N}_all_with_inductive_disconnectedness_criterion_disconnected/labels.json', 'r') as f:\n",
    "    labels = json.load(f)\n",
    "\n",
    "for i, label in enumerate(labels):\n",
    "    PATH = f'/Data/Ptab/n={N}_all_with_inductive_disconnectedness_criterion_disconnected/graph_{i:05d}.npz'\n",
    "    D = nx.from_scipy_sparse_array(sp.load_npz(PATH), create_using=nx.DiGraph)\n",
    "    if len(D.nodes) != label * N and len(D.nodes) > N and label == 0:\n",
    "        print(len(D.nodes), label, i)"
   ]
  },
  {
   "cell_type": "code",
   "execution_count": null,
   "id": "f7e6580e",
   "metadata": {},
   "outputs": [],
   "source": [
    "D.edges(data='weight')"
   ]
  },
  {
   "cell_type": "code",
   "execution_count": null,
   "id": "51e33bfb",
   "metadata": {},
   "outputs": [],
   "source": [
    "\n",
    "def iter_graph(DATA_DIR):\n",
    "    NUM_GRAPHS = len([f for f in os.listdir(DATA_DIR) if f.startswith(\"graph_\")])\n",
    "    for i in range(NUM_GRAPHS):\n",
    "        filename = os.path.join(DATA_DIR, f\"graph_{i:05d}.npz\")\n",
    "        yield nx.from_scipy_sparse_matrix(\n",
    "            sp.load_npz(filename), create_using=nx.DiGraph)\n"
   ]
  },
  {
   "cell_type": "code",
   "execution_count": null,
   "id": "4c964a46",
   "metadata": {},
   "outputs": [],
   "source": []
  },
  {
   "cell_type": "code",
   "execution_count": null,
   "id": "aa3733a0",
   "metadata": {},
   "outputs": [],
   "source": [
    "P, word = [2,5,5,5,6,7,7], [5,1,7,3,6,4,2]"
   ]
  },
  {
   "cell_type": "code",
   "execution_count": null,
   "id": "63ac2b2b",
   "metadata": {},
   "outputs": [],
   "source": [
    "orbit_words = words_from_orbit(P, word)"
   ]
  },
  {
   "cell_type": "code",
   "execution_count": null,
   "id": "4d67bcba",
   "metadata": {},
   "outputs": [],
   "source": [
    "word_list = []\n",
    "for word in orbit_words:\n",
    "    if word in word_list: continue\n",
    "    words = words_from_Blasiak_variant1_orbit(P, word)\n",
    "    word_list.extend(words)\n",
    "    cnt = 0\n",
    "    for word in words:\n",
    "        shape = shape_of_word(P, word)\n",
    "        if shape == None: continue\n",
    "        if predict_tableau(P, word, MODELS[3]) > 0.9:\n",
    "            cnt += 1\n",
    "    print(cnt, words[0], h_expansion(P, words))\n",
    "    print(\"============================================\")"
   ]
  },
  {
   "cell_type": "code",
   "execution_count": null,
   "id": "b5720687",
   "metadata": {},
   "outputs": [],
   "source": [
    "MODEL_DIR = \"./trained_models\"\n",
    "MODEL_PASTE_DIR = \"./trained_models_temp\"\n",
    "GPU_NUM = \"0\""
   ]
  },
  {
   "cell_type": "code",
   "execution_count": null,
   "id": "032c16d2",
   "metadata": {},
   "outputs": [],
   "source": [
    "for f in os.listdir(MODEL_DIR):\n",
    "    if not f.endswith('.pickle'): continue\n",
    "    if not f.startswith('parameter'): continue\n",
    "    MODEL_PATH = os.path.join(MODEL_DIR, f)\n",
    "    with open(MODEL_PATH, 'rb') as file:\n",
    "        MODEL, acc1, acc2 = pickle.load(file)\n",
    "    MODEL_PASTE_PATH = os.path.join(MODEL_PASTE_DIR, f)\n",
    "    with open(MODEL_PASTE_PATH, 'wb') as file:\n",
    "        pickle.dump((MODEL, acc1, acc2, GPU_NUM), file)"
   ]
  },
  {
   "cell_type": "code",
   "execution_count": null,
   "id": "52a7647d",
   "metadata": {},
   "outputs": [],
   "source": [
    "for f in os.listdir(MODEL_DIR):\n",
    "    if not f.endswith('.pickle'): continue\n",
    "    if not all(keyword in f for keyword in keywords): continue\n",
    "    MODEL = os.path.join(MODEL_DIR, f)\n",
    "    with open(MODEL, 'rb') as file:\n",
    "        _, acc, _ = pickle.load(file)\n",
    "        if acc > cutoff:\n",
    "            MODELS.append(MODEL)\n",
    "            if show == True:\n",
    "                MODEL = MODEL.split('parameters_')[-1].split('.')[0]\n",
    "                print(f'{len(MODELS)-1:3d} {acc:.4f} {MODEL}')\n",
    "return MODELS"
   ]
  }
 ],
 "metadata": {
  "kernelspec": {
   "display_name": "Python [conda env:mpnn]",
   "language": "python",
   "name": "conda-env-mpnn-py"
  },
  "language_info": {
   "codemirror_mode": {
    "name": "ipython",
    "version": 3
   },
   "file_extension": ".py",
   "mimetype": "text/x-python",
   "name": "python",
   "nbconvert_exporter": "python",
   "pygments_lexer": "ipython3",
   "version": "3.9.16"
  }
 },
 "nbformat": 4,
 "nbformat_minor": 5
}
