{
 "cells": [
  {
   "cell_type": "code",
   "execution_count": 1,
   "id": "922d0b51",
   "metadata": {},
   "outputs": [
    {
     "name": "stderr",
     "output_type": "stream",
     "text": [
      "/usr/lib/python3/dist-packages/networkx/readwrite/graphml.py:346: DeprecationWarning: `np.int` is a deprecated alias for the builtin `int`. To silence this warning, use `int` by itself. Doing this will not modify any behavior and is safe. When replacing `np.int`, you may wish to use e.g. `np.int64` or `np.int32` to specify the precision. If you wish to review your current use, check the release note link for additional information.\n",
      "Deprecated in NumPy 1.20; for more details and guidance: https://numpy.org/devdocs/release/1.20.0-notes.html#deprecations\n",
      "  (np.int, \"int\"), (np.int8, \"int\"),\n",
      "/usr/lib/python3/dist-packages/networkx/readwrite/gexf.py:223: DeprecationWarning: `np.int` is a deprecated alias for the builtin `int`. To silence this warning, use `int` by itself. Doing this will not modify any behavior and is safe. When replacing `np.int`, you may wish to use e.g. `np.int64` or `np.int32` to specify the precision. If you wish to review your current use, check the release note link for additional information.\n",
      "Deprecated in NumPy 1.20; for more details and guidance: https://numpy.org/devdocs/release/1.20.0-notes.html#deprecations\n",
      "  (np.int, \"int\"), (np.int8, \"int\"),\n",
      "/usr/local/lib/python3.8/dist-packages/torch/__config__.py:10: UserWarning: CUDA initialization: The NVIDIA driver on your system is too old (found version 11080). Please update your GPU driver by downloading and installing a new version from the URL: http://www.nvidia.com/Download/index.aspx Alternatively, go to: https://pytorch.org to install a PyTorch version that has been compiled with your version of the CUDA driver. (Triggered internally at ../c10/cuda/CUDAFunctions.cpp:108.)\n",
      "  return torch._C._show_config()\n"
     ]
    }
   ],
   "source": [
    "from predictor import *"
   ]
  },
  {
   "cell_type": "code",
   "execution_count": 2,
   "id": "4cc45f62",
   "metadata": {},
   "outputs": [],
   "source": [
    "epos_sage_dir = 'e-positivity.sage'\n",
    "load(epos_sage_dir)"
   ]
  },
  {
   "cell_type": "code",
   "execution_count": 3,
   "id": "dc1a2eaf",
   "metadata": {},
   "outputs": [],
   "source": [
    "Plist = generate_UIO(6,connected=True)"
   ]
  },
  {
   "cell_type": "code",
   "execution_count": 15,
   "id": "fb0577b8",
   "metadata": {},
   "outputs": [],
   "source": [
    "import itertools\n",
    "\n",
    "def permutations_list(n):\n",
    "    \"\"\"Return all permutations of [1, 2, ..., n] as a list of lists.\"\"\"\n",
    "    # itertools.permutations(range(1, n+1)) generates tuples like (1,2,3)\n",
    "    # Convert each tuple to a list\n",
    "    return [list(p) for p in itertools.permutations(range(1, n + 1))]\n",
    "def get_P_orbits(P):\n",
    "    n = len(P)\n",
    "    total_words = permutations_list(n)\n",
    "    used_words = []\n",
    "    P_orbits = []\n",
    "    while total_words:\n",
    "        word = total_words.pop()\n",
    "        if word in used_words:\n",
    "            continue\n",
    "        words = words_from_orbit(P,word)\n",
    "        used_words += words\n",
    "        P_orbits.append(words)\n",
    "    return P_orbits\n",
    "def get_shapes_in_orbit(P_orbit):\n",
    "    for word in P_orbit:\n",
    "        \n",
    "    \n",
    "# Example usage:\n",
    "total_words = permutations_list(5)"
   ]
  },
  {
   "cell_type": "code",
   "execution_count": 16,
   "id": "0836a338",
   "metadata": {},
   "outputs": [],
   "source": [
    "P_orbits = get_P_orbits(P)\n"
   ]
  },
  {
   "cell_type": "code",
   "execution_count": 18,
   "id": "35a0f559",
   "metadata": {},
   "outputs": [
    {
     "data": {
      "text/plain": [
       "8"
      ]
     },
     "execution_count": 18,
     "metadata": {},
     "output_type": "execute_result"
    }
   ],
   "source": [
    "len(P_orbits)"
   ]
  },
  {
   "cell_type": "code",
   "execution_count": 4,
   "id": "083519bf",
   "metadata": {},
   "outputs": [
    {
     "name": "stdout",
     "output_type": "stream",
     "text": [
      "[4, 1]\n"
     ]
    }
   ],
   "source": [
    "P=[2,4,4,5,5]\n",
    "word = [3,1,5,2,4]\n",
    "words = words_from_orbit(P,word)\n",
    "original_shape = shape_of_word(P,word) \n",
    "original_shape = [4,1] \n",
    "\n",
    "print(original_shape)\n",
    "sym = h(F_gamma(P,words).to_symmetric_function())"
   ]
  },
  {
   "cell_type": "code",
   "execution_count": 5,
   "id": "bcd93667",
   "metadata": {},
   "outputs": [
    {
     "data": {
      "text/plain": [
       "h[3, 1, 1] + h[3, 2] + 3*h[4, 1] + 2*h[5]"
      ]
     },
     "execution_count": 5,
     "metadata": {},
     "output_type": "execute_result"
    }
   ],
   "source": [
    "sym"
   ]
  },
  {
   "cell_type": "code",
   "execution_count": 6,
   "id": "6e9f2042",
   "metadata": {},
   "outputs": [
    {
     "data": {
      "text/plain": [
       "3"
      ]
     },
     "execution_count": 6,
     "metadata": {},
     "output_type": "execute_result"
    }
   ],
   "source": [
    "sym.coefficient(original_shape)"
   ]
  },
  {
   "cell_type": "code",
   "execution_count": 7,
   "id": "d401a47c",
   "metadata": {},
   "outputs": [],
   "source": [
    "def check_shape(shape1,shape2):\n",
    "    if not shape1 or not shape2:\n",
    "        return False\n",
    "    if len(shape1)!= len(shape2):\n",
    "        return False\n",
    "    for int1, int2 in zip(shape1,shape2):\n",
    "        if int1 != int2:\n",
    "            return False\n",
    "    return True"
   ]
  },
  {
   "cell_type": "code",
   "execution_count": 8,
   "id": "abaffe75",
   "metadata": {
    "scrolled": false
   },
   "outputs": [
    {
     "name": "stdout",
     "output_type": "stream",
     "text": [
      "[[1, 2, 5, 4], [3]] Passed\n",
      "[[1, 3, 2, 4], [5]] Passed\n",
      "[[1, 2, 4, 3], [5]] Passed\n",
      "sum 3\n"
     ]
    }
   ],
   "source": [
    "sum = 0 \n",
    "for word in words: \n",
    "    shape = shape_of_word(P,word)\n",
    "    if not check_shape(original_shape,shape): continue\n",
    "    if not check_all_row_connected(P, word, direction='B'):continue\n",
    "#     if check_inductive_disconnectedness_criterion(P, word) :continue\n",
    "    \n",
    "    T = PTab_from_word(P,word)\n",
    "    print(T, \"Passed\")\n",
    "    sum+=1\n",
    "#     print(predict_tableau(P,word))\n",
    "#     sum+=predict_tableau(P,word)\n",
    "print(\"sum\", sum)"
   ]
  },
  {
   "cell_type": "code",
   "execution_count": 9,
   "id": "b4d9fb5f",
   "metadata": {},
   "outputs": [
    {
     "data": {
      "text/plain": [
       "m[1, 1, 1] + m[2, 2, 2, 1, 1]"
      ]
     },
     "execution_count": 9,
     "metadata": {},
     "output_type": "execute_result"
    }
   ],
   "source": [
    "### D_lambda,mu\n",
    "lamb = [2,2,2,1,1]\n",
    "k = 3\n",
    "m(lamb)+e([k])"
   ]
  }
 ],
 "metadata": {
  "kernelspec": {
   "display_name": "SageMath 9.0",
   "language": "sage",
   "name": "sagemath"
  },
  "language_info": {
   "codemirror_mode": {
    "name": "ipython",
    "version": 3
   },
   "file_extension": ".py",
   "mimetype": "text/x-python",
   "name": "python",
   "nbconvert_exporter": "python",
   "pygments_lexer": "ipython3",
   "version": "3.8.10"
  }
 },
 "nbformat": 4,
 "nbformat_minor": 5
}
